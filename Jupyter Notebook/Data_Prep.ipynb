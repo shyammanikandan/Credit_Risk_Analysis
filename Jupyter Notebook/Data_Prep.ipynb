{
 "cells": [
  {
   "cell_type": "code",
   "execution_count": 7890,
   "id": "db3b2c63",
   "metadata": {},
   "outputs": [],
   "source": [
    "import numpy as np\n",
    "import pandas as pd\n",
    "import seaborn as sns"
   ]
  },
  {
   "cell_type": "code",
   "execution_count": 7891,
   "id": "00426267",
   "metadata": {},
   "outputs": [],
   "source": [
    "df=pd.read_csv('../Data/Credit_score.csv',low_memory=False)\n"
   ]
  },
  {
   "cell_type": "code",
   "execution_count": 7892,
   "id": "3146420f",
   "metadata": {},
   "outputs": [],
   "source": [
    "pd.options.display.max_columns=30"
   ]
  },
  {
   "cell_type": "code",
   "execution_count": 7893,
   "id": "049582bf",
   "metadata": {},
   "outputs": [
    {
     "data": {
      "text/html": [
       "<div>\n",
       "<style scoped>\n",
       "    .dataframe tbody tr th:only-of-type {\n",
       "        vertical-align: middle;\n",
       "    }\n",
       "\n",
       "    .dataframe tbody tr th {\n",
       "        vertical-align: top;\n",
       "    }\n",
       "\n",
       "    .dataframe thead th {\n",
       "        text-align: right;\n",
       "    }\n",
       "</style>\n",
       "<table border=\"1\" class=\"dataframe\">\n",
       "  <thead>\n",
       "    <tr style=\"text-align: right;\">\n",
       "      <th></th>\n",
       "      <th>ID</th>\n",
       "      <th>Customer_ID</th>\n",
       "      <th>Month</th>\n",
       "      <th>Name</th>\n",
       "      <th>Age</th>\n",
       "      <th>SSN</th>\n",
       "      <th>Occupation</th>\n",
       "      <th>Annual_Income</th>\n",
       "      <th>Monthly_Inhand_Salary</th>\n",
       "      <th>Num_Bank_Accounts</th>\n",
       "      <th>Num_Credit_Card</th>\n",
       "      <th>Interest_Rate</th>\n",
       "      <th>Num_of_Loan</th>\n",
       "      <th>Type_of_Loan</th>\n",
       "      <th>Delay_from_due_date</th>\n",
       "      <th>Num_of_Delayed_Payment</th>\n",
       "      <th>Changed_Credit_Limit</th>\n",
       "      <th>Num_Credit_Inquiries</th>\n",
       "      <th>Credit_Mix</th>\n",
       "      <th>Outstanding_Debt</th>\n",
       "      <th>Credit_Utilization_Ratio</th>\n",
       "      <th>Credit_History_Age</th>\n",
       "      <th>Payment_of_Min_Amount</th>\n",
       "      <th>Total_EMI_per_month</th>\n",
       "      <th>Amount_invested_monthly</th>\n",
       "      <th>Payment_Behaviour</th>\n",
       "      <th>Monthly_Balance</th>\n",
       "    </tr>\n",
       "  </thead>\n",
       "  <tbody>\n",
       "    <tr>\n",
       "      <th>0</th>\n",
       "      <td>0x1602</td>\n",
       "      <td>CUS_0xd40</td>\n",
       "      <td>January</td>\n",
       "      <td>Aaron Maashoh</td>\n",
       "      <td>23</td>\n",
       "      <td>821-00-0265</td>\n",
       "      <td>Scientist</td>\n",
       "      <td>19114.12</td>\n",
       "      <td>1824.843333</td>\n",
       "      <td>3</td>\n",
       "      <td>4</td>\n",
       "      <td>3</td>\n",
       "      <td>4</td>\n",
       "      <td>Auto Loan, Credit-Builder Loan, Personal Loan,...</td>\n",
       "      <td>3</td>\n",
       "      <td>7</td>\n",
       "      <td>11.27</td>\n",
       "      <td>4.0</td>\n",
       "      <td>_</td>\n",
       "      <td>809.98</td>\n",
       "      <td>26.822620</td>\n",
       "      <td>22 Years and 1 Months</td>\n",
       "      <td>No</td>\n",
       "      <td>49.574949</td>\n",
       "      <td>80.41529544</td>\n",
       "      <td>High_spent_Small_value_payments</td>\n",
       "      <td>312.4940887</td>\n",
       "    </tr>\n",
       "    <tr>\n",
       "      <th>1</th>\n",
       "      <td>0x1603</td>\n",
       "      <td>CUS_0xd40</td>\n",
       "      <td>February</td>\n",
       "      <td>Aaron Maashoh</td>\n",
       "      <td>23</td>\n",
       "      <td>821-00-0265</td>\n",
       "      <td>Scientist</td>\n",
       "      <td>19114.12</td>\n",
       "      <td>NaN</td>\n",
       "      <td>3</td>\n",
       "      <td>4</td>\n",
       "      <td>3</td>\n",
       "      <td>4</td>\n",
       "      <td>Auto Loan, Credit-Builder Loan, Personal Loan,...</td>\n",
       "      <td>-1</td>\n",
       "      <td>NaN</td>\n",
       "      <td>11.27</td>\n",
       "      <td>4.0</td>\n",
       "      <td>Good</td>\n",
       "      <td>809.98</td>\n",
       "      <td>31.944960</td>\n",
       "      <td>NaN</td>\n",
       "      <td>No</td>\n",
       "      <td>49.574949</td>\n",
       "      <td>118.2802216</td>\n",
       "      <td>Low_spent_Large_value_payments</td>\n",
       "      <td>284.6291625</td>\n",
       "    </tr>\n",
       "    <tr>\n",
       "      <th>2</th>\n",
       "      <td>0x1604</td>\n",
       "      <td>CUS_0xd40</td>\n",
       "      <td>March</td>\n",
       "      <td>Aaron Maashoh</td>\n",
       "      <td>-500</td>\n",
       "      <td>821-00-0265</td>\n",
       "      <td>Scientist</td>\n",
       "      <td>19114.12</td>\n",
       "      <td>NaN</td>\n",
       "      <td>3</td>\n",
       "      <td>4</td>\n",
       "      <td>3</td>\n",
       "      <td>4</td>\n",
       "      <td>Auto Loan, Credit-Builder Loan, Personal Loan,...</td>\n",
       "      <td>3</td>\n",
       "      <td>7</td>\n",
       "      <td>_</td>\n",
       "      <td>4.0</td>\n",
       "      <td>Good</td>\n",
       "      <td>809.98</td>\n",
       "      <td>28.609352</td>\n",
       "      <td>22 Years and 3 Months</td>\n",
       "      <td>No</td>\n",
       "      <td>49.574949</td>\n",
       "      <td>81.69952126</td>\n",
       "      <td>Low_spent_Medium_value_payments</td>\n",
       "      <td>331.2098629</td>\n",
       "    </tr>\n",
       "    <tr>\n",
       "      <th>3</th>\n",
       "      <td>0x1605</td>\n",
       "      <td>CUS_0xd40</td>\n",
       "      <td>April</td>\n",
       "      <td>Aaron Maashoh</td>\n",
       "      <td>23</td>\n",
       "      <td>821-00-0265</td>\n",
       "      <td>Scientist</td>\n",
       "      <td>19114.12</td>\n",
       "      <td>NaN</td>\n",
       "      <td>3</td>\n",
       "      <td>4</td>\n",
       "      <td>3</td>\n",
       "      <td>4</td>\n",
       "      <td>Auto Loan, Credit-Builder Loan, Personal Loan,...</td>\n",
       "      <td>5</td>\n",
       "      <td>4</td>\n",
       "      <td>6.27</td>\n",
       "      <td>4.0</td>\n",
       "      <td>Good</td>\n",
       "      <td>809.98</td>\n",
       "      <td>31.377862</td>\n",
       "      <td>22 Years and 4 Months</td>\n",
       "      <td>No</td>\n",
       "      <td>49.574949</td>\n",
       "      <td>199.4580744</td>\n",
       "      <td>Low_spent_Small_value_payments</td>\n",
       "      <td>223.4513097</td>\n",
       "    </tr>\n",
       "    <tr>\n",
       "      <th>4</th>\n",
       "      <td>0x1606</td>\n",
       "      <td>CUS_0xd40</td>\n",
       "      <td>May</td>\n",
       "      <td>Aaron Maashoh</td>\n",
       "      <td>23</td>\n",
       "      <td>821-00-0265</td>\n",
       "      <td>Scientist</td>\n",
       "      <td>19114.12</td>\n",
       "      <td>1824.843333</td>\n",
       "      <td>3</td>\n",
       "      <td>4</td>\n",
       "      <td>3</td>\n",
       "      <td>4</td>\n",
       "      <td>Auto Loan, Credit-Builder Loan, Personal Loan,...</td>\n",
       "      <td>6</td>\n",
       "      <td>NaN</td>\n",
       "      <td>11.27</td>\n",
       "      <td>4.0</td>\n",
       "      <td>Good</td>\n",
       "      <td>809.98</td>\n",
       "      <td>24.797347</td>\n",
       "      <td>22 Years and 5 Months</td>\n",
       "      <td>No</td>\n",
       "      <td>49.574949</td>\n",
       "      <td>41.42015309</td>\n",
       "      <td>High_spent_Medium_value_payments</td>\n",
       "      <td>341.489231</td>\n",
       "    </tr>\n",
       "    <tr>\n",
       "      <th>5</th>\n",
       "      <td>0x1607</td>\n",
       "      <td>CUS_0xd40</td>\n",
       "      <td>June</td>\n",
       "      <td>Aaron Maashoh</td>\n",
       "      <td>23</td>\n",
       "      <td>821-00-0265</td>\n",
       "      <td>Scientist</td>\n",
       "      <td>19114.12</td>\n",
       "      <td>NaN</td>\n",
       "      <td>3</td>\n",
       "      <td>4</td>\n",
       "      <td>3</td>\n",
       "      <td>4</td>\n",
       "      <td>Auto Loan, Credit-Builder Loan, Personal Loan,...</td>\n",
       "      <td>8</td>\n",
       "      <td>4</td>\n",
       "      <td>9.27</td>\n",
       "      <td>4.0</td>\n",
       "      <td>Good</td>\n",
       "      <td>809.98</td>\n",
       "      <td>27.262259</td>\n",
       "      <td>22 Years and 6 Months</td>\n",
       "      <td>No</td>\n",
       "      <td>49.574949</td>\n",
       "      <td>62.43017233</td>\n",
       "      <td>!@9#%8</td>\n",
       "      <td>340.4792118</td>\n",
       "    </tr>\n",
       "    <tr>\n",
       "      <th>6</th>\n",
       "      <td>0x1608</td>\n",
       "      <td>CUS_0xd40</td>\n",
       "      <td>July</td>\n",
       "      <td>Aaron Maashoh</td>\n",
       "      <td>23</td>\n",
       "      <td>821-00-0265</td>\n",
       "      <td>Scientist</td>\n",
       "      <td>19114.12</td>\n",
       "      <td>1824.843333</td>\n",
       "      <td>3</td>\n",
       "      <td>4</td>\n",
       "      <td>3</td>\n",
       "      <td>4</td>\n",
       "      <td>Auto Loan, Credit-Builder Loan, Personal Loan,...</td>\n",
       "      <td>3</td>\n",
       "      <td>8_</td>\n",
       "      <td>11.27</td>\n",
       "      <td>4.0</td>\n",
       "      <td>Good</td>\n",
       "      <td>809.98</td>\n",
       "      <td>22.537593</td>\n",
       "      <td>22 Years and 7 Months</td>\n",
       "      <td>No</td>\n",
       "      <td>49.574949</td>\n",
       "      <td>178.3440674</td>\n",
       "      <td>Low_spent_Small_value_payments</td>\n",
       "      <td>244.5653167</td>\n",
       "    </tr>\n",
       "    <tr>\n",
       "      <th>7</th>\n",
       "      <td>0x1609</td>\n",
       "      <td>CUS_0xd40</td>\n",
       "      <td>August</td>\n",
       "      <td>NaN</td>\n",
       "      <td>23</td>\n",
       "      <td>#F%$D@*&amp;8</td>\n",
       "      <td>Scientist</td>\n",
       "      <td>19114.12</td>\n",
       "      <td>1824.843333</td>\n",
       "      <td>3</td>\n",
       "      <td>4</td>\n",
       "      <td>3</td>\n",
       "      <td>4</td>\n",
       "      <td>Auto Loan, Credit-Builder Loan, Personal Loan,...</td>\n",
       "      <td>3</td>\n",
       "      <td>6</td>\n",
       "      <td>11.27</td>\n",
       "      <td>4.0</td>\n",
       "      <td>Good</td>\n",
       "      <td>809.98</td>\n",
       "      <td>23.933795</td>\n",
       "      <td>NaN</td>\n",
       "      <td>No</td>\n",
       "      <td>49.574949</td>\n",
       "      <td>24.78521651</td>\n",
       "      <td>High_spent_Medium_value_payments</td>\n",
       "      <td>358.1241676</td>\n",
       "    </tr>\n",
       "  </tbody>\n",
       "</table>\n",
       "</div>"
      ],
      "text/plain": [
       "       ID Customer_ID     Month           Name   Age          SSN Occupation  \\\n",
       "0  0x1602   CUS_0xd40   January  Aaron Maashoh    23  821-00-0265  Scientist   \n",
       "1  0x1603   CUS_0xd40  February  Aaron Maashoh    23  821-00-0265  Scientist   \n",
       "2  0x1604   CUS_0xd40     March  Aaron Maashoh  -500  821-00-0265  Scientist   \n",
       "3  0x1605   CUS_0xd40     April  Aaron Maashoh    23  821-00-0265  Scientist   \n",
       "4  0x1606   CUS_0xd40       May  Aaron Maashoh    23  821-00-0265  Scientist   \n",
       "5  0x1607   CUS_0xd40      June  Aaron Maashoh    23  821-00-0265  Scientist   \n",
       "6  0x1608   CUS_0xd40      July  Aaron Maashoh    23  821-00-0265  Scientist   \n",
       "7  0x1609   CUS_0xd40    August            NaN    23    #F%$D@*&8  Scientist   \n",
       "\n",
       "  Annual_Income  Monthly_Inhand_Salary  Num_Bank_Accounts  Num_Credit_Card  \\\n",
       "0      19114.12            1824.843333                  3                4   \n",
       "1      19114.12                    NaN                  3                4   \n",
       "2      19114.12                    NaN                  3                4   \n",
       "3      19114.12                    NaN                  3                4   \n",
       "4      19114.12            1824.843333                  3                4   \n",
       "5      19114.12                    NaN                  3                4   \n",
       "6      19114.12            1824.843333                  3                4   \n",
       "7      19114.12            1824.843333                  3                4   \n",
       "\n",
       "   Interest_Rate Num_of_Loan  \\\n",
       "0              3           4   \n",
       "1              3           4   \n",
       "2              3           4   \n",
       "3              3           4   \n",
       "4              3           4   \n",
       "5              3           4   \n",
       "6              3           4   \n",
       "7              3           4   \n",
       "\n",
       "                                        Type_of_Loan  Delay_from_due_date  \\\n",
       "0  Auto Loan, Credit-Builder Loan, Personal Loan,...                    3   \n",
       "1  Auto Loan, Credit-Builder Loan, Personal Loan,...                   -1   \n",
       "2  Auto Loan, Credit-Builder Loan, Personal Loan,...                    3   \n",
       "3  Auto Loan, Credit-Builder Loan, Personal Loan,...                    5   \n",
       "4  Auto Loan, Credit-Builder Loan, Personal Loan,...                    6   \n",
       "5  Auto Loan, Credit-Builder Loan, Personal Loan,...                    8   \n",
       "6  Auto Loan, Credit-Builder Loan, Personal Loan,...                    3   \n",
       "7  Auto Loan, Credit-Builder Loan, Personal Loan,...                    3   \n",
       "\n",
       "  Num_of_Delayed_Payment Changed_Credit_Limit  Num_Credit_Inquiries  \\\n",
       "0                      7                11.27                   4.0   \n",
       "1                    NaN                11.27                   4.0   \n",
       "2                      7                    _                   4.0   \n",
       "3                      4                 6.27                   4.0   \n",
       "4                    NaN                11.27                   4.0   \n",
       "5                      4                 9.27                   4.0   \n",
       "6                     8_                11.27                   4.0   \n",
       "7                      6                11.27                   4.0   \n",
       "\n",
       "  Credit_Mix Outstanding_Debt  Credit_Utilization_Ratio  \\\n",
       "0          _           809.98                 26.822620   \n",
       "1       Good           809.98                 31.944960   \n",
       "2       Good           809.98                 28.609352   \n",
       "3       Good           809.98                 31.377862   \n",
       "4       Good           809.98                 24.797347   \n",
       "5       Good           809.98                 27.262259   \n",
       "6       Good           809.98                 22.537593   \n",
       "7       Good           809.98                 23.933795   \n",
       "\n",
       "      Credit_History_Age Payment_of_Min_Amount  Total_EMI_per_month  \\\n",
       "0  22 Years and 1 Months                    No            49.574949   \n",
       "1                    NaN                    No            49.574949   \n",
       "2  22 Years and 3 Months                    No            49.574949   \n",
       "3  22 Years and 4 Months                    No            49.574949   \n",
       "4  22 Years and 5 Months                    No            49.574949   \n",
       "5  22 Years and 6 Months                    No            49.574949   \n",
       "6  22 Years and 7 Months                    No            49.574949   \n",
       "7                    NaN                    No            49.574949   \n",
       "\n",
       "  Amount_invested_monthly                 Payment_Behaviour Monthly_Balance  \n",
       "0             80.41529544   High_spent_Small_value_payments     312.4940887  \n",
       "1             118.2802216    Low_spent_Large_value_payments     284.6291625  \n",
       "2             81.69952126   Low_spent_Medium_value_payments     331.2098629  \n",
       "3             199.4580744    Low_spent_Small_value_payments     223.4513097  \n",
       "4             41.42015309  High_spent_Medium_value_payments      341.489231  \n",
       "5             62.43017233                            !@9#%8     340.4792118  \n",
       "6             178.3440674    Low_spent_Small_value_payments     244.5653167  \n",
       "7             24.78521651  High_spent_Medium_value_payments     358.1241676  "
      ]
     },
     "execution_count": 7893,
     "metadata": {},
     "output_type": "execute_result"
    }
   ],
   "source": [
    "df.head(8)"
   ]
  },
  {
   "cell_type": "code",
   "execution_count": 7894,
   "id": "a58288b9",
   "metadata": {},
   "outputs": [
    {
     "name": "stdout",
     "output_type": "stream",
     "text": [
      "<class 'pandas.core.frame.DataFrame'>\n",
      "RangeIndex: 100000 entries, 0 to 99999\n",
      "Data columns (total 27 columns):\n",
      " #   Column                    Non-Null Count   Dtype  \n",
      "---  ------                    --------------   -----  \n",
      " 0   ID                        100000 non-null  object \n",
      " 1   Customer_ID               100000 non-null  object \n",
      " 2   Month                     100000 non-null  object \n",
      " 3   Name                      90015 non-null   object \n",
      " 4   Age                       100000 non-null  object \n",
      " 5   SSN                       100000 non-null  object \n",
      " 6   Occupation                100000 non-null  object \n",
      " 7   Annual_Income             100000 non-null  object \n",
      " 8   Monthly_Inhand_Salary     84998 non-null   float64\n",
      " 9   Num_Bank_Accounts         100000 non-null  int64  \n",
      " 10  Num_Credit_Card           100000 non-null  int64  \n",
      " 11  Interest_Rate             100000 non-null  int64  \n",
      " 12  Num_of_Loan               100000 non-null  object \n",
      " 13  Type_of_Loan              88592 non-null   object \n",
      " 14  Delay_from_due_date       100000 non-null  int64  \n",
      " 15  Num_of_Delayed_Payment    92998 non-null   object \n",
      " 16  Changed_Credit_Limit      100000 non-null  object \n",
      " 17  Num_Credit_Inquiries      98035 non-null   float64\n",
      " 18  Credit_Mix                100000 non-null  object \n",
      " 19  Outstanding_Debt          100000 non-null  object \n",
      " 20  Credit_Utilization_Ratio  100000 non-null  float64\n",
      " 21  Credit_History_Age        90970 non-null   object \n",
      " 22  Payment_of_Min_Amount     100000 non-null  object \n",
      " 23  Total_EMI_per_month       100000 non-null  float64\n",
      " 24  Amount_invested_monthly   95521 non-null   object \n",
      " 25  Payment_Behaviour         100000 non-null  object \n",
      " 26  Monthly_Balance           98800 non-null   object \n",
      "dtypes: float64(4), int64(4), object(19)\n",
      "memory usage: 20.6+ MB\n"
     ]
    }
   ],
   "source": [
    "df.info()"
   ]
  },
  {
   "cell_type": "code",
   "execution_count": 7895,
   "id": "1f7c2233",
   "metadata": {},
   "outputs": [
    {
     "data": {
      "text/html": [
       "<div>\n",
       "<style scoped>\n",
       "    .dataframe tbody tr th:only-of-type {\n",
       "        vertical-align: middle;\n",
       "    }\n",
       "\n",
       "    .dataframe tbody tr th {\n",
       "        vertical-align: top;\n",
       "    }\n",
       "\n",
       "    .dataframe thead th {\n",
       "        text-align: right;\n",
       "    }\n",
       "</style>\n",
       "<table border=\"1\" class=\"dataframe\">\n",
       "  <thead>\n",
       "    <tr style=\"text-align: right;\">\n",
       "      <th></th>\n",
       "      <th>Monthly_Inhand_Salary</th>\n",
       "      <th>Num_Bank_Accounts</th>\n",
       "      <th>Num_Credit_Card</th>\n",
       "      <th>Interest_Rate</th>\n",
       "      <th>Delay_from_due_date</th>\n",
       "      <th>Num_Credit_Inquiries</th>\n",
       "      <th>Credit_Utilization_Ratio</th>\n",
       "      <th>Total_EMI_per_month</th>\n",
       "    </tr>\n",
       "  </thead>\n",
       "  <tbody>\n",
       "    <tr>\n",
       "      <th>count</th>\n",
       "      <td>84998.000000</td>\n",
       "      <td>100000.000000</td>\n",
       "      <td>100000.00000</td>\n",
       "      <td>100000.000000</td>\n",
       "      <td>100000.000000</td>\n",
       "      <td>98035.000000</td>\n",
       "      <td>100000.000000</td>\n",
       "      <td>100000.000000</td>\n",
       "    </tr>\n",
       "    <tr>\n",
       "      <th>mean</th>\n",
       "      <td>4194.170850</td>\n",
       "      <td>17.091280</td>\n",
       "      <td>22.47443</td>\n",
       "      <td>72.466040</td>\n",
       "      <td>21.068780</td>\n",
       "      <td>27.754251</td>\n",
       "      <td>32.285173</td>\n",
       "      <td>1403.118217</td>\n",
       "    </tr>\n",
       "    <tr>\n",
       "      <th>std</th>\n",
       "      <td>3183.686167</td>\n",
       "      <td>117.404834</td>\n",
       "      <td>129.05741</td>\n",
       "      <td>466.422621</td>\n",
       "      <td>14.860104</td>\n",
       "      <td>193.177339</td>\n",
       "      <td>5.116875</td>\n",
       "      <td>8306.041270</td>\n",
       "    </tr>\n",
       "    <tr>\n",
       "      <th>min</th>\n",
       "      <td>303.645417</td>\n",
       "      <td>-1.000000</td>\n",
       "      <td>0.00000</td>\n",
       "      <td>1.000000</td>\n",
       "      <td>-5.000000</td>\n",
       "      <td>0.000000</td>\n",
       "      <td>20.000000</td>\n",
       "      <td>0.000000</td>\n",
       "    </tr>\n",
       "    <tr>\n",
       "      <th>25%</th>\n",
       "      <td>1625.568229</td>\n",
       "      <td>3.000000</td>\n",
       "      <td>4.00000</td>\n",
       "      <td>8.000000</td>\n",
       "      <td>10.000000</td>\n",
       "      <td>3.000000</td>\n",
       "      <td>28.052567</td>\n",
       "      <td>30.306660</td>\n",
       "    </tr>\n",
       "    <tr>\n",
       "      <th>50%</th>\n",
       "      <td>3093.745000</td>\n",
       "      <td>6.000000</td>\n",
       "      <td>5.00000</td>\n",
       "      <td>13.000000</td>\n",
       "      <td>18.000000</td>\n",
       "      <td>6.000000</td>\n",
       "      <td>32.305784</td>\n",
       "      <td>69.249473</td>\n",
       "    </tr>\n",
       "    <tr>\n",
       "      <th>75%</th>\n",
       "      <td>5957.448333</td>\n",
       "      <td>7.000000</td>\n",
       "      <td>7.00000</td>\n",
       "      <td>20.000000</td>\n",
       "      <td>28.000000</td>\n",
       "      <td>9.000000</td>\n",
       "      <td>36.496663</td>\n",
       "      <td>161.224249</td>\n",
       "    </tr>\n",
       "    <tr>\n",
       "      <th>max</th>\n",
       "      <td>15204.633330</td>\n",
       "      <td>1798.000000</td>\n",
       "      <td>1499.00000</td>\n",
       "      <td>5797.000000</td>\n",
       "      <td>67.000000</td>\n",
       "      <td>2597.000000</td>\n",
       "      <td>50.000000</td>\n",
       "      <td>82331.000000</td>\n",
       "    </tr>\n",
       "  </tbody>\n",
       "</table>\n",
       "</div>"
      ],
      "text/plain": [
       "       Monthly_Inhand_Salary  Num_Bank_Accounts  Num_Credit_Card  \\\n",
       "count           84998.000000      100000.000000     100000.00000   \n",
       "mean             4194.170850          17.091280         22.47443   \n",
       "std              3183.686167         117.404834        129.05741   \n",
       "min               303.645417          -1.000000          0.00000   \n",
       "25%              1625.568229           3.000000          4.00000   \n",
       "50%              3093.745000           6.000000          5.00000   \n",
       "75%              5957.448333           7.000000          7.00000   \n",
       "max             15204.633330        1798.000000       1499.00000   \n",
       "\n",
       "       Interest_Rate  Delay_from_due_date  Num_Credit_Inquiries  \\\n",
       "count  100000.000000        100000.000000          98035.000000   \n",
       "mean       72.466040            21.068780             27.754251   \n",
       "std       466.422621            14.860104            193.177339   \n",
       "min         1.000000            -5.000000              0.000000   \n",
       "25%         8.000000            10.000000              3.000000   \n",
       "50%        13.000000            18.000000              6.000000   \n",
       "75%        20.000000            28.000000              9.000000   \n",
       "max      5797.000000            67.000000           2597.000000   \n",
       "\n",
       "       Credit_Utilization_Ratio  Total_EMI_per_month  \n",
       "count             100000.000000        100000.000000  \n",
       "mean                  32.285173          1403.118217  \n",
       "std                    5.116875          8306.041270  \n",
       "min                   20.000000             0.000000  \n",
       "25%                   28.052567            30.306660  \n",
       "50%                   32.305784            69.249473  \n",
       "75%                   36.496663           161.224249  \n",
       "max                   50.000000         82331.000000  "
      ]
     },
     "execution_count": 7895,
     "metadata": {},
     "output_type": "execute_result"
    }
   ],
   "source": [
    "df.describe()"
   ]
  },
  {
   "cell_type": "markdown",
   "id": "6f19e6bb",
   "metadata": {},
   "source": [
    "# ID, Customer_ID, Month, Name, SSN\n",
    "\n",
    "#### -> There are 12500 Customers. Each Customer has data for 8 Months and hence we have data for 100000 rows.\n",
    "\n",
    "#### -> 5572 SSN values are not in the correct format.\n",
    "\n",
    "#### -> Name Column has 9985 missing Values and 10139 Unique Name. Few Customers may have similar Names.\n",
    "\n",
    "#### -> Imputing the missing Name values as Unknown.\n"
   ]
  },
  {
   "cell_type": "code",
   "execution_count": 7896,
   "id": "d50cfd82",
   "metadata": {},
   "outputs": [
    {
     "data": {
      "text/plain": [
       "12500"
      ]
     },
     "execution_count": 7896,
     "metadata": {},
     "output_type": "execute_result"
    }
   ],
   "source": [
    "df.Customer_ID.nunique()"
   ]
  },
  {
   "cell_type": "code",
   "execution_count": 7897,
   "id": "30d65205",
   "metadata": {},
   "outputs": [
    {
     "data": {
      "text/plain": [
       "100000"
      ]
     },
     "execution_count": 7897,
     "metadata": {},
     "output_type": "execute_result"
    }
   ],
   "source": [
    "df.ID.nunique()"
   ]
  },
  {
   "cell_type": "code",
   "execution_count": 7898,
   "id": "705a5a37",
   "metadata": {},
   "outputs": [
    {
     "data": {
      "text/plain": [
       "array(['January', 'February', 'March', 'April', 'May', 'June', 'July',\n",
       "       'August'], dtype=object)"
      ]
     },
     "execution_count": 7898,
     "metadata": {},
     "output_type": "execute_result"
    }
   ],
   "source": [
    "df.Month.unique()"
   ]
  },
  {
   "cell_type": "code",
   "execution_count": 7899,
   "id": "b5356c4d",
   "metadata": {},
   "outputs": [
    {
     "data": {
      "text/plain": [
       "12501"
      ]
     },
     "execution_count": 7899,
     "metadata": {},
     "output_type": "execute_result"
    }
   ],
   "source": [
    "df.SSN.nunique()"
   ]
  },
  {
   "cell_type": "code",
   "execution_count": 7900,
   "id": "60d54672",
   "metadata": {},
   "outputs": [
    {
     "data": {
      "text/plain": [
       "#F%$D@*&8      5572\n",
       "078-73-5990       8\n",
       "486-78-3816       8\n",
       "750-67-7525       8\n",
       "903-50-0305       8\n",
       "               ... \n",
       "856-06-6147       4\n",
       "753-72-2651       4\n",
       "331-28-1921       4\n",
       "604-62-6133       4\n",
       "286-44-9634       4\n",
       "Name: SSN, Length: 12501, dtype: int64"
      ]
     },
     "execution_count": 7900,
     "metadata": {},
     "output_type": "execute_result"
    }
   ],
   "source": [
    "df.SSN.value_counts()"
   ]
  },
  {
   "cell_type": "code",
   "execution_count": 7901,
   "id": "2a94b7d2",
   "metadata": {},
   "outputs": [
    {
     "data": {
      "text/plain": [
       "9985"
      ]
     },
     "execution_count": 7901,
     "metadata": {},
     "output_type": "execute_result"
    }
   ],
   "source": [
    "df.Name.isna().sum()"
   ]
  },
  {
   "cell_type": "code",
   "execution_count": 7902,
   "id": "ae6004e0",
   "metadata": {},
   "outputs": [
    {
     "data": {
      "text/plain": [
       "10139"
      ]
     },
     "execution_count": 7902,
     "metadata": {},
     "output_type": "execute_result"
    }
   ],
   "source": [
    "df.Name.nunique()"
   ]
  },
  {
   "cell_type": "code",
   "execution_count": 7903,
   "id": "e351f833",
   "metadata": {},
   "outputs": [],
   "source": [
    "df.Name=df.Name.str.lower()"
   ]
  },
  {
   "cell_type": "code",
   "execution_count": 7904,
   "id": "a18a792b",
   "metadata": {},
   "outputs": [],
   "source": [
    "sample=df.merge(df.groupby('Customer_ID')['Name'].agg(pd.Series.mode).reset_index(),left_on='Customer_ID',right_on='Customer_ID')"
   ]
  },
  {
   "cell_type": "code",
   "execution_count": 7905,
   "id": "31b8399a",
   "metadata": {},
   "outputs": [],
   "source": [
    "df.Name=np.where(df.Name.isna(),sample.Name_y,df.Name)"
   ]
  },
  {
   "cell_type": "code",
   "execution_count": 7906,
   "id": "317073ab",
   "metadata": {},
   "outputs": [
    {
     "data": {
      "text/plain": [
       "10139"
      ]
     },
     "execution_count": 7906,
     "metadata": {},
     "output_type": "execute_result"
    }
   ],
   "source": [
    "df.Name.nunique()"
   ]
  },
  {
   "cell_type": "code",
   "execution_count": 7907,
   "id": "3904c232",
   "metadata": {},
   "outputs": [
    {
     "data": {
      "text/plain": [
       "0"
      ]
     },
     "execution_count": 7907,
     "metadata": {},
     "output_type": "execute_result"
    }
   ],
   "source": [
    "df.Name.isna().sum()"
   ]
  },
  {
   "cell_type": "code",
   "execution_count": 7908,
   "id": "ead8254f",
   "metadata": {},
   "outputs": [
    {
     "data": {
      "text/plain": [
       "langep                48\n",
       "jessicad              48\n",
       "stevex                48\n",
       "huwk                  40\n",
       "jonathan stempelr     40\n",
       "                      ..\n",
       "harro teni             8\n",
       "breidthardtj           8\n",
       "sven egenterx          8\n",
       "antonella ciancioc     8\n",
       "nicks                  8\n",
       "Name: Name, Length: 10139, dtype: int64"
      ]
     },
     "execution_count": 7908,
     "metadata": {},
     "output_type": "execute_result"
    }
   ],
   "source": [
    "df.Name.value_counts()"
   ]
  },
  {
   "cell_type": "markdown",
   "id": "5e7925f9",
   "metadata": {},
   "source": [
    "# Age \n",
    "\n",
    "#### -> Age Column has some large values. \n",
    "\n",
    "#### -> Each Customer has 8 rows of data for 8 months. We are assuming atleast one row of data has the right age.\n",
    "\n",
    "#### -> Hence by grouping Customer_ID, we are considering the minimum age as the correct age for the customer. By this way we can avoid large age values which may be Typo errors.\n",
    "\n",
    "#### -> Values with special characters are converted to normal Integer values."
   ]
  },
  {
   "cell_type": "code",
   "execution_count": 7909,
   "id": "7d5f5e4d",
   "metadata": {},
   "outputs": [
    {
     "data": {
      "text/plain": [
       "0          23\n",
       "1          23\n",
       "2        -500\n",
       "3          23\n",
       "4          23\n",
       "         ... \n",
       "99995      25\n",
       "99996      25\n",
       "99997      25\n",
       "99998      25\n",
       "99999      25\n",
       "Name: Age, Length: 100000, dtype: object"
      ]
     },
     "execution_count": 7909,
     "metadata": {},
     "output_type": "execute_result"
    }
   ],
   "source": [
    "df.Age"
   ]
  },
  {
   "cell_type": "code",
   "execution_count": 7910,
   "id": "cd87d9e8",
   "metadata": {},
   "outputs": [
    {
     "data": {
      "text/plain": [
       "dtype('O')"
      ]
     },
     "execution_count": 7910,
     "metadata": {},
     "output_type": "execute_result"
    }
   ],
   "source": [
    "df.Age.dtype"
   ]
  },
  {
   "cell_type": "code",
   "execution_count": 7911,
   "id": "e8151402",
   "metadata": {},
   "outputs": [],
   "source": [
    "df.Age=df.Age.str.replace('-','').str.replace('_','')\n"
   ]
  },
  {
   "cell_type": "code",
   "execution_count": 7912,
   "id": "c37630fd",
   "metadata": {},
   "outputs": [],
   "source": [
    "df.Age=pd.to_numeric(df.Age)"
   ]
  },
  {
   "cell_type": "code",
   "execution_count": 7913,
   "id": "0ad55d10",
   "metadata": {},
   "outputs": [
    {
     "data": {
      "text/plain": [
       "0"
      ]
     },
     "execution_count": 7913,
     "metadata": {},
     "output_type": "execute_result"
    }
   ],
   "source": [
    "df.Age.isna().sum()"
   ]
  },
  {
   "cell_type": "code",
   "execution_count": 7914,
   "id": "35ab5f7a",
   "metadata": {},
   "outputs": [
    {
     "data": {
      "text/plain": [
       "dtype('int64')"
      ]
     },
     "execution_count": 7914,
     "metadata": {},
     "output_type": "execute_result"
    }
   ],
   "source": [
    "df.Age.dtype"
   ]
  },
  {
   "cell_type": "code",
   "execution_count": 7915,
   "id": "12c041ae",
   "metadata": {},
   "outputs": [],
   "source": [
    "sample=df.merge(df.groupby('Customer_ID')['Age'].min().reset_index(),left_on='Customer_ID',right_on='Customer_ID')"
   ]
  },
  {
   "cell_type": "code",
   "execution_count": 7916,
   "id": "104db257",
   "metadata": {},
   "outputs": [],
   "source": [
    "df.Age=sample.Age_y*1"
   ]
  },
  {
   "cell_type": "code",
   "execution_count": 7917,
   "id": "d9ac7e37",
   "metadata": {},
   "outputs": [
    {
     "data": {
      "text/plain": [
       "43"
      ]
     },
     "execution_count": 7917,
     "metadata": {},
     "output_type": "execute_result"
    }
   ],
   "source": [
    "df.Age.nunique()"
   ]
  },
  {
   "cell_type": "code",
   "execution_count": 7918,
   "id": "3546c604",
   "metadata": {},
   "outputs": [
    {
     "data": {
      "text/plain": [
       "51549    56\n",
       "51548    56\n",
       "51550    56\n",
       "51551    56\n",
       "51546    56\n",
       "         ..\n",
       "58274    14\n",
       "58273    14\n",
       "58272    14\n",
       "4624     14\n",
       "43788    14\n",
       "Name: Age, Length: 100000, dtype: int64"
      ]
     },
     "execution_count": 7918,
     "metadata": {},
     "output_type": "execute_result"
    }
   ],
   "source": [
    "df.Age.sort_values(ascending=False)"
   ]
  },
  {
   "cell_type": "markdown",
   "id": "a34a0378",
   "metadata": {},
   "source": [
    "# Occupation\n",
    "\n",
    "#### -> Blank Value is Occupation is replaced as 'Unknown'"
   ]
  },
  {
   "cell_type": "code",
   "execution_count": 7919,
   "id": "624abfcb",
   "metadata": {},
   "outputs": [
    {
     "data": {
      "text/plain": [
       "array(['Scientist', '_______', 'Teacher', 'Engineer', 'Entrepreneur',\n",
       "       'Developer', 'Lawyer', 'Media_Manager', 'Doctor', 'Journalist',\n",
       "       'Manager', 'Accountant', 'Musician', 'Mechanic', 'Writer',\n",
       "       'Architect'], dtype=object)"
      ]
     },
     "execution_count": 7919,
     "metadata": {},
     "output_type": "execute_result"
    }
   ],
   "source": [
    "df.Occupation.unique()"
   ]
  },
  {
   "cell_type": "code",
   "execution_count": 7920,
   "id": "15c8e79f",
   "metadata": {},
   "outputs": [
    {
     "data": {
      "text/plain": [
       "16"
      ]
     },
     "execution_count": 7920,
     "metadata": {},
     "output_type": "execute_result"
    }
   ],
   "source": [
    "df.Occupation.nunique()"
   ]
  },
  {
   "cell_type": "code",
   "execution_count": 7921,
   "id": "436f9409",
   "metadata": {},
   "outputs": [],
   "source": [
    "df.Occupation=np.where(df.Occupation=='_______',np.NaN,df.Occupation)"
   ]
  },
  {
   "cell_type": "code",
   "execution_count": 7922,
   "id": "5e9ba6ff",
   "metadata": {},
   "outputs": [],
   "source": [
    "sample=df.merge(df.groupby('Customer_ID')['Occupation'].agg(pd.Series.mode).reset_index(),left_on='Customer_ID',right_on='Customer_ID')"
   ]
  },
  {
   "cell_type": "code",
   "execution_count": 7923,
   "id": "c49fbd18",
   "metadata": {},
   "outputs": [],
   "source": [
    "df.Occupation.fillna(sample.Occupation_y,inplace=True)"
   ]
  },
  {
   "cell_type": "code",
   "execution_count": 7924,
   "id": "93134bfb",
   "metadata": {},
   "outputs": [
    {
     "data": {
      "text/plain": [
       "array(['Scientist', 'Teacher', 'Engineer', 'Entrepreneur', 'Developer',\n",
       "       'Lawyer', 'Media_Manager', 'Doctor', 'Journalist', 'Manager',\n",
       "       'Accountant', 'Musician', 'Mechanic', 'Writer', 'Architect'],\n",
       "      dtype=object)"
      ]
     },
     "execution_count": 7924,
     "metadata": {},
     "output_type": "execute_result"
    }
   ],
   "source": [
    "df.Occupation.unique()"
   ]
  },
  {
   "cell_type": "markdown",
   "id": "be8d9ee6",
   "metadata": {},
   "source": [
    "# Annual Income\n",
    "\n",
    "#### -> Annual_Income is converted to Numeric Datatype.\n",
    "#### -> Few Customers have more than 1 Annual Income. So i have taken the median of the different Annual Incomes for each Customer ID to avoid the impact of Outliers."
   ]
  },
  {
   "cell_type": "code",
   "execution_count": 7925,
   "id": "bd00ed61",
   "metadata": {},
   "outputs": [
    {
     "data": {
      "text/plain": [
       "dtype('O')"
      ]
     },
     "execution_count": 7925,
     "metadata": {},
     "output_type": "execute_result"
    }
   ],
   "source": [
    "df.Annual_Income.dtype"
   ]
  },
  {
   "cell_type": "code",
   "execution_count": 7926,
   "id": "79627da5",
   "metadata": {},
   "outputs": [
    {
     "data": {
      "text/plain": [
       "0"
      ]
     },
     "execution_count": 7926,
     "metadata": {},
     "output_type": "execute_result"
    }
   ],
   "source": [
    "df.Annual_Income.isna().sum()"
   ]
  },
  {
   "cell_type": "code",
   "execution_count": 7927,
   "id": "d5c3bf34",
   "metadata": {},
   "outputs": [
    {
     "data": {
      "text/plain": [
       "14834.98_     1\n",
       "31280.63_     1\n",
       "12975.96_     1\n",
       "45780.86_     1\n",
       "9295469       1\n",
       "             ..\n",
       "33029.66     15\n",
       "17816.75     15\n",
       "36585.12     16\n",
       "20867.67     16\n",
       "17273.83     16\n",
       "Name: Annual_Income, Length: 18940, dtype: int64"
      ]
     },
     "execution_count": 7927,
     "metadata": {},
     "output_type": "execute_result"
    }
   ],
   "source": [
    "df.Annual_Income.value_counts(ascending=True)"
   ]
  },
  {
   "cell_type": "code",
   "execution_count": 7928,
   "id": "4c381bce",
   "metadata": {},
   "outputs": [],
   "source": [
    "df.Annual_Income=df.Annual_Income.str.replace('_','')"
   ]
  },
  {
   "cell_type": "code",
   "execution_count": 7929,
   "id": "b56fa3c3",
   "metadata": {},
   "outputs": [
    {
     "data": {
      "text/plain": [
       "dtype('float64')"
      ]
     },
     "execution_count": 7929,
     "metadata": {},
     "output_type": "execute_result"
    }
   ],
   "source": [
    "df.Annual_Income=pd.to_numeric(df.Annual_Income)\n",
    "df.Annual_Income.dtype"
   ]
  },
  {
   "cell_type": "code",
   "execution_count": 7930,
   "id": "7fdeadc5",
   "metadata": {},
   "outputs": [
    {
     "data": {
      "text/html": [
       "<div>\n",
       "<style scoped>\n",
       "    .dataframe tbody tr th:only-of-type {\n",
       "        vertical-align: middle;\n",
       "    }\n",
       "\n",
       "    .dataframe tbody tr th {\n",
       "        vertical-align: top;\n",
       "    }\n",
       "\n",
       "    .dataframe thead th {\n",
       "        text-align: right;\n",
       "    }\n",
       "</style>\n",
       "<table border=\"1\" class=\"dataframe\">\n",
       "  <thead>\n",
       "    <tr style=\"text-align: right;\">\n",
       "      <th></th>\n",
       "      <th>Customer_ID</th>\n",
       "      <th>Annual_Income</th>\n",
       "    </tr>\n",
       "  </thead>\n",
       "  <tbody>\n",
       "    <tr>\n",
       "      <th>0</th>\n",
       "      <td>CUS_0x1000</td>\n",
       "      <td>30625.940</td>\n",
       "    </tr>\n",
       "    <tr>\n",
       "      <th>1</th>\n",
       "      <td>CUS_0x1009</td>\n",
       "      <td>52312.680</td>\n",
       "    </tr>\n",
       "    <tr>\n",
       "      <th>2</th>\n",
       "      <td>CUS_0x100b</td>\n",
       "      <td>113781.390</td>\n",
       "    </tr>\n",
       "    <tr>\n",
       "      <th>3</th>\n",
       "      <td>CUS_0x1011</td>\n",
       "      <td>58918.470</td>\n",
       "    </tr>\n",
       "    <tr>\n",
       "      <th>4</th>\n",
       "      <td>CUS_0x1013</td>\n",
       "      <td>98620.980</td>\n",
       "    </tr>\n",
       "    <tr>\n",
       "      <th>...</th>\n",
       "      <td>...</td>\n",
       "      <td>...</td>\n",
       "    </tr>\n",
       "    <tr>\n",
       "      <th>12495</th>\n",
       "      <td>CUS_0xff3</td>\n",
       "      <td>17032.785</td>\n",
       "    </tr>\n",
       "    <tr>\n",
       "      <th>12496</th>\n",
       "      <td>CUS_0xff4</td>\n",
       "      <td>25546.260</td>\n",
       "    </tr>\n",
       "    <tr>\n",
       "      <th>12497</th>\n",
       "      <td>CUS_0xff6</td>\n",
       "      <td>117639.920</td>\n",
       "    </tr>\n",
       "    <tr>\n",
       "      <th>12498</th>\n",
       "      <td>CUS_0xffc</td>\n",
       "      <td>60877.170</td>\n",
       "    </tr>\n",
       "    <tr>\n",
       "      <th>12499</th>\n",
       "      <td>CUS_0xffd</td>\n",
       "      <td>41398.440</td>\n",
       "    </tr>\n",
       "  </tbody>\n",
       "</table>\n",
       "<p>12500 rows × 2 columns</p>\n",
       "</div>"
      ],
      "text/plain": [
       "      Customer_ID  Annual_Income\n",
       "0      CUS_0x1000      30625.940\n",
       "1      CUS_0x1009      52312.680\n",
       "2      CUS_0x100b     113781.390\n",
       "3      CUS_0x1011      58918.470\n",
       "4      CUS_0x1013      98620.980\n",
       "...           ...            ...\n",
       "12495   CUS_0xff3      17032.785\n",
       "12496   CUS_0xff4      25546.260\n",
       "12497   CUS_0xff6     117639.920\n",
       "12498   CUS_0xffc      60877.170\n",
       "12499   CUS_0xffd      41398.440\n",
       "\n",
       "[12500 rows x 2 columns]"
      ]
     },
     "execution_count": 7930,
     "metadata": {},
     "output_type": "execute_result"
    }
   ],
   "source": [
    "df.groupby('Customer_ID')['Annual_Income'].median().reset_index()"
   ]
  },
  {
   "cell_type": "code",
   "execution_count": 7931,
   "id": "ec8a375c",
   "metadata": {},
   "outputs": [],
   "source": [
    "sample=df.merge(df.groupby('Customer_ID')['Annual_Income'].median().reset_index(),left_on='Customer_ID',right_on='Customer_ID')"
   ]
  },
  {
   "cell_type": "code",
   "execution_count": 7932,
   "id": "47556f14",
   "metadata": {},
   "outputs": [],
   "source": [
    "df.Annual_Income=sample.Annual_Income_y"
   ]
  },
  {
   "cell_type": "code",
   "execution_count": 7933,
   "id": "689e6a6c",
   "metadata": {},
   "outputs": [],
   "source": [
    "df.Annual_Income=np.round(df.Annual_Income)"
   ]
  },
  {
   "cell_type": "code",
   "execution_count": 7934,
   "id": "dcefbb33",
   "metadata": {},
   "outputs": [],
   "source": [
    "df.Annual_Income=df.Annual_Income.astype('int')"
   ]
  },
  {
   "cell_type": "code",
   "execution_count": 7935,
   "id": "52b87bed",
   "metadata": {},
   "outputs": [
    {
     "data": {
      "text/plain": [
       "15688    179987\n",
       "15695    179987\n",
       "15689    179987\n",
       "15690    179987\n",
       "15691    179987\n",
       "          ...  \n",
       "39676      7006\n",
       "39675      7006\n",
       "80030      7006\n",
       "39674      7006\n",
       "80031      7006\n",
       "Name: Annual_Income, Length: 100000, dtype: int64"
      ]
     },
     "execution_count": 7935,
     "metadata": {},
     "output_type": "execute_result"
    }
   ],
   "source": [
    "df.Annual_Income.sort_values(ascending=False)"
   ]
  },
  {
   "cell_type": "code",
   "execution_count": 7936,
   "id": "2894b92b",
   "metadata": {},
   "outputs": [
    {
     "data": {
      "text/html": [
       "<div>\n",
       "<style scoped>\n",
       "    .dataframe tbody tr th:only-of-type {\n",
       "        vertical-align: middle;\n",
       "    }\n",
       "\n",
       "    .dataframe tbody tr th {\n",
       "        vertical-align: top;\n",
       "    }\n",
       "\n",
       "    .dataframe thead th {\n",
       "        text-align: right;\n",
       "    }\n",
       "</style>\n",
       "<table border=\"1\" class=\"dataframe\">\n",
       "  <thead>\n",
       "    <tr style=\"text-align: right;\">\n",
       "      <th></th>\n",
       "      <th>Age</th>\n",
       "      <th>Annual_Income</th>\n",
       "      <th>Monthly_Inhand_Salary</th>\n",
       "      <th>Num_Bank_Accounts</th>\n",
       "      <th>Num_Credit_Card</th>\n",
       "      <th>Interest_Rate</th>\n",
       "      <th>Delay_from_due_date</th>\n",
       "      <th>Num_Credit_Inquiries</th>\n",
       "      <th>Credit_Utilization_Ratio</th>\n",
       "      <th>Total_EMI_per_month</th>\n",
       "    </tr>\n",
       "  </thead>\n",
       "  <tbody>\n",
       "    <tr>\n",
       "      <th>count</th>\n",
       "      <td>100000.000000</td>\n",
       "      <td>100000.000000</td>\n",
       "      <td>84998.000000</td>\n",
       "      <td>100000.000000</td>\n",
       "      <td>100000.00000</td>\n",
       "      <td>100000.000000</td>\n",
       "      <td>100000.000000</td>\n",
       "      <td>98035.000000</td>\n",
       "      <td>100000.000000</td>\n",
       "      <td>100000.000000</td>\n",
       "    </tr>\n",
       "    <tr>\n",
       "      <th>mean</th>\n",
       "      <td>33.024880</td>\n",
       "      <td>50505.125920</td>\n",
       "      <td>4194.170850</td>\n",
       "      <td>17.091280</td>\n",
       "      <td>22.47443</td>\n",
       "      <td>72.466040</td>\n",
       "      <td>21.068780</td>\n",
       "      <td>27.754251</td>\n",
       "      <td>32.285173</td>\n",
       "      <td>1403.118217</td>\n",
       "    </tr>\n",
       "    <tr>\n",
       "      <th>std</th>\n",
       "      <td>10.755849</td>\n",
       "      <td>38299.421504</td>\n",
       "      <td>3183.686167</td>\n",
       "      <td>117.404834</td>\n",
       "      <td>129.05741</td>\n",
       "      <td>466.422621</td>\n",
       "      <td>14.860104</td>\n",
       "      <td>193.177339</td>\n",
       "      <td>5.116875</td>\n",
       "      <td>8306.041270</td>\n",
       "    </tr>\n",
       "    <tr>\n",
       "      <th>min</th>\n",
       "      <td>14.000000</td>\n",
       "      <td>7006.000000</td>\n",
       "      <td>303.645417</td>\n",
       "      <td>-1.000000</td>\n",
       "      <td>0.00000</td>\n",
       "      <td>1.000000</td>\n",
       "      <td>-5.000000</td>\n",
       "      <td>0.000000</td>\n",
       "      <td>20.000000</td>\n",
       "      <td>0.000000</td>\n",
       "    </tr>\n",
       "    <tr>\n",
       "      <th>25%</th>\n",
       "      <td>24.000000</td>\n",
       "      <td>19342.750000</td>\n",
       "      <td>1625.568229</td>\n",
       "      <td>3.000000</td>\n",
       "      <td>4.00000</td>\n",
       "      <td>8.000000</td>\n",
       "      <td>10.000000</td>\n",
       "      <td>3.000000</td>\n",
       "      <td>28.052567</td>\n",
       "      <td>30.306660</td>\n",
       "    </tr>\n",
       "    <tr>\n",
       "      <th>50%</th>\n",
       "      <td>33.000000</td>\n",
       "      <td>37000.000000</td>\n",
       "      <td>3093.745000</td>\n",
       "      <td>6.000000</td>\n",
       "      <td>5.00000</td>\n",
       "      <td>13.000000</td>\n",
       "      <td>18.000000</td>\n",
       "      <td>6.000000</td>\n",
       "      <td>32.305784</td>\n",
       "      <td>69.249473</td>\n",
       "    </tr>\n",
       "    <tr>\n",
       "      <th>75%</th>\n",
       "      <td>41.000000</td>\n",
       "      <td>71683.250000</td>\n",
       "      <td>5957.448333</td>\n",
       "      <td>7.000000</td>\n",
       "      <td>7.00000</td>\n",
       "      <td>20.000000</td>\n",
       "      <td>28.000000</td>\n",
       "      <td>9.000000</td>\n",
       "      <td>36.496663</td>\n",
       "      <td>161.224249</td>\n",
       "    </tr>\n",
       "    <tr>\n",
       "      <th>max</th>\n",
       "      <td>56.000000</td>\n",
       "      <td>179987.000000</td>\n",
       "      <td>15204.633330</td>\n",
       "      <td>1798.000000</td>\n",
       "      <td>1499.00000</td>\n",
       "      <td>5797.000000</td>\n",
       "      <td>67.000000</td>\n",
       "      <td>2597.000000</td>\n",
       "      <td>50.000000</td>\n",
       "      <td>82331.000000</td>\n",
       "    </tr>\n",
       "  </tbody>\n",
       "</table>\n",
       "</div>"
      ],
      "text/plain": [
       "                 Age  Annual_Income  Monthly_Inhand_Salary  Num_Bank_Accounts  \\\n",
       "count  100000.000000  100000.000000           84998.000000      100000.000000   \n",
       "mean       33.024880   50505.125920            4194.170850          17.091280   \n",
       "std        10.755849   38299.421504            3183.686167         117.404834   \n",
       "min        14.000000    7006.000000             303.645417          -1.000000   \n",
       "25%        24.000000   19342.750000            1625.568229           3.000000   \n",
       "50%        33.000000   37000.000000            3093.745000           6.000000   \n",
       "75%        41.000000   71683.250000            5957.448333           7.000000   \n",
       "max        56.000000  179987.000000           15204.633330        1798.000000   \n",
       "\n",
       "       Num_Credit_Card  Interest_Rate  Delay_from_due_date  \\\n",
       "count     100000.00000  100000.000000        100000.000000   \n",
       "mean          22.47443      72.466040            21.068780   \n",
       "std          129.05741     466.422621            14.860104   \n",
       "min            0.00000       1.000000            -5.000000   \n",
       "25%            4.00000       8.000000            10.000000   \n",
       "50%            5.00000      13.000000            18.000000   \n",
       "75%            7.00000      20.000000            28.000000   \n",
       "max         1499.00000    5797.000000            67.000000   \n",
       "\n",
       "       Num_Credit_Inquiries  Credit_Utilization_Ratio  Total_EMI_per_month  \n",
       "count          98035.000000             100000.000000        100000.000000  \n",
       "mean              27.754251                 32.285173          1403.118217  \n",
       "std              193.177339                  5.116875          8306.041270  \n",
       "min                0.000000                 20.000000             0.000000  \n",
       "25%                3.000000                 28.052567            30.306660  \n",
       "50%                6.000000                 32.305784            69.249473  \n",
       "75%                9.000000                 36.496663           161.224249  \n",
       "max             2597.000000                 50.000000         82331.000000  "
      ]
     },
     "execution_count": 7936,
     "metadata": {},
     "output_type": "execute_result"
    }
   ],
   "source": [
    "df.describe()"
   ]
  },
  {
   "cell_type": "code",
   "execution_count": 7937,
   "id": "c70e8af1",
   "metadata": {},
   "outputs": [
    {
     "name": "stdout",
     "output_type": "stream",
     "text": [
      "<class 'pandas.core.frame.DataFrame'>\n",
      "RangeIndex: 100000 entries, 0 to 99999\n",
      "Data columns (total 27 columns):\n",
      " #   Column                    Non-Null Count   Dtype  \n",
      "---  ------                    --------------   -----  \n",
      " 0   ID                        100000 non-null  object \n",
      " 1   Customer_ID               100000 non-null  object \n",
      " 2   Month                     100000 non-null  object \n",
      " 3   Name                      100000 non-null  object \n",
      " 4   Age                       100000 non-null  int64  \n",
      " 5   SSN                       100000 non-null  object \n",
      " 6   Occupation                100000 non-null  object \n",
      " 7   Annual_Income             100000 non-null  int64  \n",
      " 8   Monthly_Inhand_Salary     84998 non-null   float64\n",
      " 9   Num_Bank_Accounts         100000 non-null  int64  \n",
      " 10  Num_Credit_Card           100000 non-null  int64  \n",
      " 11  Interest_Rate             100000 non-null  int64  \n",
      " 12  Num_of_Loan               100000 non-null  object \n",
      " 13  Type_of_Loan              88592 non-null   object \n",
      " 14  Delay_from_due_date       100000 non-null  int64  \n",
      " 15  Num_of_Delayed_Payment    92998 non-null   object \n",
      " 16  Changed_Credit_Limit      100000 non-null  object \n",
      " 17  Num_Credit_Inquiries      98035 non-null   float64\n",
      " 18  Credit_Mix                100000 non-null  object \n",
      " 19  Outstanding_Debt          100000 non-null  object \n",
      " 20  Credit_Utilization_Ratio  100000 non-null  float64\n",
      " 21  Credit_History_Age        90970 non-null   object \n",
      " 22  Payment_of_Min_Amount     100000 non-null  object \n",
      " 23  Total_EMI_per_month       100000 non-null  float64\n",
      " 24  Amount_invested_monthly   95521 non-null   object \n",
      " 25  Payment_Behaviour         100000 non-null  object \n",
      " 26  Monthly_Balance           98800 non-null   object \n",
      "dtypes: float64(4), int64(6), object(17)\n",
      "memory usage: 20.6+ MB\n"
     ]
    }
   ],
   "source": [
    "df.info()"
   ]
  },
  {
   "cell_type": "markdown",
   "id": "b18a3550",
   "metadata": {},
   "source": [
    "# Monthly Inhand Salary"
   ]
  },
  {
   "cell_type": "code",
   "execution_count": 7938,
   "id": "dda97116",
   "metadata": {},
   "outputs": [
    {
     "data": {
      "text/plain": [
       "0        1824.843333\n",
       "1                NaN\n",
       "2                NaN\n",
       "3                NaN\n",
       "4        1824.843333\n",
       "            ...     \n",
       "99995    3359.415833\n",
       "99996    3359.415833\n",
       "99997    3359.415833\n",
       "99998    3359.415833\n",
       "99999    3359.415833\n",
       "Name: Monthly_Inhand_Salary, Length: 100000, dtype: float64"
      ]
     },
     "execution_count": 7938,
     "metadata": {},
     "output_type": "execute_result"
    }
   ],
   "source": [
    "df.Monthly_Inhand_Salary"
   ]
  },
  {
   "cell_type": "code",
   "execution_count": 7939,
   "id": "54efc69c",
   "metadata": {},
   "outputs": [
    {
     "data": {
      "text/plain": [
       "15002"
      ]
     },
     "execution_count": 7939,
     "metadata": {},
     "output_type": "execute_result"
    }
   ],
   "source": [
    "df.Monthly_Inhand_Salary.isna().sum()"
   ]
  },
  {
   "cell_type": "code",
   "execution_count": 7940,
   "id": "329567db",
   "metadata": {},
   "outputs": [],
   "source": [
    "sample=df.merge(df.groupby('Customer_ID')['Monthly_Inhand_Salary'].median().reset_index(),left_on='Customer_ID',right_on='Customer_ID')\n"
   ]
  },
  {
   "cell_type": "code",
   "execution_count": 7941,
   "id": "861f14b2",
   "metadata": {},
   "outputs": [],
   "source": [
    "df.Monthly_Inhand_Salary=sample.Monthly_Inhand_Salary_y*1"
   ]
  },
  {
   "cell_type": "code",
   "execution_count": 7942,
   "id": "99197438",
   "metadata": {},
   "outputs": [],
   "source": [
    "df.Monthly_Inhand_Salary=np.round(df.Monthly_Inhand_Salary)"
   ]
  },
  {
   "cell_type": "code",
   "execution_count": 7943,
   "id": "53be26bd",
   "metadata": {},
   "outputs": [],
   "source": [
    "df.Monthly_Inhand_Salary=df.Monthly_Inhand_Salary.astype('int')"
   ]
  },
  {
   "cell_type": "code",
   "execution_count": 7944,
   "id": "04d7c413",
   "metadata": {},
   "outputs": [
    {
     "data": {
      "text/plain": [
       "62735    15205\n",
       "62734    15205\n",
       "62728    15205\n",
       "62729    15205\n",
       "62730    15205\n",
       "         ...  \n",
       "83644      304\n",
       "83645      304\n",
       "83646      304\n",
       "83647      304\n",
       "83642      304\n",
       "Name: Monthly_Inhand_Salary, Length: 100000, dtype: int64"
      ]
     },
     "execution_count": 7944,
     "metadata": {},
     "output_type": "execute_result"
    }
   ],
   "source": [
    "df.Monthly_Inhand_Salary.sort_values(ascending=False)"
   ]
  },
  {
   "cell_type": "code",
   "execution_count": 7945,
   "id": "4db8e213",
   "metadata": {},
   "outputs": [
    {
     "data": {
      "text/plain": [
       "0"
      ]
     },
     "execution_count": 7945,
     "metadata": {},
     "output_type": "execute_result"
    }
   ],
   "source": [
    "df.Monthly_Inhand_Salary.isna().sum()"
   ]
  },
  {
   "cell_type": "markdown",
   "id": "2dc1d0bd",
   "metadata": {},
   "source": [
    "# Num_Bank_Accounts , Num_Credit_Card, Num_Credit_Inquiries, Interest_Rate\n",
    "\n",
    "#### -> Num_Bank_Accounts : 75th Percentile is 7 but  max value is 1798. \n",
    "#### -> Num_Credit_Card : 75th Percentile is 7 but  max value is 1499.\n",
    "#### -> Interest_Rate : 75th Percentile is 20 but max value is 5797.\n",
    "#### -> Num_Credit_Inquiries : 75th Percentile is 9 but max value is 2597.\n",
    "#### -> Num_of Loan : 75th Percentile is 6 but max value is 1496.\n",
    "\n",
    "### -> Outliers has to be taken care based on the requirement."
   ]
  },
  {
   "cell_type": "code",
   "execution_count": 7946,
   "id": "7d7ba9a4",
   "metadata": {},
   "outputs": [
    {
     "data": {
      "text/html": [
       "<div>\n",
       "<style scoped>\n",
       "    .dataframe tbody tr th:only-of-type {\n",
       "        vertical-align: middle;\n",
       "    }\n",
       "\n",
       "    .dataframe tbody tr th {\n",
       "        vertical-align: top;\n",
       "    }\n",
       "\n",
       "    .dataframe thead th {\n",
       "        text-align: right;\n",
       "    }\n",
       "</style>\n",
       "<table border=\"1\" class=\"dataframe\">\n",
       "  <thead>\n",
       "    <tr style=\"text-align: right;\">\n",
       "      <th></th>\n",
       "      <th>Num_Bank_Accounts</th>\n",
       "      <th>Num_Credit_Card</th>\n",
       "      <th>Interest_Rate</th>\n",
       "      <th>Num_Credit_Inquiries</th>\n",
       "    </tr>\n",
       "  </thead>\n",
       "  <tbody>\n",
       "    <tr>\n",
       "      <th>count</th>\n",
       "      <td>100000.000000</td>\n",
       "      <td>100000.00000</td>\n",
       "      <td>100000.000000</td>\n",
       "      <td>98035.000000</td>\n",
       "    </tr>\n",
       "    <tr>\n",
       "      <th>mean</th>\n",
       "      <td>17.091280</td>\n",
       "      <td>22.47443</td>\n",
       "      <td>72.466040</td>\n",
       "      <td>27.754251</td>\n",
       "    </tr>\n",
       "    <tr>\n",
       "      <th>std</th>\n",
       "      <td>117.404834</td>\n",
       "      <td>129.05741</td>\n",
       "      <td>466.422621</td>\n",
       "      <td>193.177339</td>\n",
       "    </tr>\n",
       "    <tr>\n",
       "      <th>min</th>\n",
       "      <td>-1.000000</td>\n",
       "      <td>0.00000</td>\n",
       "      <td>1.000000</td>\n",
       "      <td>0.000000</td>\n",
       "    </tr>\n",
       "    <tr>\n",
       "      <th>25%</th>\n",
       "      <td>3.000000</td>\n",
       "      <td>4.00000</td>\n",
       "      <td>8.000000</td>\n",
       "      <td>3.000000</td>\n",
       "    </tr>\n",
       "    <tr>\n",
       "      <th>50%</th>\n",
       "      <td>6.000000</td>\n",
       "      <td>5.00000</td>\n",
       "      <td>13.000000</td>\n",
       "      <td>6.000000</td>\n",
       "    </tr>\n",
       "    <tr>\n",
       "      <th>75%</th>\n",
       "      <td>7.000000</td>\n",
       "      <td>7.00000</td>\n",
       "      <td>20.000000</td>\n",
       "      <td>9.000000</td>\n",
       "    </tr>\n",
       "    <tr>\n",
       "      <th>max</th>\n",
       "      <td>1798.000000</td>\n",
       "      <td>1499.00000</td>\n",
       "      <td>5797.000000</td>\n",
       "      <td>2597.000000</td>\n",
       "    </tr>\n",
       "  </tbody>\n",
       "</table>\n",
       "</div>"
      ],
      "text/plain": [
       "       Num_Bank_Accounts  Num_Credit_Card  Interest_Rate  Num_Credit_Inquiries\n",
       "count      100000.000000     100000.00000  100000.000000          98035.000000\n",
       "mean           17.091280         22.47443      72.466040             27.754251\n",
       "std           117.404834        129.05741     466.422621            193.177339\n",
       "min            -1.000000          0.00000       1.000000              0.000000\n",
       "25%             3.000000          4.00000       8.000000              3.000000\n",
       "50%             6.000000          5.00000      13.000000              6.000000\n",
       "75%             7.000000          7.00000      20.000000              9.000000\n",
       "max          1798.000000       1499.00000    5797.000000           2597.000000"
      ]
     },
     "execution_count": 7946,
     "metadata": {},
     "output_type": "execute_result"
    }
   ],
   "source": [
    "df[['Num_Bank_Accounts','Num_Credit_Card','Interest_Rate','Num_Credit_Inquiries','Num_of_Loan']].describe()"
   ]
  },
  {
   "cell_type": "markdown",
   "id": "cd01c6f8",
   "metadata": {},
   "source": [
    "## User Defined Functions to Calculate Upper Limit and Lower Limit"
   ]
  },
  {
   "cell_type": "code",
   "execution_count": 7947,
   "id": "8933e12d",
   "metadata": {},
   "outputs": [],
   "source": [
    "def upper_limit(series):\n",
    "    \n",
    "    q1=series.quantile(0.25)\n",
    "    q3=series.quantile(0.75)\n",
    "    \n",
    "    return q3+(1.5*(q3-q1))\n",
    "    "
   ]
  },
  {
   "cell_type": "code",
   "execution_count": 7948,
   "id": "e48878f5",
   "metadata": {},
   "outputs": [],
   "source": [
    "def lower_limit(series):\n",
    "    \n",
    "    q1=series.quantile(0.25)\n",
    "    q3=series.quantile(0.75)\n",
    "    \n",
    "    if q1-(1.5*(q3-q1)) < 0 : \n",
    "        return 0\n",
    "    else:\n",
    "        \n",
    "        return q1-(1.5*(q3-q1))\n",
    "    "
   ]
  },
  {
   "cell_type": "code",
   "execution_count": 7949,
   "id": "a8bc5724",
   "metadata": {},
   "outputs": [],
   "source": [
    "def replace_values(x,upper_limit,lower_limit):\n",
    "    \n",
    "\n",
    "    \n",
    "    if x>upper_limit:\n",
    "       \n",
    "        return upper_limit\n",
    "    elif x<lower_limit:\n",
    "       \n",
    "        return lower_limit\n",
    "    else:\n",
    "    \n",
    "        return x\n",
    "        \n",
    "   "
   ]
  },
  {
   "cell_type": "markdown",
   "id": "18e98add",
   "metadata": {},
   "source": [
    "## Num_Bank_Accounts, Num_Credit_Card, Num_Credit_Card"
   ]
  },
  {
   "cell_type": "code",
   "execution_count": 7950,
   "id": "17c2f52d",
   "metadata": {},
   "outputs": [],
   "source": [
    "df['Num_Bank_Accounts']= df['Num_Bank_Accounts'].apply(replace_values,args=[upper_limit(df.Num_Bank_Accounts),lower_limit(df.Num_Bank_Accounts)])"
   ]
  },
  {
   "cell_type": "code",
   "execution_count": 7951,
   "id": "d7329381",
   "metadata": {},
   "outputs": [],
   "source": [
    "df['Num_Credit_Card']= df['Num_Credit_Card'].apply(replace_values,args=[upper_limit(df.Num_Credit_Card),lower_limit(df.Num_Credit_Card)])"
   ]
  },
  {
   "cell_type": "code",
   "execution_count": 7952,
   "id": "e79d35f0",
   "metadata": {},
   "outputs": [],
   "source": [
    "df['Num_Credit_Inquiries']= df['Num_Credit_Inquiries'].apply(replace_values,args=[upper_limit(df.Num_Credit_Inquiries ),lower_limit(df.Num_Credit_Inquiries )])"
   ]
  },
  {
   "cell_type": "code",
   "execution_count": 7953,
   "id": "1cbeec94",
   "metadata": {},
   "outputs": [],
   "source": [
    "sample=df.merge(df.groupby('Customer_ID')[['Num_Bank_Accounts','Num_Credit_Card','Num_Credit_Inquiries']].max().reset_index(),left_on='Customer_ID',right_on='Customer_ID')"
   ]
  },
  {
   "cell_type": "code",
   "execution_count": 7954,
   "id": "8d454894",
   "metadata": {},
   "outputs": [],
   "source": [
    "df.Num_Bank_Accounts=sample.Num_Bank_Accounts_y*1\n",
    "df.Num_Credit_Card=sample.Num_Credit_Card_y*1\n",
    "df.Num_Credit_Inquiries =sample.Num_Credit_Inquiries_y*1"
   ]
  },
  {
   "cell_type": "code",
   "execution_count": 7955,
   "id": "d30fa44f",
   "metadata": {},
   "outputs": [],
   "source": [
    "df.Num_Bank_Accounts=df.Num_Bank_Accounts.astype('int')\n",
    "df.Num_Credit_Card=df.Num_Credit_Card.astype('int')\n",
    "df.Num_Credit_Inquiries =df.Num_Credit_Inquiries.astype('int')"
   ]
  },
  {
   "cell_type": "code",
   "execution_count": 7956,
   "id": "fc9bb1f0",
   "metadata": {},
   "outputs": [
    {
     "data": {
      "text/plain": [
       "array([ 3,  2,  1,  7,  4,  0,  8,  5,  6,  9, 10, 13, 11])"
      ]
     },
     "execution_count": 7956,
     "metadata": {},
     "output_type": "execute_result"
    }
   ],
   "source": [
    "df.Num_Bank_Accounts.unique()"
   ]
  },
  {
   "cell_type": "code",
   "execution_count": 7957,
   "id": "d04178e6",
   "metadata": {},
   "outputs": [
    {
     "data": {
      "text/plain": [
       "array([ 4, 11,  5,  1,  7,  6,  8,  3,  9,  2, 10])"
      ]
     },
     "execution_count": 7957,
     "metadata": {},
     "output_type": "execute_result"
    }
   ],
   "source": [
    "df.Num_Credit_Card.unique()"
   ]
  },
  {
   "cell_type": "code",
   "execution_count": 7958,
   "id": "b6b3a8cb",
   "metadata": {},
   "outputs": [
    {
     "data": {
      "text/plain": [
       "array([ 4,  2,  3,  9,  8,  5,  7,  1, 10, 18, 11, 13,  0, 12, 14,  6, 16,\n",
       "       15, 17])"
      ]
     },
     "execution_count": 7958,
     "metadata": {},
     "output_type": "execute_result"
    }
   ],
   "source": [
    "df.Num_Credit_Inquiries.unique()"
   ]
  },
  {
   "cell_type": "code",
   "execution_count": 7959,
   "id": "29f4a9ba",
   "metadata": {},
   "outputs": [
    {
     "name": "stdout",
     "output_type": "stream",
     "text": [
      "<class 'pandas.core.frame.DataFrame'>\n",
      "RangeIndex: 100000 entries, 0 to 99999\n",
      "Data columns (total 27 columns):\n",
      " #   Column                    Non-Null Count   Dtype  \n",
      "---  ------                    --------------   -----  \n",
      " 0   ID                        100000 non-null  object \n",
      " 1   Customer_ID               100000 non-null  object \n",
      " 2   Month                     100000 non-null  object \n",
      " 3   Name                      100000 non-null  object \n",
      " 4   Age                       100000 non-null  int64  \n",
      " 5   SSN                       100000 non-null  object \n",
      " 6   Occupation                100000 non-null  object \n",
      " 7   Annual_Income             100000 non-null  int64  \n",
      " 8   Monthly_Inhand_Salary     100000 non-null  int64  \n",
      " 9   Num_Bank_Accounts         100000 non-null  int64  \n",
      " 10  Num_Credit_Card           100000 non-null  int64  \n",
      " 11  Interest_Rate             100000 non-null  int64  \n",
      " 12  Num_of_Loan               100000 non-null  object \n",
      " 13  Type_of_Loan              88592 non-null   object \n",
      " 14  Delay_from_due_date       100000 non-null  int64  \n",
      " 15  Num_of_Delayed_Payment    92998 non-null   object \n",
      " 16  Changed_Credit_Limit      100000 non-null  object \n",
      " 17  Num_Credit_Inquiries      100000 non-null  int64  \n",
      " 18  Credit_Mix                100000 non-null  object \n",
      " 19  Outstanding_Debt          100000 non-null  object \n",
      " 20  Credit_Utilization_Ratio  100000 non-null  float64\n",
      " 21  Credit_History_Age        90970 non-null   object \n",
      " 22  Payment_of_Min_Amount     100000 non-null  object \n",
      " 23  Total_EMI_per_month       100000 non-null  float64\n",
      " 24  Amount_invested_monthly   95521 non-null   object \n",
      " 25  Payment_Behaviour         100000 non-null  object \n",
      " 26  Monthly_Balance           98800 non-null   object \n",
      "dtypes: float64(2), int64(8), object(17)\n",
      "memory usage: 20.6+ MB\n"
     ]
    }
   ],
   "source": [
    "df.info()"
   ]
  },
  {
   "cell_type": "markdown",
   "id": "f8dd26bb",
   "metadata": {},
   "source": [
    "## Interest Rate"
   ]
  },
  {
   "cell_type": "code",
   "execution_count": 7960,
   "id": "2f9acb12",
   "metadata": {},
   "outputs": [
    {
     "data": {
      "text/plain": [
       "71641    5797\n",
       "73583    5789\n",
       "23512    5788\n",
       "88505    5776\n",
       "77710    5775\n",
       "         ... \n",
       "47699       1\n",
       "47700       1\n",
       "47701       1\n",
       "47702       1\n",
       "76431       1\n",
       "Name: Interest_Rate, Length: 100000, dtype: int64"
      ]
     },
     "execution_count": 7960,
     "metadata": {},
     "output_type": "execute_result"
    }
   ],
   "source": [
    "df.Interest_Rate.sort_values(ascending=False)"
   ]
  },
  {
   "cell_type": "code",
   "execution_count": 7961,
   "id": "c2374a00",
   "metadata": {},
   "outputs": [],
   "source": [
    "df['Interest_Rate']= df['Interest_Rate'].apply(replace_values,args=[upper_limit(df.Interest_Rate ),lower_limit(df.Interest_Rate)])"
   ]
  },
  {
   "cell_type": "code",
   "execution_count": 7962,
   "id": "44271b89",
   "metadata": {},
   "outputs": [
    {
     "data": {
      "text/plain": [
       "7881     38.0\n",
       "59488    38.0\n",
       "20846    38.0\n",
       "98349    38.0\n",
       "20864    38.0\n",
       "         ... \n",
       "47699     1.0\n",
       "47700     1.0\n",
       "47701     1.0\n",
       "47702     1.0\n",
       "76431     1.0\n",
       "Name: Interest_Rate, Length: 100000, dtype: float64"
      ]
     },
     "execution_count": 7962,
     "metadata": {},
     "output_type": "execute_result"
    }
   ],
   "source": [
    "df.Interest_Rate.sort_values(ascending=False)"
   ]
  },
  {
   "cell_type": "code",
   "execution_count": 7963,
   "id": "ea219258",
   "metadata": {},
   "outputs": [],
   "source": [
    "df['Interest_Rate']= df['Interest_Rate'].apply(replace_values,args=[upper_limit(df.Interest_Rate ),lower_limit(df.Interest_Rate)])"
   ]
  },
  {
   "cell_type": "code",
   "execution_count": 7964,
   "id": "ba2a2f2b",
   "metadata": {},
   "outputs": [
    {
     "data": {
      "text/plain": [
       "7881     38.0\n",
       "59488    38.0\n",
       "20846    38.0\n",
       "98349    38.0\n",
       "20864    38.0\n",
       "         ... \n",
       "47699     1.0\n",
       "47700     1.0\n",
       "47701     1.0\n",
       "47702     1.0\n",
       "76431     1.0\n",
       "Name: Interest_Rate, Length: 100000, dtype: float64"
      ]
     },
     "execution_count": 7964,
     "metadata": {},
     "output_type": "execute_result"
    }
   ],
   "source": [
    "df.Interest_Rate.sort_values(ascending=False)"
   ]
  },
  {
   "cell_type": "code",
   "execution_count": 7965,
   "id": "48ecd893",
   "metadata": {},
   "outputs": [
    {
     "data": {
      "text/plain": [
       "array([ 3.,  6.,  8.,  4.,  5., 38., 15.,  7., 12., 20.,  1., 14., 32.,\n",
       "       16., 17., 10., 31., 25., 18., 19.,  9., 24., 13., 33., 11., 21.,\n",
       "       29., 28., 30., 23., 34.,  2., 27., 26., 22.])"
      ]
     },
     "execution_count": 7965,
     "metadata": {},
     "output_type": "execute_result"
    }
   ],
   "source": [
    "df.Interest_Rate.unique()"
   ]
  },
  {
   "cell_type": "code",
   "execution_count": 7966,
   "id": "499a0a6b",
   "metadata": {},
   "outputs": [],
   "source": [
    "df.Interest_Rate=df.Interest_Rate.astype('float')"
   ]
  },
  {
   "cell_type": "markdown",
   "id": "5bf67410",
   "metadata": {},
   "source": [
    "# Num_of_Loan"
   ]
  },
  {
   "cell_type": "code",
   "execution_count": 7967,
   "id": "49669771",
   "metadata": {},
   "outputs": [
    {
     "data": {
      "text/plain": [
       "80022      9_\n",
       "391        9_\n",
       "29172      9_\n",
       "86707      9_\n",
       "9211       9_\n",
       "         ... \n",
       "41951    -100\n",
       "41947    -100\n",
       "77393    -100\n",
       "94382    -100\n",
       "77045    -100\n",
       "Name: Num_of_Loan, Length: 100000, dtype: object"
      ]
     },
     "execution_count": 7967,
     "metadata": {},
     "output_type": "execute_result"
    }
   ],
   "source": [
    "df.Num_of_Loan.sort_values(ascending=False)"
   ]
  },
  {
   "cell_type": "code",
   "execution_count": 7968,
   "id": "b4c7fecf",
   "metadata": {},
   "outputs": [],
   "source": [
    "df.Num_of_Loan=df.Num_of_Loan.str.replace('-','').str.replace('_','')"
   ]
  },
  {
   "cell_type": "code",
   "execution_count": 7969,
   "id": "11768d1c",
   "metadata": {},
   "outputs": [],
   "source": [
    "df.Num_of_Loan=pd.to_numeric(df.Num_of_Loan)"
   ]
  },
  {
   "cell_type": "code",
   "execution_count": 7970,
   "id": "e57f413e",
   "metadata": {},
   "outputs": [
    {
     "data": {
      "text/html": [
       "<div>\n",
       "<style scoped>\n",
       "    .dataframe tbody tr th:only-of-type {\n",
       "        vertical-align: middle;\n",
       "    }\n",
       "\n",
       "    .dataframe tbody tr th {\n",
       "        vertical-align: top;\n",
       "    }\n",
       "\n",
       "    .dataframe thead th {\n",
       "        text-align: right;\n",
       "    }\n",
       "</style>\n",
       "<table border=\"1\" class=\"dataframe\">\n",
       "  <thead>\n",
       "    <tr style=\"text-align: right;\">\n",
       "      <th></th>\n",
       "      <th>Num_of_Loan</th>\n",
       "    </tr>\n",
       "  </thead>\n",
       "  <tbody>\n",
       "    <tr>\n",
       "      <th>count</th>\n",
       "      <td>100000.000000</td>\n",
       "    </tr>\n",
       "    <tr>\n",
       "      <th>mean</th>\n",
       "      <td>10.761960</td>\n",
       "    </tr>\n",
       "    <tr>\n",
       "      <th>std</th>\n",
       "      <td>61.789933</td>\n",
       "    </tr>\n",
       "    <tr>\n",
       "      <th>min</th>\n",
       "      <td>0.000000</td>\n",
       "    </tr>\n",
       "    <tr>\n",
       "      <th>25%</th>\n",
       "      <td>2.000000</td>\n",
       "    </tr>\n",
       "    <tr>\n",
       "      <th>50%</th>\n",
       "      <td>3.000000</td>\n",
       "    </tr>\n",
       "    <tr>\n",
       "      <th>75%</th>\n",
       "      <td>6.000000</td>\n",
       "    </tr>\n",
       "    <tr>\n",
       "      <th>max</th>\n",
       "      <td>1496.000000</td>\n",
       "    </tr>\n",
       "  </tbody>\n",
       "</table>\n",
       "</div>"
      ],
      "text/plain": [
       "         Num_of_Loan\n",
       "count  100000.000000\n",
       "mean       10.761960\n",
       "std        61.789933\n",
       "min         0.000000\n",
       "25%         2.000000\n",
       "50%         3.000000\n",
       "75%         6.000000\n",
       "max      1496.000000"
      ]
     },
     "execution_count": 7970,
     "metadata": {},
     "output_type": "execute_result"
    }
   ],
   "source": [
    "df[['Num_of_Loan']].describe()"
   ]
  },
  {
   "cell_type": "code",
   "execution_count": 7971,
   "id": "004a8e11",
   "metadata": {},
   "outputs": [],
   "source": [
    "df['Num_of_Loan']= df['Num_of_Loan'].apply(replace_values,args=[upper_limit(df.Num_of_Loan ),lower_limit(df.Num_of_Loan)])"
   ]
  },
  {
   "cell_type": "code",
   "execution_count": 7972,
   "id": "b4611c30",
   "metadata": {},
   "outputs": [],
   "source": [
    "df.Num_of_Loan=df.Num_of_Loan.astype('int')"
   ]
  },
  {
   "cell_type": "code",
   "execution_count": 7973,
   "id": "55d61a14",
   "metadata": {},
   "outputs": [
    {
     "data": {
      "text/html": [
       "<div>\n",
       "<style scoped>\n",
       "    .dataframe tbody tr th:only-of-type {\n",
       "        vertical-align: middle;\n",
       "    }\n",
       "\n",
       "    .dataframe tbody tr th {\n",
       "        vertical-align: top;\n",
       "    }\n",
       "\n",
       "    .dataframe thead th {\n",
       "        text-align: right;\n",
       "    }\n",
       "</style>\n",
       "<table border=\"1\" class=\"dataframe\">\n",
       "  <thead>\n",
       "    <tr style=\"text-align: right;\">\n",
       "      <th></th>\n",
       "      <th>Num_of_Loan</th>\n",
       "    </tr>\n",
       "  </thead>\n",
       "  <tbody>\n",
       "    <tr>\n",
       "      <th>count</th>\n",
       "      <td>100000.000000</td>\n",
       "    </tr>\n",
       "    <tr>\n",
       "      <th>mean</th>\n",
       "      <td>3.901870</td>\n",
       "    </tr>\n",
       "    <tr>\n",
       "      <th>std</th>\n",
       "      <td>2.951262</td>\n",
       "    </tr>\n",
       "    <tr>\n",
       "      <th>min</th>\n",
       "      <td>0.000000</td>\n",
       "    </tr>\n",
       "    <tr>\n",
       "      <th>25%</th>\n",
       "      <td>2.000000</td>\n",
       "    </tr>\n",
       "    <tr>\n",
       "      <th>50%</th>\n",
       "      <td>3.000000</td>\n",
       "    </tr>\n",
       "    <tr>\n",
       "      <th>75%</th>\n",
       "      <td>6.000000</td>\n",
       "    </tr>\n",
       "    <tr>\n",
       "      <th>max</th>\n",
       "      <td>12.000000</td>\n",
       "    </tr>\n",
       "  </tbody>\n",
       "</table>\n",
       "</div>"
      ],
      "text/plain": [
       "         Num_of_Loan\n",
       "count  100000.000000\n",
       "mean        3.901870\n",
       "std         2.951262\n",
       "min         0.000000\n",
       "25%         2.000000\n",
       "50%         3.000000\n",
       "75%         6.000000\n",
       "max        12.000000"
      ]
     },
     "execution_count": 7973,
     "metadata": {},
     "output_type": "execute_result"
    }
   ],
   "source": [
    "df[['Num_of_Loan']].describe()"
   ]
  },
  {
   "cell_type": "code",
   "execution_count": 7974,
   "id": "0bc6a5d1",
   "metadata": {},
   "outputs": [
    {
     "name": "stdout",
     "output_type": "stream",
     "text": [
      "<class 'pandas.core.frame.DataFrame'>\n",
      "RangeIndex: 100000 entries, 0 to 99999\n",
      "Data columns (total 27 columns):\n",
      " #   Column                    Non-Null Count   Dtype  \n",
      "---  ------                    --------------   -----  \n",
      " 0   ID                        100000 non-null  object \n",
      " 1   Customer_ID               100000 non-null  object \n",
      " 2   Month                     100000 non-null  object \n",
      " 3   Name                      100000 non-null  object \n",
      " 4   Age                       100000 non-null  int64  \n",
      " 5   SSN                       100000 non-null  object \n",
      " 6   Occupation                100000 non-null  object \n",
      " 7   Annual_Income             100000 non-null  int64  \n",
      " 8   Monthly_Inhand_Salary     100000 non-null  int64  \n",
      " 9   Num_Bank_Accounts         100000 non-null  int64  \n",
      " 10  Num_Credit_Card           100000 non-null  int64  \n",
      " 11  Interest_Rate             100000 non-null  float64\n",
      " 12  Num_of_Loan               100000 non-null  int64  \n",
      " 13  Type_of_Loan              88592 non-null   object \n",
      " 14  Delay_from_due_date       100000 non-null  int64  \n",
      " 15  Num_of_Delayed_Payment    92998 non-null   object \n",
      " 16  Changed_Credit_Limit      100000 non-null  object \n",
      " 17  Num_Credit_Inquiries      100000 non-null  int64  \n",
      " 18  Credit_Mix                100000 non-null  object \n",
      " 19  Outstanding_Debt          100000 non-null  object \n",
      " 20  Credit_Utilization_Ratio  100000 non-null  float64\n",
      " 21  Credit_History_Age        90970 non-null   object \n",
      " 22  Payment_of_Min_Amount     100000 non-null  object \n",
      " 23  Total_EMI_per_month       100000 non-null  float64\n",
      " 24  Amount_invested_monthly   95521 non-null   object \n",
      " 25  Payment_Behaviour         100000 non-null  object \n",
      " 26  Monthly_Balance           98800 non-null   object \n",
      "dtypes: float64(3), int64(8), object(16)\n",
      "memory usage: 20.6+ MB\n"
     ]
    }
   ],
   "source": [
    "df.info()"
   ]
  },
  {
   "cell_type": "markdown",
   "id": "b6a35bce",
   "metadata": {},
   "source": [
    "## Payment_of_Min_Amount "
   ]
  },
  {
   "cell_type": "code",
   "execution_count": 7975,
   "id": "24c76d61",
   "metadata": {},
   "outputs": [
    {
     "data": {
      "text/plain": [
       "3"
      ]
     },
     "execution_count": 7975,
     "metadata": {},
     "output_type": "execute_result"
    }
   ],
   "source": [
    "df.Payment_of_Min_Amount.nunique()"
   ]
  },
  {
   "cell_type": "code",
   "execution_count": 7976,
   "id": "bee06574",
   "metadata": {},
   "outputs": [
    {
     "data": {
      "text/plain": [
       "array(['No', 'NM', 'Yes'], dtype=object)"
      ]
     },
     "execution_count": 7976,
     "metadata": {},
     "output_type": "execute_result"
    }
   ],
   "source": [
    "df.Payment_of_Min_Amount.unique()"
   ]
  },
  {
   "cell_type": "code",
   "execution_count": 7977,
   "id": "aefd420b",
   "metadata": {},
   "outputs": [
    {
     "data": {
      "text/plain": [
       "Yes    52326\n",
       "No     35667\n",
       "NM     12007\n",
       "Name: Payment_of_Min_Amount, dtype: int64"
      ]
     },
     "execution_count": 7977,
     "metadata": {},
     "output_type": "execute_result"
    }
   ],
   "source": [
    "df.Payment_of_Min_Amount.value_counts()"
   ]
  },
  {
   "cell_type": "code",
   "execution_count": 7978,
   "id": "a42a940c",
   "metadata": {},
   "outputs": [],
   "source": [
    "df.Payment_of_Min_Amount=np.where(df.Payment_of_Min_Amount=='NM',np.NaN,df.Payment_of_Min_Amount)"
   ]
  },
  {
   "cell_type": "code",
   "execution_count": 7979,
   "id": "8d663537",
   "metadata": {},
   "outputs": [
    {
     "data": {
      "text/plain": [
       "array(['No', nan, 'Yes'], dtype=object)"
      ]
     },
     "execution_count": 7979,
     "metadata": {},
     "output_type": "execute_result"
    }
   ],
   "source": [
    "df.Payment_of_Min_Amount.unique()"
   ]
  },
  {
   "cell_type": "code",
   "execution_count": 7980,
   "id": "edfdbc98",
   "metadata": {},
   "outputs": [],
   "source": [
    "sample=df.merge(df.groupby('Customer_ID')['Payment_of_Min_Amount'].agg(pd.Series.mode).reset_index(),left_on='Customer_ID',right_on='Customer_ID')"
   ]
  },
  {
   "cell_type": "code",
   "execution_count": 7981,
   "id": "48039c5a",
   "metadata": {},
   "outputs": [],
   "source": [
    "df.Payment_of_Min_Amount.fillna(sample.Payment_of_Min_Amount_y,inplace=True)"
   ]
  },
  {
   "cell_type": "code",
   "execution_count": 7982,
   "id": "dd850802",
   "metadata": {},
   "outputs": [
    {
     "data": {
      "text/plain": [
       "array(['No', 'Yes'], dtype=object)"
      ]
     },
     "execution_count": 7982,
     "metadata": {},
     "output_type": "execute_result"
    }
   ],
   "source": [
    "df.Payment_of_Min_Amount.unique()"
   ]
  },
  {
   "cell_type": "code",
   "execution_count": 7983,
   "id": "aca16ca3",
   "metadata": {},
   "outputs": [
    {
     "data": {
      "text/plain": [
       "2"
      ]
     },
     "execution_count": 7983,
     "metadata": {},
     "output_type": "execute_result"
    }
   ],
   "source": [
    "df.Payment_of_Min_Amount.nunique()"
   ]
  },
  {
   "cell_type": "markdown",
   "id": "55f6c5b2",
   "metadata": {},
   "source": [
    "## Credit_History_Age "
   ]
  },
  {
   "cell_type": "code",
   "execution_count": 7984,
   "id": "0d7cf63d",
   "metadata": {},
   "outputs": [
    {
     "data": {
      "text/plain": [
       "dtype('O')"
      ]
     },
     "execution_count": 7984,
     "metadata": {},
     "output_type": "execute_result"
    }
   ],
   "source": [
    "df.Credit_History_Age.dtype"
   ]
  },
  {
   "cell_type": "code",
   "execution_count": 7985,
   "id": "474a0b1d",
   "metadata": {},
   "outputs": [
    {
     "data": {
      "text/plain": [
       "array(['22 Years and 1 Months', nan, '22 Years and 3 Months',\n",
       "       '22 Years and 4 Months', '22 Years and 5 Months',\n",
       "       '22 Years and 6 Months', '22 Years and 7 Months',\n",
       "       '26 Years and 7 Months', '26 Years and 8 Months',\n",
       "       '26 Years and 9 Months', '26 Years and 10 Months',\n",
       "       '26 Years and 11 Months', '27 Years and 0 Months',\n",
       "       '27 Years and 1 Months', '27 Years and 2 Months',\n",
       "       '17 Years and 9 Months', '17 Years and 10 Months',\n",
       "       '17 Years and 11 Months', '18 Years and 1 Months',\n",
       "       '18 Years and 2 Months', '18 Years and 3 Months',\n",
       "       '18 Years and 4 Months', '17 Years and 3 Months',\n",
       "       '17 Years and 4 Months', '17 Years and 5 Months',\n",
       "       '17 Years and 6 Months', '17 Years and 7 Months',\n",
       "       '17 Years and 8 Months', '30 Years and 8 Months',\n",
       "       '30 Years and 9 Months', '30 Years and 10 Months',\n",
       "       '30 Years and 11 Months', '31 Years and 0 Months',\n",
       "       '31 Years and 1 Months', '31 Years and 2 Months',\n",
       "       '31 Years and 3 Months', '32 Years and 0 Months',\n",
       "       '32 Years and 2 Months', '32 Years and 3 Months',\n",
       "       '32 Years and 5 Months', '32 Years and 6 Months',\n",
       "       '30 Years and 7 Months', '14 Years and 8 Months',\n",
       "       '14 Years and 9 Months', '14 Years and 10 Months',\n",
       "       '14 Years and 11 Months', '15 Years and 0 Months',\n",
       "       '15 Years and 1 Months', '15 Years and 2 Months',\n",
       "       '21 Years and 4 Months', '21 Years and 5 Months',\n",
       "       '21 Years and 6 Months', '21 Years and 7 Months',\n",
       "       '21 Years and 8 Months', '21 Years and 9 Months',\n",
       "       '21 Years and 10 Months', '21 Years and 11 Months',\n",
       "       '26 Years and 6 Months', '19 Years and 2 Months',\n",
       "       '19 Years and 3 Months', '19 Years and 4 Months',\n",
       "       '19 Years and 5 Months', '19 Years and 6 Months',\n",
       "       '19 Years and 7 Months', '19 Years and 8 Months',\n",
       "       '25 Years and 5 Months', '25 Years and 6 Months',\n",
       "       '25 Years and 7 Months', '25 Years and 8 Months',\n",
       "       '25 Years and 9 Months', '25 Years and 10 Months',\n",
       "       '25 Years and 11 Months', '26 Years and 0 Months',\n",
       "       '27 Years and 3 Months', '27 Years and 4 Months',\n",
       "       '27 Years and 5 Months', '8 Years and 11 Months',\n",
       "       '9 Years and 0 Months', '9 Years and 1 Months',\n",
       "       '9 Years and 2 Months', '9 Years and 3 Months',\n",
       "       '9 Years and 4 Months', '9 Years and 6 Months',\n",
       "       '18 Years and 5 Months', '18 Years and 6 Months',\n",
       "       '18 Years and 8 Months', '18 Years and 9 Months',\n",
       "       '16 Years and 10 Months', '16 Years and 11 Months',\n",
       "       '17 Years and 0 Months', '17 Years and 1 Months',\n",
       "       '17 Years and 2 Months', '29 Years and 2 Months',\n",
       "       '29 Years and 3 Months', '29 Years and 4 Months',\n",
       "       '29 Years and 6 Months', '29 Years and 8 Months',\n",
       "       '29 Years and 9 Months', '6 Years and 5 Months',\n",
       "       '6 Years and 6 Months', '6 Years and 7 Months',\n",
       "       '6 Years and 8 Months', '6 Years and 9 Months',\n",
       "       '6 Years and 10 Months', '6 Years and 11 Months',\n",
       "       '7 Years and 0 Months', '27 Years and 6 Months',\n",
       "       '27 Years and 7 Months', '27 Years and 8 Months',\n",
       "       '27 Years and 9 Months', '18 Years and 7 Months',\n",
       "       '19 Years and 9 Months', '19 Years and 10 Months',\n",
       "       '10 Years and 1 Months', '10 Years and 2 Months',\n",
       "       '10 Years and 3 Months', '10 Years and 4 Months',\n",
       "       '10 Years and 5 Months', '10 Years and 6 Months',\n",
       "       '10 Years and 7 Months', '10 Years and 8 Months',\n",
       "       '32 Years and 9 Months', '32 Years and 10 Months',\n",
       "       '32 Years and 11 Months', '33 Years and 0 Months',\n",
       "       '33 Years and 1 Months', '33 Years and 4 Months',\n",
       "       '12 Years and 3 Months', '12 Years and 4 Months',\n",
       "       '12 Years and 5 Months', '12 Years and 6 Months',\n",
       "       '12 Years and 7 Months', '12 Years and 8 Months',\n",
       "       '12 Years and 10 Months', '12 Years and 9 Months',\n",
       "       '13 Years and 8 Months', '13 Years and 11 Months',\n",
       "       '14 Years and 0 Months', '14 Years and 1 Months',\n",
       "       '14 Years and 2 Months', '14 Years and 3 Months',\n",
       "       '30 Years and 3 Months', '30 Years and 4 Months',\n",
       "       '30 Years and 5 Months', '30 Years and 6 Months',\n",
       "       '8 Years and 9 Months', '8 Years and 10 Months',\n",
       "       '18 Years and 10 Months', '18 Years and 11 Months',\n",
       "       '19 Years and 0 Months', '19 Years and 1 Months',\n",
       "       '8 Years and 8 Months', '13 Years and 1 Months',\n",
       "       '13 Years and 2 Months', '13 Years and 3 Months',\n",
       "       '13 Years and 5 Months', '13 Years and 6 Months',\n",
       "       '13 Years and 7 Months', '22 Years and 0 Months',\n",
       "       '26 Years and 1 Months', '26 Years and 2 Months',\n",
       "       '13 Years and 4 Months', '13 Years and 9 Months',\n",
       "       '27 Years and 11 Months', '28 Years and 0 Months',\n",
       "       '28 Years and 1 Months', '28 Years and 2 Months',\n",
       "       '28 Years and 3 Months', '28 Years and 4 Months',\n",
       "       '28 Years and 5 Months', '28 Years and 6 Months',\n",
       "       '7 Years and 10 Months', '7 Years and 11 Months',\n",
       "       '8 Years and 0 Months', '8 Years and 1 Months',\n",
       "       '8 Years and 2 Months', '8 Years and 3 Months',\n",
       "       '8 Years and 4 Months', '8 Years and 5 Months',\n",
       "       '24 Years and 3 Months', '24 Years and 4 Months',\n",
       "       '24 Years and 5 Months', '24 Years and 6 Months',\n",
       "       '24 Years and 7 Months', '24 Years and 8 Months',\n",
       "       '24 Years and 9 Months', '1 Years and 2 Months',\n",
       "       '1 Years and 3 Months', '1 Years and 4 Months',\n",
       "       '1 Years and 5 Months', '1 Years and 6 Months',\n",
       "       '1 Years and 7 Months', '1 Years and 8 Months',\n",
       "       '10 Years and 11 Months', '11 Years and 0 Months',\n",
       "       '11 Years and 1 Months', '11 Years and 2 Months',\n",
       "       '11 Years and 3 Months', '11 Years and 4 Months',\n",
       "       '11 Years and 5 Months', '11 Years and 6 Months',\n",
       "       '19 Years and 11 Months', '20 Years and 0 Months',\n",
       "       '20 Years and 1 Months', '10 Years and 9 Months',\n",
       "       '10 Years and 10 Months', '14 Years and 4 Months',\n",
       "       '14 Years and 5 Months', '14 Years and 6 Months',\n",
       "       '20 Years and 8 Months', '20 Years and 9 Months',\n",
       "       '20 Years and 10 Months', '20 Years and 11 Months',\n",
       "       '21 Years and 0 Months', '21 Years and 1 Months',\n",
       "       '21 Years and 2 Months', '21 Years and 3 Months',\n",
       "       '0 Years and 4 Months', '0 Years and 5 Months',\n",
       "       '0 Years and 6 Months', '0 Years and 8 Months',\n",
       "       '0 Years and 9 Months', '0 Years and 10 Months',\n",
       "       '31 Years and 7 Months', '31 Years and 8 Months',\n",
       "       '31 Years and 9 Months', '31 Years and 10 Months',\n",
       "       '31 Years and 11 Months', '32 Years and 1 Months',\n",
       "       '12 Years and 11 Months', '13 Years and 0 Months',\n",
       "       '27 Years and 10 Months', '11 Years and 7 Months',\n",
       "       '11 Years and 8 Months', '11 Years and 9 Months',\n",
       "       '11 Years and 10 Months', '24 Years and 10 Months',\n",
       "       '24 Years and 11 Months', '25 Years and 0 Months',\n",
       "       '25 Years and 1 Months', '25 Years and 2 Months',\n",
       "       '25 Years and 3 Months', '18 Years and 0 Months',\n",
       "       '31 Years and 4 Months', '31 Years and 5 Months',\n",
       "       '31 Years and 6 Months', '5 Years and 2 Months',\n",
       "       '5 Years and 3 Months', '5 Years and 4 Months',\n",
       "       '5 Years and 5 Months', '5 Years and 6 Months',\n",
       "       '5 Years and 7 Months', '5 Years and 8 Months',\n",
       "       '5 Years and 9 Months', '2 Years and 11 Months',\n",
       "       '3 Years and 0 Months', '3 Years and 1 Months',\n",
       "       '3 Years and 2 Months', '3 Years and 3 Months',\n",
       "       '3 Years and 4 Months', '3 Years and 5 Months',\n",
       "       '3 Years and 6 Months', '16 Years and 4 Months',\n",
       "       '16 Years and 5 Months', '16 Years and 6 Months',\n",
       "       '16 Years and 7 Months', '16 Years and 8 Months',\n",
       "       '16 Years and 9 Months', '22 Years and 11 Months',\n",
       "       '23 Years and 0 Months', '23 Years and 2 Months',\n",
       "       '23 Years and 3 Months', '23 Years and 4 Months',\n",
       "       '23 Years and 5 Months', '23 Years and 6 Months',\n",
       "       '8 Years and 6 Months', '8 Years and 7 Months',\n",
       "       '4 Years and 5 Months', '4 Years and 6 Months',\n",
       "       '4 Years and 7 Months', '4 Years and 8 Months',\n",
       "       '4 Years and 9 Months', '4 Years and 10 Months',\n",
       "       '4 Years and 11 Months', '5 Years and 0 Months',\n",
       "       '32 Years and 8 Months', '33 Years and 2 Months',\n",
       "       '33 Years and 3 Months', '12 Years and 2 Months',\n",
       "       '32 Years and 4 Months', '29 Years and 11 Months',\n",
       "       '30 Years and 0 Months', '30 Years and 2 Months',\n",
       "       '26 Years and 3 Months', '26 Years and 4 Months',\n",
       "       '26 Years and 5 Months', '7 Years and 6 Months',\n",
       "       '7 Years and 7 Months', '7 Years and 8 Months',\n",
       "       '7 Years and 9 Months', '28 Years and 7 Months',\n",
       "       '28 Years and 8 Months', '28 Years and 9 Months',\n",
       "       '28 Years and 10 Months', '29 Years and 5 Months',\n",
       "       '29 Years and 7 Months', '20 Years and 2 Months',\n",
       "       '20 Years and 3 Months', '20 Years and 4 Months',\n",
       "       '20 Years and 5 Months', '20 Years and 6 Months',\n",
       "       '20 Years and 7 Months', '28 Years and 11 Months',\n",
       "       '29 Years and 0 Months', '13 Years and 10 Months',\n",
       "       '1 Years and 9 Months', '1 Years and 10 Months',\n",
       "       '1 Years and 11 Months', '33 Years and 5 Months',\n",
       "       '33 Years and 6 Months', '33 Years and 7 Months',\n",
       "       '33 Years and 8 Months', '29 Years and 1 Months',\n",
       "       '5 Years and 1 Months', '5 Years and 10 Months',\n",
       "       '5 Years and 11 Months', '6 Years and 0 Months',\n",
       "       '6 Years and 1 Months', '6 Years and 2 Months',\n",
       "       '6 Years and 3 Months', '22 Years and 9 Months',\n",
       "       '22 Years and 10 Months', '23 Years and 1 Months',\n",
       "       '22 Years and 2 Months', '15 Years and 4 Months',\n",
       "       '15 Years and 5 Months', '15 Years and 6 Months',\n",
       "       '15 Years and 7 Months', '15 Years and 8 Months',\n",
       "       '15 Years and 9 Months', '15 Years and 10 Months',\n",
       "       '15 Years and 11 Months', '2 Years and 3 Months',\n",
       "       '2 Years and 4 Months', '2 Years and 5 Months',\n",
       "       '2 Years and 6 Months', '2 Years and 7 Months',\n",
       "       '2 Years and 8 Months', '2 Years and 9 Months',\n",
       "       '2 Years and 10 Months', '2 Years and 0 Months',\n",
       "       '16 Years and 2 Months', '16 Years and 3 Months',\n",
       "       '22 Years and 8 Months', '9 Years and 5 Months',\n",
       "       '9 Years and 7 Months', '9 Years and 8 Months',\n",
       "       '9 Years and 9 Months', '11 Years and 11 Months',\n",
       "       '12 Years and 0 Months', '12 Years and 1 Months',\n",
       "       '24 Years and 2 Months', '16 Years and 0 Months',\n",
       "       '16 Years and 1 Months', '14 Years and 7 Months',\n",
       "       '25 Years and 4 Months', '15 Years and 3 Months',\n",
       "       '7 Years and 1 Months', '7 Years and 2 Months',\n",
       "       '7 Years and 3 Months', '7 Years and 4 Months',\n",
       "       '7 Years and 5 Months', '23 Years and 7 Months',\n",
       "       '23 Years and 8 Months', '23 Years and 9 Months',\n",
       "       '30 Years and 1 Months', '29 Years and 10 Months',\n",
       "       '9 Years and 10 Months', '9 Years and 11 Months',\n",
       "       '10 Years and 0 Months', '2 Years and 2 Months',\n",
       "       '23 Years and 10 Months', '23 Years and 11 Months',\n",
       "       '24 Years and 0 Months', '24 Years and 1 Months',\n",
       "       '6 Years and 4 Months', '0 Years and 1 Months',\n",
       "       '0 Years and 2 Months', '0 Years and 3 Months',\n",
       "       '0 Years and 7 Months', '3 Years and 8 Months',\n",
       "       '32 Years and 7 Months', '3 Years and 7 Months',\n",
       "       '3 Years and 9 Months', '3 Years and 10 Months',\n",
       "       '0 Years and 11 Months', '1 Years and 0 Months',\n",
       "       '1 Years and 1 Months', '4 Years and 4 Months',\n",
       "       '3 Years and 11 Months', '4 Years and 0 Months',\n",
       "       '4 Years and 1 Months', '4 Years and 2 Months',\n",
       "       '4 Years and 3 Months', '2 Years and 1 Months'], dtype=object)"
      ]
     },
     "execution_count": 7985,
     "metadata": {},
     "output_type": "execute_result"
    }
   ],
   "source": [
    "df.Credit_History_Age.unique()"
   ]
  },
  {
   "cell_type": "code",
   "execution_count": 7986,
   "id": "fd110f0d",
   "metadata": {},
   "outputs": [],
   "source": [
    "df.Credit_History_Age.fillna(0,inplace=True)"
   ]
  },
  {
   "cell_type": "code",
   "execution_count": 7987,
   "id": "39f7fb8d",
   "metadata": {},
   "outputs": [],
   "source": [
    "def split_credit_history(value):\n",
    "    \n",
    "  \n",
    "    \n",
    "    if value!=0:\n",
    "    \n",
    "        li=value.split(' ')\n",
    "\n",
    "        \n",
    "        li[0]=int(li[0])\n",
    "        li[3]=int(li[3])\n",
    "\n",
    "        return np.round(((li[0]*12)+li[3])/12)\n",
    "    else :\n",
    "        return 0"
   ]
  },
  {
   "cell_type": "code",
   "execution_count": 7988,
   "id": "69dc711b",
   "metadata": {},
   "outputs": [],
   "source": [
    "df.Credit_History_Age=df.Credit_History_Age.apply(split_credit_history)"
   ]
  },
  {
   "cell_type": "code",
   "execution_count": 7989,
   "id": "67f45258",
   "metadata": {},
   "outputs": [
    {
     "data": {
      "text/plain": [
       "35"
      ]
     },
     "execution_count": 7989,
     "metadata": {},
     "output_type": "execute_result"
    }
   ],
   "source": [
    "df.Credit_History_Age.nunique()"
   ]
  },
  {
   "cell_type": "code",
   "execution_count": 7990,
   "id": "a75c8aaa",
   "metadata": {},
   "outputs": [],
   "source": [
    "sample=df.merge(df.groupby('Customer_ID')['Credit_History_Age'].mean().reset_index(),left_on='Customer_ID',right_on='Customer_ID')"
   ]
  },
  {
   "cell_type": "code",
   "execution_count": 7991,
   "id": "ce96c406",
   "metadata": {},
   "outputs": [],
   "source": [
    "df.Credit_History_Age=np.round(sample.Credit_History_Age_y*1).astype('int')"
   ]
  },
  {
   "cell_type": "code",
   "execution_count": 7992,
   "id": "3e30fe6c",
   "metadata": {},
   "outputs": [
    {
     "data": {
      "text/plain": [
       "0        17\n",
       "1        17\n",
       "2        17\n",
       "3        17\n",
       "4        17\n",
       "         ..\n",
       "99995    32\n",
       "99996    32\n",
       "99997    32\n",
       "99998    32\n",
       "99999    32\n",
       "Name: Credit_History_Age, Length: 100000, dtype: int64"
      ]
     },
     "execution_count": 7992,
     "metadata": {},
     "output_type": "execute_result"
    }
   ],
   "source": [
    "df.Credit_History_Age"
   ]
  },
  {
   "cell_type": "code",
   "execution_count": 7993,
   "id": "55edc03d",
   "metadata": {},
   "outputs": [
    {
     "data": {
      "text/html": [
       "<div>\n",
       "<style scoped>\n",
       "    .dataframe tbody tr th:only-of-type {\n",
       "        vertical-align: middle;\n",
       "    }\n",
       "\n",
       "    .dataframe tbody tr th {\n",
       "        vertical-align: top;\n",
       "    }\n",
       "\n",
       "    .dataframe thead th {\n",
       "        text-align: right;\n",
       "    }\n",
       "</style>\n",
       "<table border=\"1\" class=\"dataframe\">\n",
       "  <thead>\n",
       "    <tr style=\"text-align: right;\">\n",
       "      <th></th>\n",
       "      <th>Credit_History_Age</th>\n",
       "    </tr>\n",
       "  </thead>\n",
       "  <tbody>\n",
       "    <tr>\n",
       "      <th>count</th>\n",
       "      <td>100000.000000</td>\n",
       "    </tr>\n",
       "    <tr>\n",
       "      <th>mean</th>\n",
       "      <td>16.770720</td>\n",
       "    </tr>\n",
       "    <tr>\n",
       "      <th>std</th>\n",
       "      <td>7.826726</td>\n",
       "    </tr>\n",
       "    <tr>\n",
       "      <th>min</th>\n",
       "      <td>0.000000</td>\n",
       "    </tr>\n",
       "    <tr>\n",
       "      <th>25%</th>\n",
       "      <td>11.000000</td>\n",
       "    </tr>\n",
       "    <tr>\n",
       "      <th>50%</th>\n",
       "      <td>17.000000</td>\n",
       "    </tr>\n",
       "    <tr>\n",
       "      <th>75%</th>\n",
       "      <td>23.000000</td>\n",
       "    </tr>\n",
       "    <tr>\n",
       "      <th>max</th>\n",
       "      <td>33.000000</td>\n",
       "    </tr>\n",
       "  </tbody>\n",
       "</table>\n",
       "</div>"
      ],
      "text/plain": [
       "       Credit_History_Age\n",
       "count       100000.000000\n",
       "mean            16.770720\n",
       "std              7.826726\n",
       "min              0.000000\n",
       "25%             11.000000\n",
       "50%             17.000000\n",
       "75%             23.000000\n",
       "max             33.000000"
      ]
     },
     "execution_count": 7993,
     "metadata": {},
     "output_type": "execute_result"
    }
   ],
   "source": [
    "df[['Credit_History_Age']].describe()"
   ]
  },
  {
   "cell_type": "code",
   "execution_count": 7994,
   "id": "cbc757f3",
   "metadata": {},
   "outputs": [
    {
     "name": "stdout",
     "output_type": "stream",
     "text": [
      "<class 'pandas.core.frame.DataFrame'>\n",
      "RangeIndex: 100000 entries, 0 to 99999\n",
      "Data columns (total 27 columns):\n",
      " #   Column                    Non-Null Count   Dtype  \n",
      "---  ------                    --------------   -----  \n",
      " 0   ID                        100000 non-null  object \n",
      " 1   Customer_ID               100000 non-null  object \n",
      " 2   Month                     100000 non-null  object \n",
      " 3   Name                      100000 non-null  object \n",
      " 4   Age                       100000 non-null  int64  \n",
      " 5   SSN                       100000 non-null  object \n",
      " 6   Occupation                100000 non-null  object \n",
      " 7   Annual_Income             100000 non-null  int64  \n",
      " 8   Monthly_Inhand_Salary     100000 non-null  int64  \n",
      " 9   Num_Bank_Accounts         100000 non-null  int64  \n",
      " 10  Num_Credit_Card           100000 non-null  int64  \n",
      " 11  Interest_Rate             100000 non-null  float64\n",
      " 12  Num_of_Loan               100000 non-null  int64  \n",
      " 13  Type_of_Loan              88592 non-null   object \n",
      " 14  Delay_from_due_date       100000 non-null  int64  \n",
      " 15  Num_of_Delayed_Payment    92998 non-null   object \n",
      " 16  Changed_Credit_Limit      100000 non-null  object \n",
      " 17  Num_Credit_Inquiries      100000 non-null  int64  \n",
      " 18  Credit_Mix                100000 non-null  object \n",
      " 19  Outstanding_Debt          100000 non-null  object \n",
      " 20  Credit_Utilization_Ratio  100000 non-null  float64\n",
      " 21  Credit_History_Age        100000 non-null  int64  \n",
      " 22  Payment_of_Min_Amount     100000 non-null  object \n",
      " 23  Total_EMI_per_month       100000 non-null  float64\n",
      " 24  Amount_invested_monthly   95521 non-null   object \n",
      " 25  Payment_Behaviour         100000 non-null  object \n",
      " 26  Monthly_Balance           98800 non-null   object \n",
      "dtypes: float64(3), int64(9), object(15)\n",
      "memory usage: 20.6+ MB\n"
     ]
    }
   ],
   "source": [
    "df.info()"
   ]
  },
  {
   "cell_type": "markdown",
   "id": "9f12e95b",
   "metadata": {},
   "source": [
    "## Delay from Due Date, Num_of_Delayed_Payment \n",
    "\n",
    "#### -> Delay from Due Date is clean.\n",
    "#### -> Num of Delayed Payment is converted to numeric after removing typos and then the outliers are modified.\n",
    "#### -> Missing Values in Num of Delayed Payment is replaced by median values"
   ]
  },
  {
   "cell_type": "code",
   "execution_count": 7995,
   "id": "cda70749",
   "metadata": {},
   "outputs": [
    {
     "data": {
      "text/html": [
       "<div>\n",
       "<style scoped>\n",
       "    .dataframe tbody tr th:only-of-type {\n",
       "        vertical-align: middle;\n",
       "    }\n",
       "\n",
       "    .dataframe tbody tr th {\n",
       "        vertical-align: top;\n",
       "    }\n",
       "\n",
       "    .dataframe thead th {\n",
       "        text-align: right;\n",
       "    }\n",
       "</style>\n",
       "<table border=\"1\" class=\"dataframe\">\n",
       "  <thead>\n",
       "    <tr style=\"text-align: right;\">\n",
       "      <th></th>\n",
       "      <th>Delay_from_due_date</th>\n",
       "    </tr>\n",
       "  </thead>\n",
       "  <tbody>\n",
       "    <tr>\n",
       "      <th>count</th>\n",
       "      <td>100000.000000</td>\n",
       "    </tr>\n",
       "    <tr>\n",
       "      <th>mean</th>\n",
       "      <td>21.068780</td>\n",
       "    </tr>\n",
       "    <tr>\n",
       "      <th>std</th>\n",
       "      <td>14.860104</td>\n",
       "    </tr>\n",
       "    <tr>\n",
       "      <th>min</th>\n",
       "      <td>-5.000000</td>\n",
       "    </tr>\n",
       "    <tr>\n",
       "      <th>25%</th>\n",
       "      <td>10.000000</td>\n",
       "    </tr>\n",
       "    <tr>\n",
       "      <th>50%</th>\n",
       "      <td>18.000000</td>\n",
       "    </tr>\n",
       "    <tr>\n",
       "      <th>75%</th>\n",
       "      <td>28.000000</td>\n",
       "    </tr>\n",
       "    <tr>\n",
       "      <th>max</th>\n",
       "      <td>67.000000</td>\n",
       "    </tr>\n",
       "  </tbody>\n",
       "</table>\n",
       "</div>"
      ],
      "text/plain": [
       "       Delay_from_due_date\n",
       "count        100000.000000\n",
       "mean             21.068780\n",
       "std              14.860104\n",
       "min              -5.000000\n",
       "25%              10.000000\n",
       "50%              18.000000\n",
       "75%              28.000000\n",
       "max              67.000000"
      ]
     },
     "execution_count": 7995,
     "metadata": {},
     "output_type": "execute_result"
    }
   ],
   "source": [
    "df[['Delay_from_due_date']].describe()"
   ]
  },
  {
   "cell_type": "code",
   "execution_count": 7996,
   "id": "3eb3bc0f",
   "metadata": {},
   "outputs": [
    {
     "data": {
      "text/html": [
       "<div>\n",
       "<style scoped>\n",
       "    .dataframe tbody tr th:only-of-type {\n",
       "        vertical-align: middle;\n",
       "    }\n",
       "\n",
       "    .dataframe tbody tr th {\n",
       "        vertical-align: top;\n",
       "    }\n",
       "\n",
       "    .dataframe thead th {\n",
       "        text-align: right;\n",
       "    }\n",
       "</style>\n",
       "<table border=\"1\" class=\"dataframe\">\n",
       "  <thead>\n",
       "    <tr style=\"text-align: right;\">\n",
       "      <th></th>\n",
       "      <th>Delay_from_due_date</th>\n",
       "    </tr>\n",
       "  </thead>\n",
       "  <tbody>\n",
       "    <tr>\n",
       "      <th>0</th>\n",
       "      <td>3</td>\n",
       "    </tr>\n",
       "    <tr>\n",
       "      <th>1</th>\n",
       "      <td>-1</td>\n",
       "    </tr>\n",
       "    <tr>\n",
       "      <th>2</th>\n",
       "      <td>3</td>\n",
       "    </tr>\n",
       "    <tr>\n",
       "      <th>3</th>\n",
       "      <td>5</td>\n",
       "    </tr>\n",
       "    <tr>\n",
       "      <th>4</th>\n",
       "      <td>6</td>\n",
       "    </tr>\n",
       "    <tr>\n",
       "      <th>...</th>\n",
       "      <td>...</td>\n",
       "    </tr>\n",
       "    <tr>\n",
       "      <th>99995</th>\n",
       "      <td>23</td>\n",
       "    </tr>\n",
       "    <tr>\n",
       "      <th>99996</th>\n",
       "      <td>18</td>\n",
       "    </tr>\n",
       "    <tr>\n",
       "      <th>99997</th>\n",
       "      <td>27</td>\n",
       "    </tr>\n",
       "    <tr>\n",
       "      <th>99998</th>\n",
       "      <td>20</td>\n",
       "    </tr>\n",
       "    <tr>\n",
       "      <th>99999</th>\n",
       "      <td>18</td>\n",
       "    </tr>\n",
       "  </tbody>\n",
       "</table>\n",
       "<p>100000 rows × 1 columns</p>\n",
       "</div>"
      ],
      "text/plain": [
       "       Delay_from_due_date\n",
       "0                        3\n",
       "1                       -1\n",
       "2                        3\n",
       "3                        5\n",
       "4                        6\n",
       "...                    ...\n",
       "99995                   23\n",
       "99996                   18\n",
       "99997                   27\n",
       "99998                   20\n",
       "99999                   18\n",
       "\n",
       "[100000 rows x 1 columns]"
      ]
     },
     "execution_count": 7996,
     "metadata": {},
     "output_type": "execute_result"
    }
   ],
   "source": [
    "df[['Delay_from_due_date']]"
   ]
  },
  {
   "cell_type": "code",
   "execution_count": 7997,
   "id": "f4585295",
   "metadata": {},
   "outputs": [
    {
     "data": {
      "text/plain": [
       "dtype('O')"
      ]
     },
     "execution_count": 7997,
     "metadata": {},
     "output_type": "execute_result"
    }
   ],
   "source": [
    "df.Num_of_Delayed_Payment.dtype\n"
   ]
  },
  {
   "cell_type": "code",
   "execution_count": 7998,
   "id": "0201b700",
   "metadata": {},
   "outputs": [],
   "source": [
    "df.Num_of_Delayed_Payment=df.Num_of_Delayed_Payment.str.replace('_','')"
   ]
  },
  {
   "cell_type": "code",
   "execution_count": 7999,
   "id": "c323d94b",
   "metadata": {},
   "outputs": [],
   "source": [
    "df.Num_of_Delayed_Payment=pd.to_numeric(df.Num_of_Delayed_Payment)"
   ]
  },
  {
   "cell_type": "code",
   "execution_count": 8000,
   "id": "c69c47aa",
   "metadata": {},
   "outputs": [
    {
     "data": {
      "text/plain": [
       "61493   -3.0\n",
       "23870   -3.0\n",
       "71306   -3.0\n",
       "59926   -3.0\n",
       "86427   -3.0\n",
       "        ... \n",
       "99973    NaN\n",
       "99974    NaN\n",
       "99992    NaN\n",
       "99993    NaN\n",
       "99998    NaN\n",
       "Name: Num_of_Delayed_Payment, Length: 100000, dtype: float64"
      ]
     },
     "execution_count": 8000,
     "metadata": {},
     "output_type": "execute_result"
    }
   ],
   "source": [
    "df.Num_of_Delayed_Payment.sort_values()"
   ]
  },
  {
   "cell_type": "code",
   "execution_count": 8001,
   "id": "afbbe7bf",
   "metadata": {},
   "outputs": [],
   "source": [
    "df.Num_of_Delayed_Payment=np.where(df.Num_of_Delayed_Payment<0,0,df.Num_of_Delayed_Payment)"
   ]
  },
  {
   "cell_type": "code",
   "execution_count": 8002,
   "id": "d9902c4d",
   "metadata": {},
   "outputs": [
    {
     "data": {
      "text/plain": [
       "35532    0.0\n",
       "21593    0.0\n",
       "21594    0.0\n",
       "21595    0.0\n",
       "8105     0.0\n",
       "        ... \n",
       "99973    NaN\n",
       "99974    NaN\n",
       "99992    NaN\n",
       "99993    NaN\n",
       "99998    NaN\n",
       "Name: Num_of_Delayed_Payment, Length: 100000, dtype: float64"
      ]
     },
     "execution_count": 8002,
     "metadata": {},
     "output_type": "execute_result"
    }
   ],
   "source": [
    "df.Num_of_Delayed_Payment.sort_values()"
   ]
  },
  {
   "cell_type": "code",
   "execution_count": 8003,
   "id": "bf7ec505",
   "metadata": {},
   "outputs": [
    {
     "data": {
      "text/html": [
       "<div>\n",
       "<style scoped>\n",
       "    .dataframe tbody tr th:only-of-type {\n",
       "        vertical-align: middle;\n",
       "    }\n",
       "\n",
       "    .dataframe tbody tr th {\n",
       "        vertical-align: top;\n",
       "    }\n",
       "\n",
       "    .dataframe thead th {\n",
       "        text-align: right;\n",
       "    }\n",
       "</style>\n",
       "<table border=\"1\" class=\"dataframe\">\n",
       "  <thead>\n",
       "    <tr style=\"text-align: right;\">\n",
       "      <th></th>\n",
       "      <th>Num_of_Delayed_Payment</th>\n",
       "    </tr>\n",
       "  </thead>\n",
       "  <tbody>\n",
       "    <tr>\n",
       "      <th>count</th>\n",
       "      <td>92998.000000</td>\n",
       "    </tr>\n",
       "    <tr>\n",
       "      <th>mean</th>\n",
       "      <td>30.934805</td>\n",
       "    </tr>\n",
       "    <tr>\n",
       "      <th>std</th>\n",
       "      <td>226.030273</td>\n",
       "    </tr>\n",
       "    <tr>\n",
       "      <th>min</th>\n",
       "      <td>0.000000</td>\n",
       "    </tr>\n",
       "    <tr>\n",
       "      <th>25%</th>\n",
       "      <td>9.000000</td>\n",
       "    </tr>\n",
       "    <tr>\n",
       "      <th>50%</th>\n",
       "      <td>14.000000</td>\n",
       "    </tr>\n",
       "    <tr>\n",
       "      <th>75%</th>\n",
       "      <td>18.000000</td>\n",
       "    </tr>\n",
       "    <tr>\n",
       "      <th>max</th>\n",
       "      <td>4397.000000</td>\n",
       "    </tr>\n",
       "  </tbody>\n",
       "</table>\n",
       "</div>"
      ],
      "text/plain": [
       "       Num_of_Delayed_Payment\n",
       "count            92998.000000\n",
       "mean                30.934805\n",
       "std                226.030273\n",
       "min                  0.000000\n",
       "25%                  9.000000\n",
       "50%                 14.000000\n",
       "75%                 18.000000\n",
       "max               4397.000000"
      ]
     },
     "execution_count": 8003,
     "metadata": {},
     "output_type": "execute_result"
    }
   ],
   "source": [
    "df[['Num_of_Delayed_Payment']].describe()"
   ]
  },
  {
   "cell_type": "code",
   "execution_count": 8004,
   "id": "7fa2e962",
   "metadata": {},
   "outputs": [],
   "source": [
    "df['Num_of_Delayed_Payment']= df['Num_of_Delayed_Payment'].apply(replace_values,args=[upper_limit(df.Num_of_Delayed_Payment ),lower_limit(df.Num_of_Delayed_Payment )])"
   ]
  },
  {
   "cell_type": "code",
   "execution_count": 8005,
   "id": "39e70cac",
   "metadata": {},
   "outputs": [
    {
     "data": {
      "text/html": [
       "<div>\n",
       "<style scoped>\n",
       "    .dataframe tbody tr th:only-of-type {\n",
       "        vertical-align: middle;\n",
       "    }\n",
       "\n",
       "    .dataframe tbody tr th {\n",
       "        vertical-align: top;\n",
       "    }\n",
       "\n",
       "    .dataframe thead th {\n",
       "        text-align: right;\n",
       "    }\n",
       "</style>\n",
       "<table border=\"1\" class=\"dataframe\">\n",
       "  <thead>\n",
       "    <tr style=\"text-align: right;\">\n",
       "      <th></th>\n",
       "      <th>Num_of_Delayed_Payment</th>\n",
       "    </tr>\n",
       "  </thead>\n",
       "  <tbody>\n",
       "    <tr>\n",
       "      <th>count</th>\n",
       "      <td>92998.000000</td>\n",
       "    </tr>\n",
       "    <tr>\n",
       "      <th>mean</th>\n",
       "      <td>13.469795</td>\n",
       "    </tr>\n",
       "    <tr>\n",
       "      <th>std</th>\n",
       "      <td>6.464612</td>\n",
       "    </tr>\n",
       "    <tr>\n",
       "      <th>min</th>\n",
       "      <td>0.000000</td>\n",
       "    </tr>\n",
       "    <tr>\n",
       "      <th>25%</th>\n",
       "      <td>9.000000</td>\n",
       "    </tr>\n",
       "    <tr>\n",
       "      <th>50%</th>\n",
       "      <td>14.000000</td>\n",
       "    </tr>\n",
       "    <tr>\n",
       "      <th>75%</th>\n",
       "      <td>18.000000</td>\n",
       "    </tr>\n",
       "    <tr>\n",
       "      <th>max</th>\n",
       "      <td>31.500000</td>\n",
       "    </tr>\n",
       "  </tbody>\n",
       "</table>\n",
       "</div>"
      ],
      "text/plain": [
       "       Num_of_Delayed_Payment\n",
       "count            92998.000000\n",
       "mean                13.469795\n",
       "std                  6.464612\n",
       "min                  0.000000\n",
       "25%                  9.000000\n",
       "50%                 14.000000\n",
       "75%                 18.000000\n",
       "max                 31.500000"
      ]
     },
     "execution_count": 8005,
     "metadata": {},
     "output_type": "execute_result"
    }
   ],
   "source": [
    "df[['Num_of_Delayed_Payment']].describe()"
   ]
  },
  {
   "cell_type": "code",
   "execution_count": 8006,
   "id": "eefd6d96",
   "metadata": {},
   "outputs": [
    {
     "data": {
      "text/plain": [
       "7002"
      ]
     },
     "execution_count": 8006,
     "metadata": {},
     "output_type": "execute_result"
    }
   ],
   "source": [
    "df['Num_of_Delayed_Payment'].isna().sum()"
   ]
  },
  {
   "cell_type": "code",
   "execution_count": 8007,
   "id": "cc764882",
   "metadata": {},
   "outputs": [],
   "source": [
    "df['Num_of_Delayed_Payment'].fillna(df['Num_of_Delayed_Payment'].median(),inplace=True)"
   ]
  },
  {
   "cell_type": "code",
   "execution_count": 8008,
   "id": "cafe163d",
   "metadata": {},
   "outputs": [
    {
     "data": {
      "text/plain": [
       "0"
      ]
     },
     "execution_count": 8008,
     "metadata": {},
     "output_type": "execute_result"
    }
   ],
   "source": [
    "df['Num_of_Delayed_Payment'].isna().sum()"
   ]
  },
  {
   "cell_type": "code",
   "execution_count": 8009,
   "id": "23724c35",
   "metadata": {},
   "outputs": [],
   "source": [
    "df['Num_of_Delayed_Payment']=df['Num_of_Delayed_Payment'].astype('int')"
   ]
  },
  {
   "cell_type": "code",
   "execution_count": 8010,
   "id": "cbf6eca0",
   "metadata": {},
   "outputs": [
    {
     "data": {
      "text/html": [
       "<div>\n",
       "<style scoped>\n",
       "    .dataframe tbody tr th:only-of-type {\n",
       "        vertical-align: middle;\n",
       "    }\n",
       "\n",
       "    .dataframe tbody tr th {\n",
       "        vertical-align: top;\n",
       "    }\n",
       "\n",
       "    .dataframe thead th {\n",
       "        text-align: right;\n",
       "    }\n",
       "</style>\n",
       "<table border=\"1\" class=\"dataframe\">\n",
       "  <thead>\n",
       "    <tr style=\"text-align: right;\">\n",
       "      <th></th>\n",
       "      <th>Num_of_Delayed_Payment</th>\n",
       "    </tr>\n",
       "  </thead>\n",
       "  <tbody>\n",
       "    <tr>\n",
       "      <th>count</th>\n",
       "      <td>100000.000000</td>\n",
       "    </tr>\n",
       "    <tr>\n",
       "      <th>mean</th>\n",
       "      <td>13.503240</td>\n",
       "    </tr>\n",
       "    <tr>\n",
       "      <th>std</th>\n",
       "      <td>6.225163</td>\n",
       "    </tr>\n",
       "    <tr>\n",
       "      <th>min</th>\n",
       "      <td>0.000000</td>\n",
       "    </tr>\n",
       "    <tr>\n",
       "      <th>25%</th>\n",
       "      <td>9.000000</td>\n",
       "    </tr>\n",
       "    <tr>\n",
       "      <th>50%</th>\n",
       "      <td>14.000000</td>\n",
       "    </tr>\n",
       "    <tr>\n",
       "      <th>75%</th>\n",
       "      <td>18.000000</td>\n",
       "    </tr>\n",
       "    <tr>\n",
       "      <th>max</th>\n",
       "      <td>31.000000</td>\n",
       "    </tr>\n",
       "  </tbody>\n",
       "</table>\n",
       "</div>"
      ],
      "text/plain": [
       "       Num_of_Delayed_Payment\n",
       "count           100000.000000\n",
       "mean                13.503240\n",
       "std                  6.225163\n",
       "min                  0.000000\n",
       "25%                  9.000000\n",
       "50%                 14.000000\n",
       "75%                 18.000000\n",
       "max                 31.000000"
      ]
     },
     "execution_count": 8010,
     "metadata": {},
     "output_type": "execute_result"
    }
   ],
   "source": [
    "df[['Num_of_Delayed_Payment']].describe()"
   ]
  },
  {
   "cell_type": "code",
   "execution_count": 8011,
   "id": "05d8ad6c",
   "metadata": {},
   "outputs": [
    {
     "name": "stdout",
     "output_type": "stream",
     "text": [
      "<class 'pandas.core.frame.DataFrame'>\n",
      "RangeIndex: 100000 entries, 0 to 99999\n",
      "Data columns (total 27 columns):\n",
      " #   Column                    Non-Null Count   Dtype  \n",
      "---  ------                    --------------   -----  \n",
      " 0   ID                        100000 non-null  object \n",
      " 1   Customer_ID               100000 non-null  object \n",
      " 2   Month                     100000 non-null  object \n",
      " 3   Name                      100000 non-null  object \n",
      " 4   Age                       100000 non-null  int64  \n",
      " 5   SSN                       100000 non-null  object \n",
      " 6   Occupation                100000 non-null  object \n",
      " 7   Annual_Income             100000 non-null  int64  \n",
      " 8   Monthly_Inhand_Salary     100000 non-null  int64  \n",
      " 9   Num_Bank_Accounts         100000 non-null  int64  \n",
      " 10  Num_Credit_Card           100000 non-null  int64  \n",
      " 11  Interest_Rate             100000 non-null  float64\n",
      " 12  Num_of_Loan               100000 non-null  int64  \n",
      " 13  Type_of_Loan              88592 non-null   object \n",
      " 14  Delay_from_due_date       100000 non-null  int64  \n",
      " 15  Num_of_Delayed_Payment    100000 non-null  int64  \n",
      " 16  Changed_Credit_Limit      100000 non-null  object \n",
      " 17  Num_Credit_Inquiries      100000 non-null  int64  \n",
      " 18  Credit_Mix                100000 non-null  object \n",
      " 19  Outstanding_Debt          100000 non-null  object \n",
      " 20  Credit_Utilization_Ratio  100000 non-null  float64\n",
      " 21  Credit_History_Age        100000 non-null  int64  \n",
      " 22  Payment_of_Min_Amount     100000 non-null  object \n",
      " 23  Total_EMI_per_month       100000 non-null  float64\n",
      " 24  Amount_invested_monthly   95521 non-null   object \n",
      " 25  Payment_Behaviour         100000 non-null  object \n",
      " 26  Monthly_Balance           98800 non-null   object \n",
      "dtypes: float64(3), int64(10), object(14)\n",
      "memory usage: 20.6+ MB\n"
     ]
    }
   ],
   "source": [
    "df.info()"
   ]
  },
  {
   "cell_type": "markdown",
   "id": "b3f89c52",
   "metadata": {},
   "source": [
    "# Changed_Credit_Limit"
   ]
  },
  {
   "cell_type": "code",
   "execution_count": 8012,
   "id": "228ee555",
   "metadata": {},
   "outputs": [
    {
     "data": {
      "text/plain": [
       "66821        _\n",
       "17400        _\n",
       "2336         _\n",
       "42935        _\n",
       "84480        _\n",
       "         ...  \n",
       "62220    -0.02\n",
       "10028    -0.01\n",
       "56166    -0.01\n",
       "35824    -0.01\n",
       "56441    -0.01\n",
       "Name: Changed_Credit_Limit, Length: 100000, dtype: object"
      ]
     },
     "execution_count": 8012,
     "metadata": {},
     "output_type": "execute_result"
    }
   ],
   "source": [
    "df.Changed_Credit_Limit.sort_values(ascending=False)"
   ]
  },
  {
   "cell_type": "code",
   "execution_count": 8013,
   "id": "b928d306",
   "metadata": {},
   "outputs": [
    {
     "data": {
      "text/plain": [
       "array(['11.27', '_', '6.27', ..., '27.38', '25.16', '21.17'], dtype=object)"
      ]
     },
     "execution_count": 8013,
     "metadata": {},
     "output_type": "execute_result"
    }
   ],
   "source": [
    "df.Changed_Credit_Limit.unique()"
   ]
  },
  {
   "cell_type": "code",
   "execution_count": 8014,
   "id": "343bfdba",
   "metadata": {},
   "outputs": [
    {
     "data": {
      "text/html": [
       "<div>\n",
       "<style scoped>\n",
       "    .dataframe tbody tr th:only-of-type {\n",
       "        vertical-align: middle;\n",
       "    }\n",
       "\n",
       "    .dataframe tbody tr th {\n",
       "        vertical-align: top;\n",
       "    }\n",
       "\n",
       "    .dataframe thead th {\n",
       "        text-align: right;\n",
       "    }\n",
       "</style>\n",
       "<table border=\"1\" class=\"dataframe\">\n",
       "  <thead>\n",
       "    <tr style=\"text-align: right;\">\n",
       "      <th></th>\n",
       "      <th>ID</th>\n",
       "      <th>Customer_ID</th>\n",
       "      <th>Month</th>\n",
       "      <th>Name</th>\n",
       "      <th>Age</th>\n",
       "      <th>SSN</th>\n",
       "      <th>Occupation</th>\n",
       "      <th>Annual_Income</th>\n",
       "      <th>Monthly_Inhand_Salary</th>\n",
       "      <th>Num_Bank_Accounts</th>\n",
       "      <th>Num_Credit_Card</th>\n",
       "      <th>Interest_Rate</th>\n",
       "      <th>Num_of_Loan</th>\n",
       "      <th>Type_of_Loan</th>\n",
       "      <th>Delay_from_due_date</th>\n",
       "      <th>Num_of_Delayed_Payment</th>\n",
       "      <th>Changed_Credit_Limit</th>\n",
       "      <th>Num_Credit_Inquiries</th>\n",
       "      <th>Credit_Mix</th>\n",
       "      <th>Outstanding_Debt</th>\n",
       "      <th>Credit_Utilization_Ratio</th>\n",
       "      <th>Credit_History_Age</th>\n",
       "      <th>Payment_of_Min_Amount</th>\n",
       "      <th>Total_EMI_per_month</th>\n",
       "      <th>Amount_invested_monthly</th>\n",
       "      <th>Payment_Behaviour</th>\n",
       "      <th>Monthly_Balance</th>\n",
       "    </tr>\n",
       "  </thead>\n",
       "  <tbody>\n",
       "    <tr>\n",
       "      <th>26707</th>\n",
       "      <td>0xb27d</td>\n",
       "      <td>CUS_0x8eaa</td>\n",
       "      <td>April</td>\n",
       "      <td>wayne coled</td>\n",
       "      <td>33</td>\n",
       "      <td>274-64-8413</td>\n",
       "      <td>Developer</td>\n",
       "      <td>16519</td>\n",
       "      <td>1280</td>\n",
       "      <td>10</td>\n",
       "      <td>8</td>\n",
       "      <td>28.0</td>\n",
       "      <td>9</td>\n",
       "      <td>Not Specified, Not Specified, Auto Loan, Stude...</td>\n",
       "      <td>16</td>\n",
       "      <td>18</td>\n",
       "      <td>0</td>\n",
       "      <td>18</td>\n",
       "      <td>_</td>\n",
       "      <td>2504.31</td>\n",
       "      <td>36.180186</td>\n",
       "      <td>9</td>\n",
       "      <td>Yes</td>\n",
       "      <td>65.705179</td>\n",
       "      <td>26.73124272</td>\n",
       "      <td>High_spent_Medium_value_payments</td>\n",
       "      <td>285.5208279</td>\n",
       "    </tr>\n",
       "    <tr>\n",
       "      <th>41779</th>\n",
       "      <td>0x10acd</td>\n",
       "      <td>CUS_0x1383</td>\n",
       "      <td>April</td>\n",
       "      <td>niklasb</td>\n",
       "      <td>18</td>\n",
       "      <td>000-58-0568</td>\n",
       "      <td>Developer</td>\n",
       "      <td>80207</td>\n",
       "      <td>6767</td>\n",
       "      <td>5</td>\n",
       "      <td>4</td>\n",
       "      <td>20.0</td>\n",
       "      <td>5</td>\n",
       "      <td>Student Loan, Payday Loan, Not Specified, Payd...</td>\n",
       "      <td>11</td>\n",
       "      <td>19</td>\n",
       "      <td>0</td>\n",
       "      <td>18</td>\n",
       "      <td>Standard</td>\n",
       "      <td>1129.87</td>\n",
       "      <td>41.517669</td>\n",
       "      <td>8</td>\n",
       "      <td>Yes</td>\n",
       "      <td>260.418980</td>\n",
       "      <td>256.718455</td>\n",
       "      <td>High_spent_Small_value_payments</td>\n",
       "      <td>419.5512318</td>\n",
       "    </tr>\n",
       "    <tr>\n",
       "      <th>56685</th>\n",
       "      <td>0x16223</td>\n",
       "      <td>CUS_0x2dc6</td>\n",
       "      <td>June</td>\n",
       "      <td>rian rohani</td>\n",
       "      <td>45</td>\n",
       "      <td>262-10-1868</td>\n",
       "      <td>Writer</td>\n",
       "      <td>80574</td>\n",
       "      <td>6708</td>\n",
       "      <td>0</td>\n",
       "      <td>3</td>\n",
       "      <td>4.0</td>\n",
       "      <td>1</td>\n",
       "      <td>Payday Loan</td>\n",
       "      <td>10</td>\n",
       "      <td>2</td>\n",
       "      <td>0</td>\n",
       "      <td>2</td>\n",
       "      <td>Good</td>\n",
       "      <td>1142.39</td>\n",
       "      <td>24.946939</td>\n",
       "      <td>30</td>\n",
       "      <td>No</td>\n",
       "      <td>56.995653</td>\n",
       "      <td>__10000__</td>\n",
       "      <td>Low_spent_Medium_value_payments</td>\n",
       "      <td>446.8304207</td>\n",
       "    </tr>\n",
       "    <tr>\n",
       "      <th>94085</th>\n",
       "      <td>0x23d47</td>\n",
       "      <td>CUS_0xbb33</td>\n",
       "      <td>June</td>\n",
       "      <td>christiaane</td>\n",
       "      <td>48</td>\n",
       "      <td>958-68-0188</td>\n",
       "      <td>Media_Manager</td>\n",
       "      <td>100972</td>\n",
       "      <td>8286</td>\n",
       "      <td>2</td>\n",
       "      <td>6</td>\n",
       "      <td>7.0</td>\n",
       "      <td>1</td>\n",
       "      <td>Student Loan</td>\n",
       "      <td>12</td>\n",
       "      <td>4</td>\n",
       "      <td>0</td>\n",
       "      <td>3</td>\n",
       "      <td>_</td>\n",
       "      <td>1138.38</td>\n",
       "      <td>39.502356</td>\n",
       "      <td>15</td>\n",
       "      <td>No</td>\n",
       "      <td>48.697558</td>\n",
       "      <td>1087.482887</td>\n",
       "      <td>Low_spent_Small_value_payments</td>\n",
       "      <td>NaN</td>\n",
       "    </tr>\n",
       "  </tbody>\n",
       "</table>\n",
       "</div>"
      ],
      "text/plain": [
       "            ID Customer_ID  Month         Name  Age          SSN  \\\n",
       "26707   0xb27d  CUS_0x8eaa  April  wayne coled   33  274-64-8413   \n",
       "41779  0x10acd  CUS_0x1383  April      niklasb   18  000-58-0568   \n",
       "56685  0x16223  CUS_0x2dc6   June  rian rohani   45  262-10-1868   \n",
       "94085  0x23d47  CUS_0xbb33   June  christiaane   48  958-68-0188   \n",
       "\n",
       "          Occupation  Annual_Income  Monthly_Inhand_Salary  Num_Bank_Accounts  \\\n",
       "26707      Developer          16519                   1280                 10   \n",
       "41779      Developer          80207                   6767                  5   \n",
       "56685         Writer          80574                   6708                  0   \n",
       "94085  Media_Manager         100972                   8286                  2   \n",
       "\n",
       "       Num_Credit_Card  Interest_Rate  Num_of_Loan  \\\n",
       "26707                8           28.0            9   \n",
       "41779                4           20.0            5   \n",
       "56685                3            4.0            1   \n",
       "94085                6            7.0            1   \n",
       "\n",
       "                                            Type_of_Loan  Delay_from_due_date  \\\n",
       "26707  Not Specified, Not Specified, Auto Loan, Stude...                   16   \n",
       "41779  Student Loan, Payday Loan, Not Specified, Payd...                   11   \n",
       "56685                                        Payday Loan                   10   \n",
       "94085                                       Student Loan                   12   \n",
       "\n",
       "       Num_of_Delayed_Payment Changed_Credit_Limit  Num_Credit_Inquiries  \\\n",
       "26707                      18                    0                    18   \n",
       "41779                      19                    0                    18   \n",
       "56685                       2                    0                     2   \n",
       "94085                       4                    0                     3   \n",
       "\n",
       "      Credit_Mix Outstanding_Debt  Credit_Utilization_Ratio  \\\n",
       "26707          _          2504.31                 36.180186   \n",
       "41779   Standard          1129.87                 41.517669   \n",
       "56685       Good          1142.39                 24.946939   \n",
       "94085          _          1138.38                 39.502356   \n",
       "\n",
       "       Credit_History_Age Payment_of_Min_Amount  Total_EMI_per_month  \\\n",
       "26707                   9                   Yes            65.705179   \n",
       "41779                   8                   Yes           260.418980   \n",
       "56685                  30                    No            56.995653   \n",
       "94085                  15                    No            48.697558   \n",
       "\n",
       "      Amount_invested_monthly                 Payment_Behaviour  \\\n",
       "26707             26.73124272  High_spent_Medium_value_payments   \n",
       "41779              256.718455   High_spent_Small_value_payments   \n",
       "56685               __10000__   Low_spent_Medium_value_payments   \n",
       "94085             1087.482887    Low_spent_Small_value_payments   \n",
       "\n",
       "      Monthly_Balance  \n",
       "26707     285.5208279  \n",
       "41779     419.5512318  \n",
       "56685     446.8304207  \n",
       "94085             NaN  "
      ]
     },
     "execution_count": 8014,
     "metadata": {},
     "output_type": "execute_result"
    }
   ],
   "source": [
    "df[df.Changed_Credit_Limit=='0']"
   ]
  },
  {
   "cell_type": "code",
   "execution_count": 8015,
   "id": "d350b1da",
   "metadata": {},
   "outputs": [],
   "source": [
    "df.Changed_Credit_Limit=np.where(df.Changed_Credit_Limit=='_',np.NaN,df.Changed_Credit_Limit)"
   ]
  },
  {
   "cell_type": "code",
   "execution_count": 8016,
   "id": "41fc0170",
   "metadata": {},
   "outputs": [],
   "source": [
    "df.Changed_Credit_Limit=pd.to_numeric(df.Changed_Credit_Limit)"
   ]
  },
  {
   "cell_type": "code",
   "execution_count": 8017,
   "id": "1f85b5b6",
   "metadata": {},
   "outputs": [
    {
     "data": {
      "text/html": [
       "<div>\n",
       "<style scoped>\n",
       "    .dataframe tbody tr th:only-of-type {\n",
       "        vertical-align: middle;\n",
       "    }\n",
       "\n",
       "    .dataframe tbody tr th {\n",
       "        vertical-align: top;\n",
       "    }\n",
       "\n",
       "    .dataframe thead th {\n",
       "        text-align: right;\n",
       "    }\n",
       "</style>\n",
       "<table border=\"1\" class=\"dataframe\">\n",
       "  <thead>\n",
       "    <tr style=\"text-align: right;\">\n",
       "      <th></th>\n",
       "      <th>Changed_Credit_Limit</th>\n",
       "    </tr>\n",
       "  </thead>\n",
       "  <tbody>\n",
       "    <tr>\n",
       "      <th>count</th>\n",
       "      <td>97909.000000</td>\n",
       "    </tr>\n",
       "    <tr>\n",
       "      <th>mean</th>\n",
       "      <td>10.389025</td>\n",
       "    </tr>\n",
       "    <tr>\n",
       "      <th>std</th>\n",
       "      <td>6.789496</td>\n",
       "    </tr>\n",
       "    <tr>\n",
       "      <th>min</th>\n",
       "      <td>-6.490000</td>\n",
       "    </tr>\n",
       "    <tr>\n",
       "      <th>25%</th>\n",
       "      <td>5.320000</td>\n",
       "    </tr>\n",
       "    <tr>\n",
       "      <th>50%</th>\n",
       "      <td>9.400000</td>\n",
       "    </tr>\n",
       "    <tr>\n",
       "      <th>75%</th>\n",
       "      <td>14.870000</td>\n",
       "    </tr>\n",
       "    <tr>\n",
       "      <th>max</th>\n",
       "      <td>36.970000</td>\n",
       "    </tr>\n",
       "  </tbody>\n",
       "</table>\n",
       "</div>"
      ],
      "text/plain": [
       "       Changed_Credit_Limit\n",
       "count          97909.000000\n",
       "mean              10.389025\n",
       "std                6.789496\n",
       "min               -6.490000\n",
       "25%                5.320000\n",
       "50%                9.400000\n",
       "75%               14.870000\n",
       "max               36.970000"
      ]
     },
     "execution_count": 8017,
     "metadata": {},
     "output_type": "execute_result"
    }
   ],
   "source": [
    "df[['Changed_Credit_Limit']].describe()"
   ]
  },
  {
   "cell_type": "code",
   "execution_count": 8018,
   "id": "a05ac0e9",
   "metadata": {},
   "outputs": [
    {
     "data": {
      "text/plain": [
       "73391   -6.49\n",
       "4241    -6.48\n",
       "52876   -6.45\n",
       "73476   -6.44\n",
       "45171   -6.44\n",
       "         ... \n",
       "99548     NaN\n",
       "99618     NaN\n",
       "99800     NaN\n",
       "99892     NaN\n",
       "99931     NaN\n",
       "Name: Changed_Credit_Limit, Length: 100000, dtype: float64"
      ]
     },
     "execution_count": 8018,
     "metadata": {},
     "output_type": "execute_result"
    }
   ],
   "source": [
    "df.Changed_Credit_Limit.sort_values()"
   ]
  },
  {
   "cell_type": "code",
   "execution_count": 8019,
   "id": "c441e40b",
   "metadata": {},
   "outputs": [
    {
     "data": {
      "text/plain": [
       "ID                                                                    0x25f89\n",
       "Customer_ID                                                        CUS_0xb11c\n",
       "Month                                                                   April\n",
       "Name                                                           yinka adegokej\n",
       "Age                                                                        38\n",
       "SSN                                                               546-94-4789\n",
       "Occupation                                                            Manager\n",
       "Annual_Income                                                           15320\n",
       "Monthly_Inhand_Salary                                                    1461\n",
       "Num_Bank_Accounts                                                           6\n",
       "Num_Credit_Card                                                             7\n",
       "Interest_Rate                                                            15.0\n",
       "Num_of_Loan                                                                 4\n",
       "Type_of_Loan                Home Equity Loan, Auto Loan, Auto Loan, and Au...\n",
       "Delay_from_due_date                                                        54\n",
       "Num_of_Delayed_Payment                                                     16\n",
       "Changed_Credit_Limit                                                      NaN\n",
       "Num_Credit_Inquiries                                                        6\n",
       "Credit_Mix                                                                Bad\n",
       "Outstanding_Debt                                                      1453.61\n",
       "Credit_Utilization_Ratio                                            34.243058\n",
       "Credit_History_Age                                                         10\n",
       "Payment_of_Min_Amount                                                     Yes\n",
       "Total_EMI_per_month                                                 28.182033\n",
       "Amount_invested_monthly                                                     0\n",
       "Payment_Behaviour                             High_spent_Large_value_payments\n",
       "Monthly_Balance                                                   348.0883834\n",
       "Name: 99931, dtype: object"
      ]
     },
     "execution_count": 8019,
     "metadata": {},
     "output_type": "execute_result"
    }
   ],
   "source": [
    "df.loc[99548]\n",
    "df.loc[99618]\n",
    "df.loc[99800]\n",
    "df.loc[99892]\n",
    "df.loc[99931]"
   ]
  },
  {
   "cell_type": "code",
   "execution_count": 8020,
   "id": "2591aa8b",
   "metadata": {},
   "outputs": [],
   "source": [
    "sample=df.merge(df.groupby('Customer_ID')['Changed_Credit_Limit'].median().reset_index(),left_on='Customer_ID',right_on='Customer_ID')"
   ]
  },
  {
   "cell_type": "code",
   "execution_count": 8021,
   "id": "03d04ae3",
   "metadata": {},
   "outputs": [],
   "source": [
    "df.Changed_Credit_Limit.fillna(sample.Changed_Credit_Limit_y,inplace=True)"
   ]
  },
  {
   "cell_type": "code",
   "execution_count": 8022,
   "id": "232f984f",
   "metadata": {},
   "outputs": [
    {
     "data": {
      "text/plain": [
       " 8.22     139\n",
       " 11.50    128\n",
       " 11.32    127\n",
       " 10.06    124\n",
       " 7.35     123\n",
       "         ... \n",
       "-4.57       1\n",
       "-4.82       1\n",
       " 31.59      1\n",
       " 27.79      1\n",
       " 21.17      1\n",
       "Name: Changed_Credit_Limit, Length: 3634, dtype: int64"
      ]
     },
     "execution_count": 8022,
     "metadata": {},
     "output_type": "execute_result"
    }
   ],
   "source": [
    "df.Changed_Credit_Limit.value_counts()"
   ]
  },
  {
   "cell_type": "markdown",
   "id": "019f5080",
   "metadata": {},
   "source": [
    "# Credit_Mix"
   ]
  },
  {
   "cell_type": "code",
   "execution_count": 8023,
   "id": "586e39f7",
   "metadata": {},
   "outputs": [
    {
     "data": {
      "text/plain": [
       "array(['_', 'Good', 'Standard', 'Bad'], dtype=object)"
      ]
     },
     "execution_count": 8023,
     "metadata": {},
     "output_type": "execute_result"
    }
   ],
   "source": [
    "df.Credit_Mix.unique()"
   ]
  },
  {
   "cell_type": "code",
   "execution_count": 8024,
   "id": "cb18a561",
   "metadata": {},
   "outputs": [
    {
     "data": {
      "text/html": [
       "<div>\n",
       "<style scoped>\n",
       "    .dataframe tbody tr th:only-of-type {\n",
       "        vertical-align: middle;\n",
       "    }\n",
       "\n",
       "    .dataframe tbody tr th {\n",
       "        vertical-align: top;\n",
       "    }\n",
       "\n",
       "    .dataframe thead th {\n",
       "        text-align: right;\n",
       "    }\n",
       "</style>\n",
       "<table border=\"1\" class=\"dataframe\">\n",
       "  <thead>\n",
       "    <tr style=\"text-align: right;\">\n",
       "      <th></th>\n",
       "      <th>ID</th>\n",
       "      <th>Customer_ID</th>\n",
       "      <th>Month</th>\n",
       "      <th>Name</th>\n",
       "      <th>Age</th>\n",
       "      <th>SSN</th>\n",
       "      <th>Occupation</th>\n",
       "      <th>Annual_Income</th>\n",
       "      <th>Monthly_Inhand_Salary</th>\n",
       "      <th>Num_Bank_Accounts</th>\n",
       "      <th>Num_Credit_Card</th>\n",
       "      <th>Interest_Rate</th>\n",
       "      <th>Num_of_Loan</th>\n",
       "      <th>Type_of_Loan</th>\n",
       "      <th>Delay_from_due_date</th>\n",
       "      <th>Num_of_Delayed_Payment</th>\n",
       "      <th>Changed_Credit_Limit</th>\n",
       "      <th>Num_Credit_Inquiries</th>\n",
       "      <th>Credit_Mix</th>\n",
       "      <th>Outstanding_Debt</th>\n",
       "      <th>Credit_Utilization_Ratio</th>\n",
       "      <th>Credit_History_Age</th>\n",
       "      <th>Payment_of_Min_Amount</th>\n",
       "      <th>Total_EMI_per_month</th>\n",
       "      <th>Amount_invested_monthly</th>\n",
       "      <th>Payment_Behaviour</th>\n",
       "      <th>Monthly_Balance</th>\n",
       "    </tr>\n",
       "  </thead>\n",
       "  <tbody>\n",
       "    <tr>\n",
       "      <th>0</th>\n",
       "      <td>0x1602</td>\n",
       "      <td>CUS_0xd40</td>\n",
       "      <td>January</td>\n",
       "      <td>aaron maashoh</td>\n",
       "      <td>23</td>\n",
       "      <td>821-00-0265</td>\n",
       "      <td>Scientist</td>\n",
       "      <td>19114</td>\n",
       "      <td>1825</td>\n",
       "      <td>3</td>\n",
       "      <td>4</td>\n",
       "      <td>3.0</td>\n",
       "      <td>4</td>\n",
       "      <td>Auto Loan, Credit-Builder Loan, Personal Loan,...</td>\n",
       "      <td>3</td>\n",
       "      <td>7</td>\n",
       "      <td>11.27</td>\n",
       "      <td>4</td>\n",
       "      <td>_</td>\n",
       "      <td>809.98</td>\n",
       "      <td>26.82262</td>\n",
       "      <td>17</td>\n",
       "      <td>No</td>\n",
       "      <td>49.574949</td>\n",
       "      <td>80.41529544</td>\n",
       "      <td>High_spent_Small_value_payments</td>\n",
       "      <td>312.4940887</td>\n",
       "    </tr>\n",
       "    <tr>\n",
       "      <th>1</th>\n",
       "      <td>0x1603</td>\n",
       "      <td>CUS_0xd40</td>\n",
       "      <td>February</td>\n",
       "      <td>aaron maashoh</td>\n",
       "      <td>23</td>\n",
       "      <td>821-00-0265</td>\n",
       "      <td>Scientist</td>\n",
       "      <td>19114</td>\n",
       "      <td>1825</td>\n",
       "      <td>3</td>\n",
       "      <td>4</td>\n",
       "      <td>3.0</td>\n",
       "      <td>4</td>\n",
       "      <td>Auto Loan, Credit-Builder Loan, Personal Loan,...</td>\n",
       "      <td>-1</td>\n",
       "      <td>14</td>\n",
       "      <td>11.27</td>\n",
       "      <td>4</td>\n",
       "      <td>Good</td>\n",
       "      <td>809.98</td>\n",
       "      <td>31.94496</td>\n",
       "      <td>17</td>\n",
       "      <td>No</td>\n",
       "      <td>49.574949</td>\n",
       "      <td>118.2802216</td>\n",
       "      <td>Low_spent_Large_value_payments</td>\n",
       "      <td>284.6291625</td>\n",
       "    </tr>\n",
       "  </tbody>\n",
       "</table>\n",
       "</div>"
      ],
      "text/plain": [
       "       ID Customer_ID     Month           Name  Age          SSN Occupation  \\\n",
       "0  0x1602   CUS_0xd40   January  aaron maashoh   23  821-00-0265  Scientist   \n",
       "1  0x1603   CUS_0xd40  February  aaron maashoh   23  821-00-0265  Scientist   \n",
       "\n",
       "   Annual_Income  Monthly_Inhand_Salary  Num_Bank_Accounts  Num_Credit_Card  \\\n",
       "0          19114                   1825                  3                4   \n",
       "1          19114                   1825                  3                4   \n",
       "\n",
       "   Interest_Rate  Num_of_Loan  \\\n",
       "0            3.0            4   \n",
       "1            3.0            4   \n",
       "\n",
       "                                        Type_of_Loan  Delay_from_due_date  \\\n",
       "0  Auto Loan, Credit-Builder Loan, Personal Loan,...                    3   \n",
       "1  Auto Loan, Credit-Builder Loan, Personal Loan,...                   -1   \n",
       "\n",
       "   Num_of_Delayed_Payment  Changed_Credit_Limit  Num_Credit_Inquiries  \\\n",
       "0                       7                 11.27                     4   \n",
       "1                      14                 11.27                     4   \n",
       "\n",
       "  Credit_Mix Outstanding_Debt  Credit_Utilization_Ratio  Credit_History_Age  \\\n",
       "0          _           809.98                  26.82262                  17   \n",
       "1       Good           809.98                  31.94496                  17   \n",
       "\n",
       "  Payment_of_Min_Amount  Total_EMI_per_month Amount_invested_monthly  \\\n",
       "0                    No            49.574949             80.41529544   \n",
       "1                    No            49.574949             118.2802216   \n",
       "\n",
       "                 Payment_Behaviour Monthly_Balance  \n",
       "0  High_spent_Small_value_payments     312.4940887  \n",
       "1   Low_spent_Large_value_payments     284.6291625  "
      ]
     },
     "execution_count": 8024,
     "metadata": {},
     "output_type": "execute_result"
    }
   ],
   "source": [
    "df.head(2)"
   ]
  },
  {
   "cell_type": "code",
   "execution_count": 8025,
   "id": "8aa3182b",
   "metadata": {},
   "outputs": [],
   "source": [
    "df.Credit_Mix=np.where(df.Credit_Mix=='_',np.NaN,df.Credit_Mix)"
   ]
  },
  {
   "cell_type": "code",
   "execution_count": 8026,
   "id": "27103700",
   "metadata": {},
   "outputs": [],
   "source": [
    "sample=df.merge(df.groupby('Customer_ID')['Credit_Mix'].agg(pd.Series.mode).reset_index(),left_on='Customer_ID',right_on='Customer_ID')"
   ]
  },
  {
   "cell_type": "code",
   "execution_count": 8027,
   "id": "b8693440",
   "metadata": {},
   "outputs": [],
   "source": [
    "df.Credit_Mix.fillna(sample.Credit_Mix_y,inplace=True)"
   ]
  },
  {
   "cell_type": "code",
   "execution_count": 8028,
   "id": "61bb124d",
   "metadata": {},
   "outputs": [
    {
     "data": {
      "text/html": [
       "<div>\n",
       "<style scoped>\n",
       "    .dataframe tbody tr th:only-of-type {\n",
       "        vertical-align: middle;\n",
       "    }\n",
       "\n",
       "    .dataframe tbody tr th {\n",
       "        vertical-align: top;\n",
       "    }\n",
       "\n",
       "    .dataframe thead th {\n",
       "        text-align: right;\n",
       "    }\n",
       "</style>\n",
       "<table border=\"1\" class=\"dataframe\">\n",
       "  <thead>\n",
       "    <tr style=\"text-align: right;\">\n",
       "      <th></th>\n",
       "      <th>ID</th>\n",
       "      <th>Customer_ID</th>\n",
       "      <th>Month</th>\n",
       "      <th>Name</th>\n",
       "      <th>Age</th>\n",
       "      <th>SSN</th>\n",
       "      <th>Occupation</th>\n",
       "      <th>Annual_Income</th>\n",
       "      <th>Monthly_Inhand_Salary</th>\n",
       "      <th>Num_Bank_Accounts</th>\n",
       "      <th>Num_Credit_Card</th>\n",
       "      <th>Interest_Rate</th>\n",
       "      <th>Num_of_Loan</th>\n",
       "      <th>Type_of_Loan</th>\n",
       "      <th>Delay_from_due_date</th>\n",
       "      <th>Num_of_Delayed_Payment</th>\n",
       "      <th>Changed_Credit_Limit</th>\n",
       "      <th>Num_Credit_Inquiries</th>\n",
       "      <th>Credit_Mix</th>\n",
       "      <th>Outstanding_Debt</th>\n",
       "      <th>Credit_Utilization_Ratio</th>\n",
       "      <th>Credit_History_Age</th>\n",
       "      <th>Payment_of_Min_Amount</th>\n",
       "      <th>Total_EMI_per_month</th>\n",
       "      <th>Amount_invested_monthly</th>\n",
       "      <th>Payment_Behaviour</th>\n",
       "      <th>Monthly_Balance</th>\n",
       "    </tr>\n",
       "  </thead>\n",
       "  <tbody>\n",
       "    <tr>\n",
       "      <th>0</th>\n",
       "      <td>0x1602</td>\n",
       "      <td>CUS_0xd40</td>\n",
       "      <td>January</td>\n",
       "      <td>aaron maashoh</td>\n",
       "      <td>23</td>\n",
       "      <td>821-00-0265</td>\n",
       "      <td>Scientist</td>\n",
       "      <td>19114</td>\n",
       "      <td>1825</td>\n",
       "      <td>3</td>\n",
       "      <td>4</td>\n",
       "      <td>3.0</td>\n",
       "      <td>4</td>\n",
       "      <td>Auto Loan, Credit-Builder Loan, Personal Loan,...</td>\n",
       "      <td>3</td>\n",
       "      <td>7</td>\n",
       "      <td>11.27</td>\n",
       "      <td>4</td>\n",
       "      <td>Good</td>\n",
       "      <td>809.98</td>\n",
       "      <td>26.82262</td>\n",
       "      <td>17</td>\n",
       "      <td>No</td>\n",
       "      <td>49.574949</td>\n",
       "      <td>80.41529544</td>\n",
       "      <td>High_spent_Small_value_payments</td>\n",
       "      <td>312.4940887</td>\n",
       "    </tr>\n",
       "    <tr>\n",
       "      <th>1</th>\n",
       "      <td>0x1603</td>\n",
       "      <td>CUS_0xd40</td>\n",
       "      <td>February</td>\n",
       "      <td>aaron maashoh</td>\n",
       "      <td>23</td>\n",
       "      <td>821-00-0265</td>\n",
       "      <td>Scientist</td>\n",
       "      <td>19114</td>\n",
       "      <td>1825</td>\n",
       "      <td>3</td>\n",
       "      <td>4</td>\n",
       "      <td>3.0</td>\n",
       "      <td>4</td>\n",
       "      <td>Auto Loan, Credit-Builder Loan, Personal Loan,...</td>\n",
       "      <td>-1</td>\n",
       "      <td>14</td>\n",
       "      <td>11.27</td>\n",
       "      <td>4</td>\n",
       "      <td>Good</td>\n",
       "      <td>809.98</td>\n",
       "      <td>31.94496</td>\n",
       "      <td>17</td>\n",
       "      <td>No</td>\n",
       "      <td>49.574949</td>\n",
       "      <td>118.2802216</td>\n",
       "      <td>Low_spent_Large_value_payments</td>\n",
       "      <td>284.6291625</td>\n",
       "    </tr>\n",
       "  </tbody>\n",
       "</table>\n",
       "</div>"
      ],
      "text/plain": [
       "       ID Customer_ID     Month           Name  Age          SSN Occupation  \\\n",
       "0  0x1602   CUS_0xd40   January  aaron maashoh   23  821-00-0265  Scientist   \n",
       "1  0x1603   CUS_0xd40  February  aaron maashoh   23  821-00-0265  Scientist   \n",
       "\n",
       "   Annual_Income  Monthly_Inhand_Salary  Num_Bank_Accounts  Num_Credit_Card  \\\n",
       "0          19114                   1825                  3                4   \n",
       "1          19114                   1825                  3                4   \n",
       "\n",
       "   Interest_Rate  Num_of_Loan  \\\n",
       "0            3.0            4   \n",
       "1            3.0            4   \n",
       "\n",
       "                                        Type_of_Loan  Delay_from_due_date  \\\n",
       "0  Auto Loan, Credit-Builder Loan, Personal Loan,...                    3   \n",
       "1  Auto Loan, Credit-Builder Loan, Personal Loan,...                   -1   \n",
       "\n",
       "   Num_of_Delayed_Payment  Changed_Credit_Limit  Num_Credit_Inquiries  \\\n",
       "0                       7                 11.27                     4   \n",
       "1                      14                 11.27                     4   \n",
       "\n",
       "  Credit_Mix Outstanding_Debt  Credit_Utilization_Ratio  Credit_History_Age  \\\n",
       "0       Good           809.98                  26.82262                  17   \n",
       "1       Good           809.98                  31.94496                  17   \n",
       "\n",
       "  Payment_of_Min_Amount  Total_EMI_per_month Amount_invested_monthly  \\\n",
       "0                    No            49.574949             80.41529544   \n",
       "1                    No            49.574949             118.2802216   \n",
       "\n",
       "                 Payment_Behaviour Monthly_Balance  \n",
       "0  High_spent_Small_value_payments     312.4940887  \n",
       "1   Low_spent_Large_value_payments     284.6291625  "
      ]
     },
     "execution_count": 8028,
     "metadata": {},
     "output_type": "execute_result"
    }
   ],
   "source": [
    "df.head(2)"
   ]
  },
  {
   "cell_type": "code",
   "execution_count": 8029,
   "id": "38e6d25b",
   "metadata": {},
   "outputs": [
    {
     "data": {
      "text/plain": [
       "array(['Good', 'Standard', 'Bad'], dtype=object)"
      ]
     },
     "execution_count": 8029,
     "metadata": {},
     "output_type": "execute_result"
    }
   ],
   "source": [
    "df.Credit_Mix.unique()"
   ]
  },
  {
   "cell_type": "markdown",
   "id": "9249b218",
   "metadata": {},
   "source": [
    "## Payment_Behaviour "
   ]
  },
  {
   "cell_type": "code",
   "execution_count": 8030,
   "id": "417e829d",
   "metadata": {},
   "outputs": [
    {
     "data": {
      "text/plain": [
       "array(['High_spent_Small_value_payments',\n",
       "       'Low_spent_Large_value_payments',\n",
       "       'Low_spent_Medium_value_payments',\n",
       "       'Low_spent_Small_value_payments',\n",
       "       'High_spent_Medium_value_payments', '!@9#%8',\n",
       "       'High_spent_Large_value_payments'], dtype=object)"
      ]
     },
     "execution_count": 8030,
     "metadata": {},
     "output_type": "execute_result"
    }
   ],
   "source": [
    "df.Payment_Behaviour.unique()"
   ]
  },
  {
   "cell_type": "code",
   "execution_count": 8031,
   "id": "75310d8c",
   "metadata": {},
   "outputs": [],
   "source": [
    "df.Payment_Behaviour=np.where(df.Payment_Behaviour=='!@9#%8','Others',df.Payment_Behaviour)"
   ]
  },
  {
   "cell_type": "code",
   "execution_count": 8032,
   "id": "82a9aa44",
   "metadata": {},
   "outputs": [
    {
     "data": {
      "text/plain": [
       "array(['High_spent_Small_value_payments',\n",
       "       'Low_spent_Large_value_payments',\n",
       "       'Low_spent_Medium_value_payments',\n",
       "       'Low_spent_Small_value_payments',\n",
       "       'High_spent_Medium_value_payments', 'Others',\n",
       "       'High_spent_Large_value_payments'], dtype=object)"
      ]
     },
     "execution_count": 8032,
     "metadata": {},
     "output_type": "execute_result"
    }
   ],
   "source": [
    "df.Payment_Behaviour.unique()"
   ]
  },
  {
   "cell_type": "markdown",
   "id": "9707612a",
   "metadata": {},
   "source": [
    "## Outstanding_Debt "
   ]
  },
  {
   "cell_type": "code",
   "execution_count": 8033,
   "id": "3bfa9031",
   "metadata": {},
   "outputs": [
    {
     "data": {
      "text/plain": [
       "array(['809.98', '605.03', '1303.01', ..., '3571.7_', '3571.7', '502.38'],\n",
       "      dtype=object)"
      ]
     },
     "execution_count": 8033,
     "metadata": {},
     "output_type": "execute_result"
    }
   ],
   "source": [
    "df.Outstanding_Debt.unique()"
   ]
  },
  {
   "cell_type": "code",
   "execution_count": 8034,
   "id": "2cd5ea4a",
   "metadata": {},
   "outputs": [],
   "source": [
    "df.Outstanding_Debt=df.Outstanding_Debt.str.replace('_','')"
   ]
  },
  {
   "cell_type": "code",
   "execution_count": 8035,
   "id": "e2564d59",
   "metadata": {},
   "outputs": [],
   "source": [
    "df.Outstanding_Debt=pd.to_numeric(df.Outstanding_Debt)"
   ]
  },
  {
   "cell_type": "code",
   "execution_count": 8036,
   "id": "e1c506e5",
   "metadata": {},
   "outputs": [
    {
     "data": {
      "text/plain": [
       "array([ 809.98,  605.03, 1303.01, ...,  620.64, 3571.7 ,  502.38])"
      ]
     },
     "execution_count": 8036,
     "metadata": {},
     "output_type": "execute_result"
    }
   ],
   "source": [
    "df.Outstanding_Debt.unique()"
   ]
  },
  {
   "cell_type": "code",
   "execution_count": 8037,
   "id": "5942ebff",
   "metadata": {},
   "outputs": [
    {
     "data": {
      "text/plain": [
       "96652       0.23\n",
       "96648       0.23\n",
       "96649       0.23\n",
       "96650       0.23\n",
       "96651       0.23\n",
       "          ...   \n",
       "8740     4998.07\n",
       "8741     4998.07\n",
       "8742     4998.07\n",
       "8737     4998.07\n",
       "8743     4998.07\n",
       "Name: Outstanding_Debt, Length: 100000, dtype: float64"
      ]
     },
     "execution_count": 8037,
     "metadata": {},
     "output_type": "execute_result"
    }
   ],
   "source": [
    "df.Outstanding_Debt.sort_values()"
   ]
  },
  {
   "cell_type": "code",
   "execution_count": 8038,
   "id": "76a51716",
   "metadata": {},
   "outputs": [
    {
     "data": {
      "text/html": [
       "<div>\n",
       "<style scoped>\n",
       "    .dataframe tbody tr th:only-of-type {\n",
       "        vertical-align: middle;\n",
       "    }\n",
       "\n",
       "    .dataframe tbody tr th {\n",
       "        vertical-align: top;\n",
       "    }\n",
       "\n",
       "    .dataframe thead th {\n",
       "        text-align: right;\n",
       "    }\n",
       "</style>\n",
       "<table border=\"1\" class=\"dataframe\">\n",
       "  <thead>\n",
       "    <tr style=\"text-align: right;\">\n",
       "      <th></th>\n",
       "      <th>Outstanding_Debt</th>\n",
       "    </tr>\n",
       "  </thead>\n",
       "  <tbody>\n",
       "    <tr>\n",
       "      <th>count</th>\n",
       "      <td>100000.000000</td>\n",
       "    </tr>\n",
       "    <tr>\n",
       "      <th>mean</th>\n",
       "      <td>1426.220376</td>\n",
       "    </tr>\n",
       "    <tr>\n",
       "      <th>std</th>\n",
       "      <td>1155.129026</td>\n",
       "    </tr>\n",
       "    <tr>\n",
       "      <th>min</th>\n",
       "      <td>0.230000</td>\n",
       "    </tr>\n",
       "    <tr>\n",
       "      <th>25%</th>\n",
       "      <td>566.072500</td>\n",
       "    </tr>\n",
       "    <tr>\n",
       "      <th>50%</th>\n",
       "      <td>1166.155000</td>\n",
       "    </tr>\n",
       "    <tr>\n",
       "      <th>75%</th>\n",
       "      <td>1945.962500</td>\n",
       "    </tr>\n",
       "    <tr>\n",
       "      <th>max</th>\n",
       "      <td>4998.070000</td>\n",
       "    </tr>\n",
       "  </tbody>\n",
       "</table>\n",
       "</div>"
      ],
      "text/plain": [
       "       Outstanding_Debt\n",
       "count     100000.000000\n",
       "mean        1426.220376\n",
       "std         1155.129026\n",
       "min            0.230000\n",
       "25%          566.072500\n",
       "50%         1166.155000\n",
       "75%         1945.962500\n",
       "max         4998.070000"
      ]
     },
     "execution_count": 8038,
     "metadata": {},
     "output_type": "execute_result"
    }
   ],
   "source": [
    "df[['Outstanding_Debt']].describe()"
   ]
  },
  {
   "cell_type": "markdown",
   "id": "af72388c",
   "metadata": {},
   "source": [
    "## Credit_Utilization_Ratio "
   ]
  },
  {
   "cell_type": "code",
   "execution_count": 8039,
   "id": "b2e04486",
   "metadata": {},
   "outputs": [
    {
     "data": {
      "text/plain": [
       "array([26.82261962, 31.94496006, 28.60935202, ..., 41.25552226,\n",
       "       33.63820798, 34.19246265])"
      ]
     },
     "execution_count": 8039,
     "metadata": {},
     "output_type": "execute_result"
    }
   ],
   "source": [
    "df.Credit_Utilization_Ratio.unique()"
   ]
  },
  {
   "cell_type": "code",
   "execution_count": 8040,
   "id": "c03d8d47",
   "metadata": {},
   "outputs": [
    {
     "data": {
      "text/plain": [
       "15860    20.000000\n",
       "54207    20.100770\n",
       "3580     20.172942\n",
       "14319    20.244130\n",
       "63420    20.257073\n",
       "           ...    \n",
       "87595    49.064277\n",
       "62954    49.254983\n",
       "17029    49.522324\n",
       "68000    49.564519\n",
       "9382     50.000000\n",
       "Name: Credit_Utilization_Ratio, Length: 100000, dtype: float64"
      ]
     },
     "execution_count": 8040,
     "metadata": {},
     "output_type": "execute_result"
    }
   ],
   "source": [
    "df.Credit_Utilization_Ratio.sort_values()"
   ]
  },
  {
   "cell_type": "code",
   "execution_count": 8041,
   "id": "d2aacebf",
   "metadata": {},
   "outputs": [
    {
     "data": {
      "text/html": [
       "<div>\n",
       "<style scoped>\n",
       "    .dataframe tbody tr th:only-of-type {\n",
       "        vertical-align: middle;\n",
       "    }\n",
       "\n",
       "    .dataframe tbody tr th {\n",
       "        vertical-align: top;\n",
       "    }\n",
       "\n",
       "    .dataframe thead th {\n",
       "        text-align: right;\n",
       "    }\n",
       "</style>\n",
       "<table border=\"1\" class=\"dataframe\">\n",
       "  <thead>\n",
       "    <tr style=\"text-align: right;\">\n",
       "      <th></th>\n",
       "      <th>Credit_Utilization_Ratio</th>\n",
       "    </tr>\n",
       "  </thead>\n",
       "  <tbody>\n",
       "    <tr>\n",
       "      <th>count</th>\n",
       "      <td>100000.000000</td>\n",
       "    </tr>\n",
       "    <tr>\n",
       "      <th>mean</th>\n",
       "      <td>32.285173</td>\n",
       "    </tr>\n",
       "    <tr>\n",
       "      <th>std</th>\n",
       "      <td>5.116875</td>\n",
       "    </tr>\n",
       "    <tr>\n",
       "      <th>min</th>\n",
       "      <td>20.000000</td>\n",
       "    </tr>\n",
       "    <tr>\n",
       "      <th>25%</th>\n",
       "      <td>28.052567</td>\n",
       "    </tr>\n",
       "    <tr>\n",
       "      <th>50%</th>\n",
       "      <td>32.305784</td>\n",
       "    </tr>\n",
       "    <tr>\n",
       "      <th>75%</th>\n",
       "      <td>36.496663</td>\n",
       "    </tr>\n",
       "    <tr>\n",
       "      <th>max</th>\n",
       "      <td>50.000000</td>\n",
       "    </tr>\n",
       "  </tbody>\n",
       "</table>\n",
       "</div>"
      ],
      "text/plain": [
       "       Credit_Utilization_Ratio\n",
       "count             100000.000000\n",
       "mean                  32.285173\n",
       "std                    5.116875\n",
       "min                   20.000000\n",
       "25%                   28.052567\n",
       "50%                   32.305784\n",
       "75%                   36.496663\n",
       "max                   50.000000"
      ]
     },
     "execution_count": 8041,
     "metadata": {},
     "output_type": "execute_result"
    }
   ],
   "source": [
    "df[['Credit_Utilization_Ratio']].describe()"
   ]
  },
  {
   "cell_type": "code",
   "execution_count": 8042,
   "id": "7cacac36",
   "metadata": {},
   "outputs": [
    {
     "name": "stdout",
     "output_type": "stream",
     "text": [
      "<class 'pandas.core.frame.DataFrame'>\n",
      "RangeIndex: 100000 entries, 0 to 99999\n",
      "Data columns (total 27 columns):\n",
      " #   Column                    Non-Null Count   Dtype  \n",
      "---  ------                    --------------   -----  \n",
      " 0   ID                        100000 non-null  object \n",
      " 1   Customer_ID               100000 non-null  object \n",
      " 2   Month                     100000 non-null  object \n",
      " 3   Name                      100000 non-null  object \n",
      " 4   Age                       100000 non-null  int64  \n",
      " 5   SSN                       100000 non-null  object \n",
      " 6   Occupation                100000 non-null  object \n",
      " 7   Annual_Income             100000 non-null  int64  \n",
      " 8   Monthly_Inhand_Salary     100000 non-null  int64  \n",
      " 9   Num_Bank_Accounts         100000 non-null  int64  \n",
      " 10  Num_Credit_Card           100000 non-null  int64  \n",
      " 11  Interest_Rate             100000 non-null  float64\n",
      " 12  Num_of_Loan               100000 non-null  int64  \n",
      " 13  Type_of_Loan              88592 non-null   object \n",
      " 14  Delay_from_due_date       100000 non-null  int64  \n",
      " 15  Num_of_Delayed_Payment    100000 non-null  int64  \n",
      " 16  Changed_Credit_Limit      100000 non-null  float64\n",
      " 17  Num_Credit_Inquiries      100000 non-null  int64  \n",
      " 18  Credit_Mix                100000 non-null  object \n",
      " 19  Outstanding_Debt          100000 non-null  float64\n",
      " 20  Credit_Utilization_Ratio  100000 non-null  float64\n",
      " 21  Credit_History_Age        100000 non-null  int64  \n",
      " 22  Payment_of_Min_Amount     100000 non-null  object \n",
      " 23  Total_EMI_per_month       100000 non-null  float64\n",
      " 24  Amount_invested_monthly   95521 non-null   object \n",
      " 25  Payment_Behaviour         100000 non-null  object \n",
      " 26  Monthly_Balance           98800 non-null   object \n",
      "dtypes: float64(5), int64(10), object(12)\n",
      "memory usage: 20.6+ MB\n"
     ]
    }
   ],
   "source": [
    "df.info()"
   ]
  },
  {
   "cell_type": "markdown",
   "id": "a5c24f4a",
   "metadata": {},
   "source": [
    "## Total_EMI_per_month"
   ]
  },
  {
   "cell_type": "code",
   "execution_count": 8043,
   "id": "8f4481b8",
   "metadata": {},
   "outputs": [
    {
     "data": {
      "text/plain": [
       "69229        0.0\n",
       "52825        0.0\n",
       "52826        0.0\n",
       "52827        0.0\n",
       "52828        0.0\n",
       "          ...   \n",
       "51614    82193.0\n",
       "3084     82204.0\n",
       "29514    82236.0\n",
       "15300    82256.0\n",
       "87013    82331.0\n",
       "Name: Total_EMI_per_month, Length: 100000, dtype: float64"
      ]
     },
     "execution_count": 8043,
     "metadata": {},
     "output_type": "execute_result"
    }
   ],
   "source": [
    "df.Total_EMI_per_month.sort_values()"
   ]
  },
  {
   "cell_type": "code",
   "execution_count": 8044,
   "id": "ef7c21dc",
   "metadata": {},
   "outputs": [
    {
     "data": {
      "text/html": [
       "<div>\n",
       "<style scoped>\n",
       "    .dataframe tbody tr th:only-of-type {\n",
       "        vertical-align: middle;\n",
       "    }\n",
       "\n",
       "    .dataframe tbody tr th {\n",
       "        vertical-align: top;\n",
       "    }\n",
       "\n",
       "    .dataframe thead th {\n",
       "        text-align: right;\n",
       "    }\n",
       "</style>\n",
       "<table border=\"1\" class=\"dataframe\">\n",
       "  <thead>\n",
       "    <tr style=\"text-align: right;\">\n",
       "      <th></th>\n",
       "      <th>Total_EMI_per_month</th>\n",
       "    </tr>\n",
       "  </thead>\n",
       "  <tbody>\n",
       "    <tr>\n",
       "      <th>count</th>\n",
       "      <td>100000.000000</td>\n",
       "    </tr>\n",
       "    <tr>\n",
       "      <th>mean</th>\n",
       "      <td>1403.118217</td>\n",
       "    </tr>\n",
       "    <tr>\n",
       "      <th>std</th>\n",
       "      <td>8306.041270</td>\n",
       "    </tr>\n",
       "    <tr>\n",
       "      <th>min</th>\n",
       "      <td>0.000000</td>\n",
       "    </tr>\n",
       "    <tr>\n",
       "      <th>25%</th>\n",
       "      <td>30.306660</td>\n",
       "    </tr>\n",
       "    <tr>\n",
       "      <th>50%</th>\n",
       "      <td>69.249473</td>\n",
       "    </tr>\n",
       "    <tr>\n",
       "      <th>75%</th>\n",
       "      <td>161.224249</td>\n",
       "    </tr>\n",
       "    <tr>\n",
       "      <th>max</th>\n",
       "      <td>82331.000000</td>\n",
       "    </tr>\n",
       "  </tbody>\n",
       "</table>\n",
       "</div>"
      ],
      "text/plain": [
       "       Total_EMI_per_month\n",
       "count        100000.000000\n",
       "mean           1403.118217\n",
       "std            8306.041270\n",
       "min               0.000000\n",
       "25%              30.306660\n",
       "50%              69.249473\n",
       "75%             161.224249\n",
       "max           82331.000000"
      ]
     },
     "execution_count": 8044,
     "metadata": {},
     "output_type": "execute_result"
    }
   ],
   "source": [
    "df[['Total_EMI_per_month']].describe()"
   ]
  },
  {
   "cell_type": "code",
   "execution_count": 8045,
   "id": "88f65f4d",
   "metadata": {},
   "outputs": [],
   "source": [
    "df['Total_EMI_per_month']= df['Total_EMI_per_month'].apply(replace_values,args=[upper_limit(df.Total_EMI_per_month ),lower_limit(df.Total_EMI_per_month )])"
   ]
  },
  {
   "cell_type": "code",
   "execution_count": 8046,
   "id": "5a693325",
   "metadata": {},
   "outputs": [
    {
     "data": {
      "text/html": [
       "<div>\n",
       "<style scoped>\n",
       "    .dataframe tbody tr th:only-of-type {\n",
       "        vertical-align: middle;\n",
       "    }\n",
       "\n",
       "    .dataframe tbody tr th {\n",
       "        vertical-align: top;\n",
       "    }\n",
       "\n",
       "    .dataframe thead th {\n",
       "        text-align: right;\n",
       "    }\n",
       "</style>\n",
       "<table border=\"1\" class=\"dataframe\">\n",
       "  <thead>\n",
       "    <tr style=\"text-align: right;\">\n",
       "      <th></th>\n",
       "      <th>Total_EMI_per_month</th>\n",
       "    </tr>\n",
       "  </thead>\n",
       "  <tbody>\n",
       "    <tr>\n",
       "      <th>count</th>\n",
       "      <td>100000.000000</td>\n",
       "    </tr>\n",
       "    <tr>\n",
       "      <th>mean</th>\n",
       "      <td>108.054040</td>\n",
       "    </tr>\n",
       "    <tr>\n",
       "      <th>std</th>\n",
       "      <td>104.531770</td>\n",
       "    </tr>\n",
       "    <tr>\n",
       "      <th>min</th>\n",
       "      <td>0.000000</td>\n",
       "    </tr>\n",
       "    <tr>\n",
       "      <th>25%</th>\n",
       "      <td>30.306660</td>\n",
       "    </tr>\n",
       "    <tr>\n",
       "      <th>50%</th>\n",
       "      <td>69.249473</td>\n",
       "    </tr>\n",
       "    <tr>\n",
       "      <th>75%</th>\n",
       "      <td>161.224249</td>\n",
       "    </tr>\n",
       "    <tr>\n",
       "      <th>max</th>\n",
       "      <td>357.600632</td>\n",
       "    </tr>\n",
       "  </tbody>\n",
       "</table>\n",
       "</div>"
      ],
      "text/plain": [
       "       Total_EMI_per_month\n",
       "count        100000.000000\n",
       "mean            108.054040\n",
       "std             104.531770\n",
       "min               0.000000\n",
       "25%              30.306660\n",
       "50%              69.249473\n",
       "75%             161.224249\n",
       "max             357.600632"
      ]
     },
     "execution_count": 8046,
     "metadata": {},
     "output_type": "execute_result"
    }
   ],
   "source": [
    "df[['Total_EMI_per_month']].describe()"
   ]
  },
  {
   "cell_type": "code",
   "execution_count": 8047,
   "id": "14b4bda1",
   "metadata": {},
   "outputs": [
    {
     "name": "stdout",
     "output_type": "stream",
     "text": [
      "<class 'pandas.core.frame.DataFrame'>\n",
      "RangeIndex: 100000 entries, 0 to 99999\n",
      "Data columns (total 27 columns):\n",
      " #   Column                    Non-Null Count   Dtype  \n",
      "---  ------                    --------------   -----  \n",
      " 0   ID                        100000 non-null  object \n",
      " 1   Customer_ID               100000 non-null  object \n",
      " 2   Month                     100000 non-null  object \n",
      " 3   Name                      100000 non-null  object \n",
      " 4   Age                       100000 non-null  int64  \n",
      " 5   SSN                       100000 non-null  object \n",
      " 6   Occupation                100000 non-null  object \n",
      " 7   Annual_Income             100000 non-null  int64  \n",
      " 8   Monthly_Inhand_Salary     100000 non-null  int64  \n",
      " 9   Num_Bank_Accounts         100000 non-null  int64  \n",
      " 10  Num_Credit_Card           100000 non-null  int64  \n",
      " 11  Interest_Rate             100000 non-null  float64\n",
      " 12  Num_of_Loan               100000 non-null  int64  \n",
      " 13  Type_of_Loan              88592 non-null   object \n",
      " 14  Delay_from_due_date       100000 non-null  int64  \n",
      " 15  Num_of_Delayed_Payment    100000 non-null  int64  \n",
      " 16  Changed_Credit_Limit      100000 non-null  float64\n",
      " 17  Num_Credit_Inquiries      100000 non-null  int64  \n",
      " 18  Credit_Mix                100000 non-null  object \n",
      " 19  Outstanding_Debt          100000 non-null  float64\n",
      " 20  Credit_Utilization_Ratio  100000 non-null  float64\n",
      " 21  Credit_History_Age        100000 non-null  int64  \n",
      " 22  Payment_of_Min_Amount     100000 non-null  object \n",
      " 23  Total_EMI_per_month       100000 non-null  float64\n",
      " 24  Amount_invested_monthly   95521 non-null   object \n",
      " 25  Payment_Behaviour         100000 non-null  object \n",
      " 26  Monthly_Balance           98800 non-null   object \n",
      "dtypes: float64(5), int64(10), object(12)\n",
      "memory usage: 20.6+ MB\n"
     ]
    }
   ],
   "source": [
    "df.info()"
   ]
  },
  {
   "cell_type": "markdown",
   "id": "18d65a00",
   "metadata": {},
   "source": [
    "##  Amount_invested_monthly"
   ]
  },
  {
   "cell_type": "code",
   "execution_count": 8048,
   "id": "9b76699f",
   "metadata": {},
   "outputs": [
    {
     "data": {
      "text/plain": [
       "38871      0\n",
       "78904      0\n",
       "38421      0\n",
       "78908      0\n",
       "14177      0\n",
       "        ... \n",
       "99862    NaN\n",
       "99872    NaN\n",
       "99925    NaN\n",
       "99961    NaN\n",
       "99974    NaN\n",
       "Name: Amount_invested_monthly, Length: 100000, dtype: object"
      ]
     },
     "execution_count": 8048,
     "metadata": {},
     "output_type": "execute_result"
    }
   ],
   "source": [
    "df.Amount_invested_monthly.sort_values()"
   ]
  },
  {
   "cell_type": "code",
   "execution_count": 8049,
   "id": "cd8f7acd",
   "metadata": {},
   "outputs": [],
   "source": [
    "df.Amount_invested_monthly=df.Amount_invested_monthly.str.replace('_','')"
   ]
  },
  {
   "cell_type": "code",
   "execution_count": 8050,
   "id": "8483cb3a",
   "metadata": {},
   "outputs": [],
   "source": [
    "df.Amount_invested_monthly=pd.to_numeric(df.Amount_invested_monthly)"
   ]
  },
  {
   "cell_type": "code",
   "execution_count": 8051,
   "id": "ea6a4df8",
   "metadata": {},
   "outputs": [
    {
     "data": {
      "text/html": [
       "<div>\n",
       "<style scoped>\n",
       "    .dataframe tbody tr th:only-of-type {\n",
       "        vertical-align: middle;\n",
       "    }\n",
       "\n",
       "    .dataframe tbody tr th {\n",
       "        vertical-align: top;\n",
       "    }\n",
       "\n",
       "    .dataframe thead th {\n",
       "        text-align: right;\n",
       "    }\n",
       "</style>\n",
       "<table border=\"1\" class=\"dataframe\">\n",
       "  <thead>\n",
       "    <tr style=\"text-align: right;\">\n",
       "      <th></th>\n",
       "      <th>Amount_invested_monthly</th>\n",
       "    </tr>\n",
       "  </thead>\n",
       "  <tbody>\n",
       "    <tr>\n",
       "      <th>count</th>\n",
       "      <td>95521.000000</td>\n",
       "    </tr>\n",
       "    <tr>\n",
       "      <th>mean</th>\n",
       "      <td>637.412998</td>\n",
       "    </tr>\n",
       "    <tr>\n",
       "      <th>std</th>\n",
       "      <td>2043.319327</td>\n",
       "    </tr>\n",
       "    <tr>\n",
       "      <th>min</th>\n",
       "      <td>0.000000</td>\n",
       "    </tr>\n",
       "    <tr>\n",
       "      <th>25%</th>\n",
       "      <td>74.534002</td>\n",
       "    </tr>\n",
       "    <tr>\n",
       "      <th>50%</th>\n",
       "      <td>135.925681</td>\n",
       "    </tr>\n",
       "    <tr>\n",
       "      <th>75%</th>\n",
       "      <td>265.731733</td>\n",
       "    </tr>\n",
       "    <tr>\n",
       "      <th>max</th>\n",
       "      <td>10000.000000</td>\n",
       "    </tr>\n",
       "  </tbody>\n",
       "</table>\n",
       "</div>"
      ],
      "text/plain": [
       "       Amount_invested_monthly\n",
       "count             95521.000000\n",
       "mean                637.412998\n",
       "std                2043.319327\n",
       "min                   0.000000\n",
       "25%                  74.534002\n",
       "50%                 135.925681\n",
       "75%                 265.731733\n",
       "max               10000.000000"
      ]
     },
     "execution_count": 8051,
     "metadata": {},
     "output_type": "execute_result"
    }
   ],
   "source": [
    "df[['Amount_invested_monthly']].describe()"
   ]
  },
  {
   "cell_type": "code",
   "execution_count": 8052,
   "id": "6b9fe480",
   "metadata": {},
   "outputs": [],
   "source": [
    "df.Amount_invested_monthly.fillna(df.Amount_invested_monthly.median(),inplace=True)"
   ]
  },
  {
   "cell_type": "code",
   "execution_count": 8053,
   "id": "8d4e18fa",
   "metadata": {},
   "outputs": [],
   "source": [
    "df.Amount_invested_monthly=np.round(df.Amount_invested_monthly).astype('int')"
   ]
  },
  {
   "cell_type": "code",
   "execution_count": 8054,
   "id": "34d80c25",
   "metadata": {},
   "outputs": [
    {
     "data": {
      "text/html": [
       "<div>\n",
       "<style scoped>\n",
       "    .dataframe tbody tr th:only-of-type {\n",
       "        vertical-align: middle;\n",
       "    }\n",
       "\n",
       "    .dataframe tbody tr th {\n",
       "        vertical-align: top;\n",
       "    }\n",
       "\n",
       "    .dataframe thead th {\n",
       "        text-align: right;\n",
       "    }\n",
       "</style>\n",
       "<table border=\"1\" class=\"dataframe\">\n",
       "  <thead>\n",
       "    <tr style=\"text-align: right;\">\n",
       "      <th></th>\n",
       "      <th>Amount_invested_monthly</th>\n",
       "    </tr>\n",
       "  </thead>\n",
       "  <tbody>\n",
       "    <tr>\n",
       "      <th>count</th>\n",
       "      <td>100000.00000</td>\n",
       "    </tr>\n",
       "    <tr>\n",
       "      <th>mean</th>\n",
       "      <td>614.95518</td>\n",
       "    </tr>\n",
       "    <tr>\n",
       "      <th>std</th>\n",
       "      <td>1999.72578</td>\n",
       "    </tr>\n",
       "    <tr>\n",
       "      <th>min</th>\n",
       "      <td>0.00000</td>\n",
       "    </tr>\n",
       "    <tr>\n",
       "      <th>25%</th>\n",
       "      <td>77.00000</td>\n",
       "    </tr>\n",
       "    <tr>\n",
       "      <th>50%</th>\n",
       "      <td>136.00000</td>\n",
       "    </tr>\n",
       "    <tr>\n",
       "      <th>75%</th>\n",
       "      <td>255.00000</td>\n",
       "    </tr>\n",
       "    <tr>\n",
       "      <th>max</th>\n",
       "      <td>10000.00000</td>\n",
       "    </tr>\n",
       "  </tbody>\n",
       "</table>\n",
       "</div>"
      ],
      "text/plain": [
       "       Amount_invested_monthly\n",
       "count             100000.00000\n",
       "mean                 614.95518\n",
       "std                 1999.72578\n",
       "min                    0.00000\n",
       "25%                   77.00000\n",
       "50%                  136.00000\n",
       "75%                  255.00000\n",
       "max                10000.00000"
      ]
     },
     "execution_count": 8054,
     "metadata": {},
     "output_type": "execute_result"
    }
   ],
   "source": [
    "df[['Amount_invested_monthly']].describe()"
   ]
  },
  {
   "cell_type": "markdown",
   "id": "c052ece8",
   "metadata": {},
   "source": [
    "## Monthly Balance "
   ]
  },
  {
   "cell_type": "code",
   "execution_count": 8055,
   "id": "0e52ed11",
   "metadata": {},
   "outputs": [
    {
     "data": {
      "text/plain": [
       "71453    0.007759665\n",
       "43200    0.088627865\n",
       "77405    0.095482496\n",
       "60346    0.131135651\n",
       "69129    0.366147079\n",
       "            ...     \n",
       "99820            NaN\n",
       "99839            NaN\n",
       "99852            NaN\n",
       "99854            NaN\n",
       "99927            NaN\n",
       "Name: Monthly_Balance, Length: 100000, dtype: object"
      ]
     },
     "execution_count": 8055,
     "metadata": {},
     "output_type": "execute_result"
    }
   ],
   "source": [
    "df.Monthly_Balance.sort_values()"
   ]
  },
  {
   "cell_type": "code",
   "execution_count": 8056,
   "id": "e5baf178",
   "metadata": {},
   "outputs": [],
   "source": [
    "df.Monthly_Balance=df.Monthly_Balance.str.replace('_','')"
   ]
  },
  {
   "cell_type": "code",
   "execution_count": 8057,
   "id": "12685be4",
   "metadata": {},
   "outputs": [],
   "source": [
    "df.Monthly_Balance=pd.to_numeric(df.Monthly_Balance,errors='coerce')"
   ]
  },
  {
   "cell_type": "code",
   "execution_count": 8058,
   "id": "04d2d529",
   "metadata": {},
   "outputs": [
    {
     "data": {
      "text/html": [
       "<div>\n",
       "<style scoped>\n",
       "    .dataframe tbody tr th:only-of-type {\n",
       "        vertical-align: middle;\n",
       "    }\n",
       "\n",
       "    .dataframe tbody tr th {\n",
       "        vertical-align: top;\n",
       "    }\n",
       "\n",
       "    .dataframe thead th {\n",
       "        text-align: right;\n",
       "    }\n",
       "</style>\n",
       "<table border=\"1\" class=\"dataframe\">\n",
       "  <thead>\n",
       "    <tr style=\"text-align: right;\">\n",
       "      <th></th>\n",
       "      <th>Monthly_Balance</th>\n",
       "    </tr>\n",
       "  </thead>\n",
       "  <tbody>\n",
       "    <tr>\n",
       "      <th>count</th>\n",
       "      <td>9.880000e+04</td>\n",
       "    </tr>\n",
       "    <tr>\n",
       "      <th>mean</th>\n",
       "      <td>-3.036437e+22</td>\n",
       "    </tr>\n",
       "    <tr>\n",
       "      <th>std</th>\n",
       "      <td>3.181295e+24</td>\n",
       "    </tr>\n",
       "    <tr>\n",
       "      <th>min</th>\n",
       "      <td>-3.333333e+26</td>\n",
       "    </tr>\n",
       "    <tr>\n",
       "      <th>25%</th>\n",
       "      <td>2.700922e+02</td>\n",
       "    </tr>\n",
       "    <tr>\n",
       "      <th>50%</th>\n",
       "      <td>3.367192e+02</td>\n",
       "    </tr>\n",
       "    <tr>\n",
       "      <th>75%</th>\n",
       "      <td>4.702202e+02</td>\n",
       "    </tr>\n",
       "    <tr>\n",
       "      <th>max</th>\n",
       "      <td>1.602041e+03</td>\n",
       "    </tr>\n",
       "  </tbody>\n",
       "</table>\n",
       "</div>"
      ],
      "text/plain": [
       "       Monthly_Balance\n",
       "count     9.880000e+04\n",
       "mean     -3.036437e+22\n",
       "std       3.181295e+24\n",
       "min      -3.333333e+26\n",
       "25%       2.700922e+02\n",
       "50%       3.367192e+02\n",
       "75%       4.702202e+02\n",
       "max       1.602041e+03"
      ]
     },
     "execution_count": 8058,
     "metadata": {},
     "output_type": "execute_result"
    }
   ],
   "source": [
    "df[['Monthly_Balance']].describe()"
   ]
  },
  {
   "cell_type": "code",
   "execution_count": 8059,
   "id": "73234e2d",
   "metadata": {},
   "outputs": [],
   "source": [
    "df['Monthly_Balance']= df['Monthly_Balance'].apply(replace_values,args=[upper_limit(df.Monthly_Balance ),lower_limit(df.Monthly_Balance )])"
   ]
  },
  {
   "cell_type": "code",
   "execution_count": 8060,
   "id": "680c5119",
   "metadata": {},
   "outputs": [
    {
     "data": {
      "text/html": [
       "<div>\n",
       "<style scoped>\n",
       "    .dataframe tbody tr th:only-of-type {\n",
       "        vertical-align: middle;\n",
       "    }\n",
       "\n",
       "    .dataframe tbody tr th {\n",
       "        vertical-align: top;\n",
       "    }\n",
       "\n",
       "    .dataframe thead th {\n",
       "        text-align: right;\n",
       "    }\n",
       "</style>\n",
       "<table border=\"1\" class=\"dataframe\">\n",
       "  <thead>\n",
       "    <tr style=\"text-align: right;\">\n",
       "      <th></th>\n",
       "      <th>Monthly_Balance</th>\n",
       "    </tr>\n",
       "  </thead>\n",
       "  <tbody>\n",
       "    <tr>\n",
       "      <th>count</th>\n",
       "      <td>98800.000000</td>\n",
       "    </tr>\n",
       "    <tr>\n",
       "      <th>mean</th>\n",
       "      <td>388.298393</td>\n",
       "    </tr>\n",
       "    <tr>\n",
       "      <th>std</th>\n",
       "      <td>175.190838</td>\n",
       "    </tr>\n",
       "    <tr>\n",
       "      <th>min</th>\n",
       "      <td>0.000000</td>\n",
       "    </tr>\n",
       "    <tr>\n",
       "      <th>25%</th>\n",
       "      <td>270.092209</td>\n",
       "    </tr>\n",
       "    <tr>\n",
       "      <th>50%</th>\n",
       "      <td>336.719190</td>\n",
       "    </tr>\n",
       "    <tr>\n",
       "      <th>75%</th>\n",
       "      <td>470.220186</td>\n",
       "    </tr>\n",
       "    <tr>\n",
       "      <th>max</th>\n",
       "      <td>770.412152</td>\n",
       "    </tr>\n",
       "  </tbody>\n",
       "</table>\n",
       "</div>"
      ],
      "text/plain": [
       "       Monthly_Balance\n",
       "count     98800.000000\n",
       "mean        388.298393\n",
       "std         175.190838\n",
       "min           0.000000\n",
       "25%         270.092209\n",
       "50%         336.719190\n",
       "75%         470.220186\n",
       "max         770.412152"
      ]
     },
     "execution_count": 8060,
     "metadata": {},
     "output_type": "execute_result"
    }
   ],
   "source": [
    "df[['Monthly_Balance']].describe()"
   ]
  },
  {
   "cell_type": "code",
   "execution_count": 8061,
   "id": "8f85fefb",
   "metadata": {},
   "outputs": [],
   "source": [
    "df.Monthly_Balance.fillna(df.Monthly_Balance.median(),inplace=True)"
   ]
  },
  {
   "cell_type": "code",
   "execution_count": 8062,
   "id": "b5148ad0",
   "metadata": {},
   "outputs": [
    {
     "data": {
      "text/html": [
       "<div>\n",
       "<style scoped>\n",
       "    .dataframe tbody tr th:only-of-type {\n",
       "        vertical-align: middle;\n",
       "    }\n",
       "\n",
       "    .dataframe tbody tr th {\n",
       "        vertical-align: top;\n",
       "    }\n",
       "\n",
       "    .dataframe thead th {\n",
       "        text-align: right;\n",
       "    }\n",
       "</style>\n",
       "<table border=\"1\" class=\"dataframe\">\n",
       "  <thead>\n",
       "    <tr style=\"text-align: right;\">\n",
       "      <th></th>\n",
       "      <th>Monthly_Balance</th>\n",
       "    </tr>\n",
       "  </thead>\n",
       "  <tbody>\n",
       "    <tr>\n",
       "      <th>count</th>\n",
       "      <td>100000.000000</td>\n",
       "    </tr>\n",
       "    <tr>\n",
       "      <th>mean</th>\n",
       "      <td>387.679442</td>\n",
       "    </tr>\n",
       "    <tr>\n",
       "      <th>std</th>\n",
       "      <td>174.227054</td>\n",
       "    </tr>\n",
       "    <tr>\n",
       "      <th>min</th>\n",
       "      <td>0.000000</td>\n",
       "    </tr>\n",
       "    <tr>\n",
       "      <th>25%</th>\n",
       "      <td>270.893427</td>\n",
       "    </tr>\n",
       "    <tr>\n",
       "      <th>50%</th>\n",
       "      <td>336.719190</td>\n",
       "    </tr>\n",
       "    <tr>\n",
       "      <th>75%</th>\n",
       "      <td>467.670597</td>\n",
       "    </tr>\n",
       "    <tr>\n",
       "      <th>max</th>\n",
       "      <td>770.412152</td>\n",
       "    </tr>\n",
       "  </tbody>\n",
       "</table>\n",
       "</div>"
      ],
      "text/plain": [
       "       Monthly_Balance\n",
       "count    100000.000000\n",
       "mean        387.679442\n",
       "std         174.227054\n",
       "min           0.000000\n",
       "25%         270.893427\n",
       "50%         336.719190\n",
       "75%         467.670597\n",
       "max         770.412152"
      ]
     },
     "execution_count": 8062,
     "metadata": {},
     "output_type": "execute_result"
    }
   ],
   "source": [
    "df[['Monthly_Balance']].describe()"
   ]
  },
  {
   "cell_type": "markdown",
   "id": "f194db9e",
   "metadata": {},
   "source": [
    "## Type of Loan "
   ]
  },
  {
   "cell_type": "code",
   "execution_count": 8063,
   "id": "238b4b2b",
   "metadata": {},
   "outputs": [
    {
     "data": {
      "text/plain": [
       "0        Auto Loan, Credit-Builder Loan, Personal Loan,...\n",
       "1        Auto Loan, Credit-Builder Loan, Personal Loan,...\n",
       "2        Auto Loan, Credit-Builder Loan, Personal Loan,...\n",
       "3        Auto Loan, Credit-Builder Loan, Personal Loan,...\n",
       "4        Auto Loan, Credit-Builder Loan, Personal Loan,...\n",
       "                               ...                        \n",
       "99995                          Auto Loan, and Student Loan\n",
       "99996                          Auto Loan, and Student Loan\n",
       "99997                          Auto Loan, and Student Loan\n",
       "99998                          Auto Loan, and Student Loan\n",
       "99999                          Auto Loan, and Student Loan\n",
       "Name: Type_of_Loan, Length: 100000, dtype: object"
      ]
     },
     "execution_count": 8063,
     "metadata": {},
     "output_type": "execute_result"
    }
   ],
   "source": [
    "df.Type_of_Loan"
   ]
  },
  {
   "cell_type": "code",
   "execution_count": 8064,
   "id": "8bbca630",
   "metadata": {},
   "outputs": [
    {
     "data": {
      "text/plain": [
       "11408"
      ]
     },
     "execution_count": 8064,
     "metadata": {},
     "output_type": "execute_result"
    }
   ],
   "source": [
    "df.Type_of_Loan.isna().sum()"
   ]
  },
  {
   "cell_type": "code",
   "execution_count": 8065,
   "id": "815e3402",
   "metadata": {},
   "outputs": [
    {
     "name": "stdout",
     "output_type": "stream",
     "text": [
      "<class 'pandas.core.frame.DataFrame'>\n",
      "RangeIndex: 100000 entries, 0 to 99999\n",
      "Data columns (total 27 columns):\n",
      " #   Column                    Non-Null Count   Dtype  \n",
      "---  ------                    --------------   -----  \n",
      " 0   ID                        100000 non-null  object \n",
      " 1   Customer_ID               100000 non-null  object \n",
      " 2   Month                     100000 non-null  object \n",
      " 3   Name                      100000 non-null  object \n",
      " 4   Age                       100000 non-null  int64  \n",
      " 5   SSN                       100000 non-null  object \n",
      " 6   Occupation                100000 non-null  object \n",
      " 7   Annual_Income             100000 non-null  int64  \n",
      " 8   Monthly_Inhand_Salary     100000 non-null  int64  \n",
      " 9   Num_Bank_Accounts         100000 non-null  int64  \n",
      " 10  Num_Credit_Card           100000 non-null  int64  \n",
      " 11  Interest_Rate             100000 non-null  float64\n",
      " 12  Num_of_Loan               100000 non-null  int64  \n",
      " 13  Type_of_Loan              88592 non-null   object \n",
      " 14  Delay_from_due_date       100000 non-null  int64  \n",
      " 15  Num_of_Delayed_Payment    100000 non-null  int64  \n",
      " 16  Changed_Credit_Limit      100000 non-null  float64\n",
      " 17  Num_Credit_Inquiries      100000 non-null  int64  \n",
      " 18  Credit_Mix                100000 non-null  object \n",
      " 19  Outstanding_Debt          100000 non-null  float64\n",
      " 20  Credit_Utilization_Ratio  100000 non-null  float64\n",
      " 21  Credit_History_Age        100000 non-null  int64  \n",
      " 22  Payment_of_Min_Amount     100000 non-null  object \n",
      " 23  Total_EMI_per_month       100000 non-null  float64\n",
      " 24  Amount_invested_monthly   100000 non-null  int64  \n",
      " 25  Payment_Behaviour         100000 non-null  object \n",
      " 26  Monthly_Balance           100000 non-null  float64\n",
      "dtypes: float64(6), int64(11), object(10)\n",
      "memory usage: 20.6+ MB\n"
     ]
    }
   ],
   "source": [
    "df.info()"
   ]
  },
  {
   "cell_type": "code",
   "execution_count": 8066,
   "id": "53a89119",
   "metadata": {},
   "outputs": [],
   "source": [
    "df.to_csv('../Data/Clean_Data.csv')"
   ]
  },
  {
   "cell_type": "code",
   "execution_count": null,
   "id": "0b35f1e6",
   "metadata": {},
   "outputs": [],
   "source": []
  }
 ],
 "metadata": {
  "kernelspec": {
   "display_name": "Python 3 (ipykernel)",
   "language": "python",
   "name": "python3"
  },
  "language_info": {
   "codemirror_mode": {
    "name": "ipython",
    "version": 3
   },
   "file_extension": ".py",
   "mimetype": "text/x-python",
   "name": "python",
   "nbconvert_exporter": "python",
   "pygments_lexer": "ipython3",
   "version": "3.9.13"
  }
 },
 "nbformat": 4,
 "nbformat_minor": 5
}
